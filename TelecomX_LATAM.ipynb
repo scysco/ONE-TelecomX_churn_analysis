{
 "cells": [
  {
   "cell_type": "markdown",
   "id": "895d499a",
   "metadata": {},
   "source": [
    "# 📊 Telecom X - Análisis de Evasión de Clientes"
   ]
  },
  {
   "cell_type": "markdown",
   "id": "4ae24d0e",
   "metadata": {},
   "source": [
    "## Introducción\n",
    "\n",
    "A continuación, se presenta un análisis sobre la problemática de la fuga de clientes en la empresa Telecom X. Este estudio ha sido elaborado con el máximo rigor profesional, aplicando los conocimientos y las técnicas adquiridas durante mi formación en Alura Latam.\n",
    "\n",
    "Este notebook documenta cada paso de mi proceso, desde la configuración inicial del proyecto y la carga de datos, hasta la limpieza profunda, el análisis exploratorio y, finalmente, la síntesis de insights accionables. Para darle un enfoque didáctico y para transparentar mi razonamiento aplicado, cada una de mis acciones/decisiones; las presentare detallando su: \n",
    "\n",
    "1) **Objetivo**, \n",
    "2) **Método** y \n",
    "3) **Justificación.**\n",
    "\n",
    "El objetivo final es proporcionar al equipo de negocio recomendaciones estratégicas basadas en evidencia y, al mismo tiempo, entregar al equipo de Data Science un dataset preparado para la construcción de modelos predictivos."
   ]
  },
  {
   "cell_type": "markdown",
   "id": "aeec7419",
   "metadata": {},
   "source": [
    "## 📌 1. Configuración y Extracción (**E**)"
   ]
  },
  {
   "cell_type": "markdown",
   "id": "93126228",
   "metadata": {},
   "source": [
    "### 🎯 1.1. Importación de Librerías\n",
    "\n",
    "**Objetivo**: Cargar todas las herramientas (librerías de Python) que necesitaremos para el análisis.\n",
    "\n",
    "**Método**: Importaré las librerías estándar para manipulación de datos, operaciones numéricas y visualización.\n",
    "\n",
    "**Justificación**:\n",
    "* *Pandas*: Es la herramienta fundamental en Python para la manipulación y el análisis de datos tabulares.\n",
    "* *NumPy*: Proporciona soporte para operaciones numéricas eficientes.\n",
    "* *Plotly*: Mi librería de visualización principal para generar gráficos interactivos, lo cual es invaluable durante la fase de exploración.\n",
    "* *Seaborn/Matplotlib*: Excelentes para ciertos tipos de gráficos estáticos, como matrices de correlación (heatmaps)."
   ]
  },
  {
   "cell_type": "code",
   "execution_count": 1,
   "id": "b7da029c",
   "metadata": {},
   "outputs": [
    {
     "name": "stdout",
     "output_type": "stream",
     "text": [
      "Librerías importadas exitosamente.\n"
     ]
    }
   ],
   "source": [
    "import pandas as pd\n",
    "import numpy as np\n",
    "import plotly.express as px\n",
    "import plotly.graph_objects as go\n",
    "from plotly.subplots import make_subplots\n",
    "# import seaborn as sns # al final no se utilizo pero lo agregue al inicio por si lo llegaba a ocupar\n",
    "# import matplotlib.pyplot as plt # igual no se utilizo\n",
    "\n",
    "# Configuraciones adicionales para una mejor visualización\n",
    "pd.set_option('display.max_columns', None)\n",
    "print(\"Librerías importadas exitosamente.\")"
   ]
  },
  {
   "cell_type": "markdown",
   "id": "3b94d8da",
   "metadata": {},
   "source": [
    "### 🎯 1.2. Extracción de Datos y Perfilamiento Inicial\n",
    "\n",
    "**Objetivo**: Cargar los datos desde la fuente y realizar una primera validación de su estructura y contenido. \n",
    "\n",
    "**Método**: Utilizaré la función read_json de Pandas para cargar los datos directamente desde la URL. Inmediatamente después verificaré las dimensiones del dataset, los tipos de datos y la presencia inicial de valores nulos.\n",
    "\n",
    "**Justificación**: *Nunca debemos asumir que los datos están listos para el análisis.* Este primer vistazo es crucial para detectar problemas estructurales de inmediato. Por ejemplo, los datos en formato JSON a menudo contienen estructuras anidadas que deben ser aplanadas (**\"normalizadas\"**) antes de que podamos analizarlas eficazmente."
   ]
  },
  {
   "cell_type": "code",
   "execution_count": 2,
   "id": "721c192e",
   "metadata": {},
   "outputs": [
    {
     "name": "stdout",
     "output_type": "stream",
     "text": [
      "¡Datos cargados exitosamente!\n"
     ]
    },
    {
     "data": {
      "text/html": [
       "<div>\n",
       "<style scoped>\n",
       "    .dataframe tbody tr th:only-of-type {\n",
       "        vertical-align: middle;\n",
       "    }\n",
       "\n",
       "    .dataframe tbody tr th {\n",
       "        vertical-align: top;\n",
       "    }\n",
       "\n",
       "    .dataframe thead th {\n",
       "        text-align: right;\n",
       "    }\n",
       "</style>\n",
       "<table border=\"1\" class=\"dataframe\">\n",
       "  <thead>\n",
       "    <tr style=\"text-align: right;\">\n",
       "      <th></th>\n",
       "      <th>customerID</th>\n",
       "      <th>Churn</th>\n",
       "      <th>customer</th>\n",
       "      <th>phone</th>\n",
       "      <th>internet</th>\n",
       "      <th>account</th>\n",
       "    </tr>\n",
       "  </thead>\n",
       "  <tbody>\n",
       "    <tr>\n",
       "      <th>0</th>\n",
       "      <td>0002-ORFBO</td>\n",
       "      <td>No</td>\n",
       "      <td>{'gender': 'Female', 'SeniorCitizen': 0, 'Part...</td>\n",
       "      <td>{'PhoneService': 'Yes', 'MultipleLines': 'No'}</td>\n",
       "      <td>{'InternetService': 'DSL', 'OnlineSecurity': '...</td>\n",
       "      <td>{'Contract': 'One year', 'PaperlessBilling': '...</td>\n",
       "    </tr>\n",
       "    <tr>\n",
       "      <th>1</th>\n",
       "      <td>0003-MKNFE</td>\n",
       "      <td>No</td>\n",
       "      <td>{'gender': 'Male', 'SeniorCitizen': 0, 'Partne...</td>\n",
       "      <td>{'PhoneService': 'Yes', 'MultipleLines': 'Yes'}</td>\n",
       "      <td>{'InternetService': 'DSL', 'OnlineSecurity': '...</td>\n",
       "      <td>{'Contract': 'Month-to-month', 'PaperlessBilli...</td>\n",
       "    </tr>\n",
       "    <tr>\n",
       "      <th>2</th>\n",
       "      <td>0004-TLHLJ</td>\n",
       "      <td>Yes</td>\n",
       "      <td>{'gender': 'Male', 'SeniorCitizen': 0, 'Partne...</td>\n",
       "      <td>{'PhoneService': 'Yes', 'MultipleLines': 'No'}</td>\n",
       "      <td>{'InternetService': 'Fiber optic', 'OnlineSecu...</td>\n",
       "      <td>{'Contract': 'Month-to-month', 'PaperlessBilli...</td>\n",
       "    </tr>\n",
       "    <tr>\n",
       "      <th>3</th>\n",
       "      <td>0011-IGKFF</td>\n",
       "      <td>Yes</td>\n",
       "      <td>{'gender': 'Male', 'SeniorCitizen': 1, 'Partne...</td>\n",
       "      <td>{'PhoneService': 'Yes', 'MultipleLines': 'No'}</td>\n",
       "      <td>{'InternetService': 'Fiber optic', 'OnlineSecu...</td>\n",
       "      <td>{'Contract': 'Month-to-month', 'PaperlessBilli...</td>\n",
       "    </tr>\n",
       "    <tr>\n",
       "      <th>4</th>\n",
       "      <td>0013-EXCHZ</td>\n",
       "      <td>Yes</td>\n",
       "      <td>{'gender': 'Female', 'SeniorCitizen': 1, 'Part...</td>\n",
       "      <td>{'PhoneService': 'Yes', 'MultipleLines': 'No'}</td>\n",
       "      <td>{'InternetService': 'Fiber optic', 'OnlineSecu...</td>\n",
       "      <td>{'Contract': 'Month-to-month', 'PaperlessBilli...</td>\n",
       "    </tr>\n",
       "  </tbody>\n",
       "</table>\n",
       "</div>"
      ],
      "text/plain": [
       "   customerID Churn                                           customer  \\\n",
       "0  0002-ORFBO    No  {'gender': 'Female', 'SeniorCitizen': 0, 'Part...   \n",
       "1  0003-MKNFE    No  {'gender': 'Male', 'SeniorCitizen': 0, 'Partne...   \n",
       "2  0004-TLHLJ   Yes  {'gender': 'Male', 'SeniorCitizen': 0, 'Partne...   \n",
       "3  0011-IGKFF   Yes  {'gender': 'Male', 'SeniorCitizen': 1, 'Partne...   \n",
       "4  0013-EXCHZ   Yes  {'gender': 'Female', 'SeniorCitizen': 1, 'Part...   \n",
       "\n",
       "                                             phone  \\\n",
       "0   {'PhoneService': 'Yes', 'MultipleLines': 'No'}   \n",
       "1  {'PhoneService': 'Yes', 'MultipleLines': 'Yes'}   \n",
       "2   {'PhoneService': 'Yes', 'MultipleLines': 'No'}   \n",
       "3   {'PhoneService': 'Yes', 'MultipleLines': 'No'}   \n",
       "4   {'PhoneService': 'Yes', 'MultipleLines': 'No'}   \n",
       "\n",
       "                                            internet  \\\n",
       "0  {'InternetService': 'DSL', 'OnlineSecurity': '...   \n",
       "1  {'InternetService': 'DSL', 'OnlineSecurity': '...   \n",
       "2  {'InternetService': 'Fiber optic', 'OnlineSecu...   \n",
       "3  {'InternetService': 'Fiber optic', 'OnlineSecu...   \n",
       "4  {'InternetService': 'Fiber optic', 'OnlineSecu...   \n",
       "\n",
       "                                             account  \n",
       "0  {'Contract': 'One year', 'PaperlessBilling': '...  \n",
       "1  {'Contract': 'Month-to-month', 'PaperlessBilli...  \n",
       "2  {'Contract': 'Month-to-month', 'PaperlessBilli...  \n",
       "3  {'Contract': 'Month-to-month', 'PaperlessBilli...  \n",
       "4  {'Contract': 'Month-to-month', 'PaperlessBilli...  "
      ]
     },
     "execution_count": 2,
     "metadata": {},
     "output_type": "execute_result"
    }
   ],
   "source": [
    "# URL de los datos en formato JSON proporcionado por Alura Latam\n",
    "url = 'https://raw.githubusercontent.com/ingridcristh/challenge2-data-science-LATAM/main/TelecomX_Data.json'\n",
    "\n",
    "# Se obtienen los datos y se convierten a un DataFrame de Pandas\n",
    "try:\n",
    "    df_raw = pd.read_json(url)\n",
    "    print(\"¡Datos cargados exitosamente!\")\n",
    "except Exception as e:\n",
    "    print(f\"Error al cargar los datos: {e}\")\n",
    "\n",
    "# Visualizamos las primeras 5 filas para una primera impresión\n",
    "df_raw.head()"
   ]
  },
  {
   "cell_type": "code",
   "execution_count": 3,
   "id": "bfa93389",
   "metadata": {},
   "outputs": [
    {
     "name": "stdout",
     "output_type": "stream",
     "text": [
      "Dimensiones del DataFrame (Filas, Columnas):\n",
      "(7267, 6)\n",
      "\n",
      "==================================================\n",
      "\n",
      "Información general y tipos de datos:\n",
      "<class 'pandas.core.frame.DataFrame'>\n",
      "RangeIndex: 7267 entries, 0 to 7266\n",
      "Data columns (total 6 columns):\n",
      " #   Column      Non-Null Count  Dtype \n",
      "---  ------      --------------  ----- \n",
      " 0   customerID  7267 non-null   object\n",
      " 1   Churn       7267 non-null   object\n",
      " 2   customer    7267 non-null   object\n",
      " 3   phone       7267 non-null   object\n",
      " 4   internet    7267 non-null   object\n",
      " 5   account     7267 non-null   object\n",
      "dtypes: object(6)\n",
      "memory usage: 340.8+ KB\n"
     ]
    }
   ],
   "source": [
    "# Realizando el perfilamiento inicial\n",
    "print(\"Dimensiones del DataFrame (Filas, Columnas):\")\n",
    "print(df_raw.shape)\n",
    "print(\"\\n\" + \"=\"*50 + \"\\n\") # (barra) solo estilizando\n",
    "print(\"Información general y tipos de datos:\")\n",
    "df_raw.info()"
   ]
  },
  {
   "cell_type": "markdown",
   "id": "32f1e2ad",
   "metadata": {},
   "source": [
    "#### 💡 Primeras Observaciones\n",
    "\n",
    "Basado en el perfilamiento inicial, he descubierto lo siguiente:\n",
    "\n",
    "1. **Dimensiones**: El dataset contiene **7267 filas** y **6 columnas**. Esto es muy sospechoso. porque supongo que un análisis de clientes debería tener muchas más de cuatro características.\n",
    "\n",
    "2. **Estructura Anidada**: Al ver mas detalladamente, noto que todas las columnas son de tipo object. La vista previa con .head() sugiere que contienen estructuras JSON anidadas. Asi que mi primer paso de transformación deberá ser **normalizar** o aplanar estos datos para que cada característica tenga su propia columna.\n",
    "\n",
    "3. **Valores Nulos**: `df.info()` indica que no hay valores nulos. Sin embargo, no debo hacer este tipo de conclusiones aun, ya que los valores nulos podrían estar ocultos dentro de las estructuras JSON anidadas. Deberé reevaluar la presencia de nulos después de **normalizar**."
   ]
  },
  {
   "cell_type": "markdown",
   "id": "7d3086c6",
   "metadata": {},
   "source": [
    "## 🔧 2. Transformación y Limpieza (**T**)"
   ]
  },
  {
   "cell_type": "markdown",
   "id": "fd875629",
   "metadata": {},
   "source": [
    "### 🎯 2.1. Normalización de Datos (Aplanamiento)\n",
    "\n",
    "**Objetivo**: Transformar el dataset de su formato anidado a un formato tabular plano, donde cada pieza de información tenga su propia columna.\n",
    "\n",
    "**Método**: Utilizaré la función `pd.json_normalize()` de Pandas. La aplicaré a cada una de las columnas complejas (`customer`, `account`, `phone`, `internet`) y luego uniré los resultados.\n",
    "\n",
    "**Justificación**: Sin este paso, no podríamos calcular correlaciones, crear visualizaciones efectivas."
   ]
  },
  {
   "cell_type": "code",
   "execution_count": 4,
   "id": "7f7f205f",
   "metadata": {},
   "outputs": [
    {
     "name": "stdout",
     "output_type": "stream",
     "text": [
      "Datos normalizados exitosamente.\n",
      "Nuevas dimensiones del DataFrame (Filas, Columnas): (7267, 21)\n"
     ]
    },
    {
     "data": {
      "text/html": [
       "<div>\n",
       "<style scoped>\n",
       "    .dataframe tbody tr th:only-of-type {\n",
       "        vertical-align: middle;\n",
       "    }\n",
       "\n",
       "    .dataframe tbody tr th {\n",
       "        vertical-align: top;\n",
       "    }\n",
       "\n",
       "    .dataframe thead th {\n",
       "        text-align: right;\n",
       "    }\n",
       "</style>\n",
       "<table border=\"1\" class=\"dataframe\">\n",
       "  <thead>\n",
       "    <tr style=\"text-align: right;\">\n",
       "      <th></th>\n",
       "      <th>customerID</th>\n",
       "      <th>Churn</th>\n",
       "      <th>gender</th>\n",
       "      <th>SeniorCitizen</th>\n",
       "      <th>Partner</th>\n",
       "      <th>Dependents</th>\n",
       "      <th>tenure</th>\n",
       "      <th>Contract</th>\n",
       "      <th>PaperlessBilling</th>\n",
       "      <th>PaymentMethod</th>\n",
       "      <th>Charges.Monthly</th>\n",
       "      <th>Charges.Total</th>\n",
       "      <th>PhoneService</th>\n",
       "      <th>MultipleLines</th>\n",
       "      <th>InternetService</th>\n",
       "      <th>OnlineSecurity</th>\n",
       "      <th>OnlineBackup</th>\n",
       "      <th>DeviceProtection</th>\n",
       "      <th>TechSupport</th>\n",
       "      <th>StreamingTV</th>\n",
       "      <th>StreamingMovies</th>\n",
       "    </tr>\n",
       "  </thead>\n",
       "  <tbody>\n",
       "    <tr>\n",
       "      <th>0</th>\n",
       "      <td>0002-ORFBO</td>\n",
       "      <td>No</td>\n",
       "      <td>Female</td>\n",
       "      <td>0</td>\n",
       "      <td>Yes</td>\n",
       "      <td>Yes</td>\n",
       "      <td>9</td>\n",
       "      <td>One year</td>\n",
       "      <td>Yes</td>\n",
       "      <td>Mailed check</td>\n",
       "      <td>65.6</td>\n",
       "      <td>593.3</td>\n",
       "      <td>Yes</td>\n",
       "      <td>No</td>\n",
       "      <td>DSL</td>\n",
       "      <td>No</td>\n",
       "      <td>Yes</td>\n",
       "      <td>No</td>\n",
       "      <td>Yes</td>\n",
       "      <td>Yes</td>\n",
       "      <td>No</td>\n",
       "    </tr>\n",
       "    <tr>\n",
       "      <th>1</th>\n",
       "      <td>0003-MKNFE</td>\n",
       "      <td>No</td>\n",
       "      <td>Male</td>\n",
       "      <td>0</td>\n",
       "      <td>No</td>\n",
       "      <td>No</td>\n",
       "      <td>9</td>\n",
       "      <td>Month-to-month</td>\n",
       "      <td>No</td>\n",
       "      <td>Mailed check</td>\n",
       "      <td>59.9</td>\n",
       "      <td>542.4</td>\n",
       "      <td>Yes</td>\n",
       "      <td>Yes</td>\n",
       "      <td>DSL</td>\n",
       "      <td>No</td>\n",
       "      <td>No</td>\n",
       "      <td>No</td>\n",
       "      <td>No</td>\n",
       "      <td>No</td>\n",
       "      <td>Yes</td>\n",
       "    </tr>\n",
       "    <tr>\n",
       "      <th>2</th>\n",
       "      <td>0004-TLHLJ</td>\n",
       "      <td>Yes</td>\n",
       "      <td>Male</td>\n",
       "      <td>0</td>\n",
       "      <td>No</td>\n",
       "      <td>No</td>\n",
       "      <td>4</td>\n",
       "      <td>Month-to-month</td>\n",
       "      <td>Yes</td>\n",
       "      <td>Electronic check</td>\n",
       "      <td>73.9</td>\n",
       "      <td>280.85</td>\n",
       "      <td>Yes</td>\n",
       "      <td>No</td>\n",
       "      <td>Fiber optic</td>\n",
       "      <td>No</td>\n",
       "      <td>No</td>\n",
       "      <td>Yes</td>\n",
       "      <td>No</td>\n",
       "      <td>No</td>\n",
       "      <td>No</td>\n",
       "    </tr>\n",
       "    <tr>\n",
       "      <th>3</th>\n",
       "      <td>0011-IGKFF</td>\n",
       "      <td>Yes</td>\n",
       "      <td>Male</td>\n",
       "      <td>1</td>\n",
       "      <td>Yes</td>\n",
       "      <td>No</td>\n",
       "      <td>13</td>\n",
       "      <td>Month-to-month</td>\n",
       "      <td>Yes</td>\n",
       "      <td>Electronic check</td>\n",
       "      <td>98.0</td>\n",
       "      <td>1237.85</td>\n",
       "      <td>Yes</td>\n",
       "      <td>No</td>\n",
       "      <td>Fiber optic</td>\n",
       "      <td>No</td>\n",
       "      <td>Yes</td>\n",
       "      <td>Yes</td>\n",
       "      <td>No</td>\n",
       "      <td>Yes</td>\n",
       "      <td>Yes</td>\n",
       "    </tr>\n",
       "    <tr>\n",
       "      <th>4</th>\n",
       "      <td>0013-EXCHZ</td>\n",
       "      <td>Yes</td>\n",
       "      <td>Female</td>\n",
       "      <td>1</td>\n",
       "      <td>Yes</td>\n",
       "      <td>No</td>\n",
       "      <td>3</td>\n",
       "      <td>Month-to-month</td>\n",
       "      <td>Yes</td>\n",
       "      <td>Mailed check</td>\n",
       "      <td>83.9</td>\n",
       "      <td>267.4</td>\n",
       "      <td>Yes</td>\n",
       "      <td>No</td>\n",
       "      <td>Fiber optic</td>\n",
       "      <td>No</td>\n",
       "      <td>No</td>\n",
       "      <td>No</td>\n",
       "      <td>Yes</td>\n",
       "      <td>Yes</td>\n",
       "      <td>No</td>\n",
       "    </tr>\n",
       "  </tbody>\n",
       "</table>\n",
       "</div>"
      ],
      "text/plain": [
       "   customerID Churn  gender  SeniorCitizen Partner Dependents  tenure  \\\n",
       "0  0002-ORFBO    No  Female              0     Yes        Yes       9   \n",
       "1  0003-MKNFE    No    Male              0      No         No       9   \n",
       "2  0004-TLHLJ   Yes    Male              0      No         No       4   \n",
       "3  0011-IGKFF   Yes    Male              1     Yes         No      13   \n",
       "4  0013-EXCHZ   Yes  Female              1     Yes         No       3   \n",
       "\n",
       "         Contract PaperlessBilling     PaymentMethod  Charges.Monthly  \\\n",
       "0        One year              Yes      Mailed check             65.6   \n",
       "1  Month-to-month               No      Mailed check             59.9   \n",
       "2  Month-to-month              Yes  Electronic check             73.9   \n",
       "3  Month-to-month              Yes  Electronic check             98.0   \n",
       "4  Month-to-month              Yes      Mailed check             83.9   \n",
       "\n",
       "  Charges.Total PhoneService MultipleLines InternetService OnlineSecurity  \\\n",
       "0         593.3          Yes            No             DSL             No   \n",
       "1         542.4          Yes           Yes             DSL             No   \n",
       "2        280.85          Yes            No     Fiber optic             No   \n",
       "3       1237.85          Yes            No     Fiber optic             No   \n",
       "4         267.4          Yes            No     Fiber optic             No   \n",
       "\n",
       "  OnlineBackup DeviceProtection TechSupport StreamingTV StreamingMovies  \n",
       "0          Yes               No         Yes         Yes              No  \n",
       "1           No               No          No          No             Yes  \n",
       "2           No              Yes          No          No              No  \n",
       "3          Yes              Yes          No         Yes             Yes  \n",
       "4           No               No         Yes         Yes              No  "
      ]
     },
     "execution_count": 4,
     "metadata": {},
     "output_type": "execute_result"
    }
   ],
   "source": [
    "from pandas import json_normalize\n",
    "\n",
    "# Normalizar las columnas anidadas en sus propios DataFrames\n",
    "df_customer = json_normalize(df_raw['customer'])\n",
    "df_account = json_normalize(df_raw['account'])\n",
    "df_phone = json_normalize(df_raw['phone'])\n",
    "df_internet = json_normalize(df_raw['internet'])\n",
    "\n",
    "# Unir los nuevos DataFrames con las columnas originales que queremos conservar\n",
    "df_normalized = pd.concat([\n",
    "    df_raw[['customerID', 'Churn']],\n",
    "    df_customer,\n",
    "    df_account,\n",
    "    df_phone,\n",
    "    df_internet\n",
    "], axis=1)\n",
    "\n",
    "print(\"Datos normalizados exitosamente.\")\n",
    "print(\"Nuevas dimensiones del DataFrame (Filas, Columnas):\", df_normalized.shape)\n",
    "df_normalized.head()"
   ]
  },
  {
   "cell_type": "markdown",
   "id": "1cacba23",
   "metadata": {},
   "source": [
    "### 🎯 2.2. Segundo Perfilamiento\n",
    "\n",
    "**Objetivo**: Ahora con los datos aplanados, debo realizar una nueva y más profunda verificación de su calidad.\n",
    "\n",
    "**Método**: Volveré a usar `.info()` y, de manera crucial, `.isnull().sum()` para obtener un recuento exacto de los valores faltantes por columna.\n",
    "\n",
    "**Justificación**: Al haber **nomralizado** los datos, ahora puedo ver ampliamente posibles problemas que antes estaban ocultos."
   ]
  },
  {
   "cell_type": "code",
   "execution_count": 5,
   "id": "a48fe171",
   "metadata": {},
   "outputs": [
    {
     "name": "stdout",
     "output_type": "stream",
     "text": [
      "<class 'pandas.core.frame.DataFrame'>\n",
      "RangeIndex: 7267 entries, 0 to 7266\n",
      "Data columns (total 21 columns):\n",
      " #   Column            Non-Null Count  Dtype  \n",
      "---  ------            --------------  -----  \n",
      " 0   customerID        7267 non-null   object \n",
      " 1   Churn             7267 non-null   object \n",
      " 2   gender            7267 non-null   object \n",
      " 3   SeniorCitizen     7267 non-null   int64  \n",
      " 4   Partner           7267 non-null   object \n",
      " 5   Dependents        7267 non-null   object \n",
      " 6   tenure            7267 non-null   int64  \n",
      " 7   Contract          7267 non-null   object \n",
      " 8   PaperlessBilling  7267 non-null   object \n",
      " 9   PaymentMethod     7267 non-null   object \n",
      " 10  Charges.Monthly   7267 non-null   float64\n",
      " 11  Charges.Total     7267 non-null   object \n",
      " 12  PhoneService      7267 non-null   object \n",
      " 13  MultipleLines     7267 non-null   object \n",
      " 14  InternetService   7267 non-null   object \n",
      " 15  OnlineSecurity    7267 non-null   object \n",
      " 16  OnlineBackup      7267 non-null   object \n",
      " 17  DeviceProtection  7267 non-null   object \n",
      " 18  TechSupport       7267 non-null   object \n",
      " 19  StreamingTV       7267 non-null   object \n",
      " 20  StreamingMovies   7267 non-null   object \n",
      "dtypes: float64(1), int64(2), object(18)\n",
      "memory usage: 1.2+ MB\n"
     ]
    }
   ],
   "source": [
    "# Obtener información detallada del nuevo DataFrame\n",
    "df_normalized.info()"
   ]
  },
  {
   "cell_type": "markdown",
   "id": "39312f9a",
   "metadata": {},
   "source": [
    "#### ✋ Alto\n",
    "\n",
    "Aunque el análisis preliminar no arroja valores nulos (NaN), la inspección de los tipos de datos podría revelar una inconsistencia. Esta situación sugiere la presencia de valores vacíos que fueron interpretados como cadenas de texto (\"\") en lugar de nulos, lo cual explicaría el tipado incorrecto en las columnas afectadas. Aquí me enfrento a la primera decisión de abordaje, ya que me imagino varias maneras de dar solución."
   ]
  },
  {
   "cell_type": "markdown",
   "id": "7378d492",
   "metadata": {},
   "source": [
    "##### 🎯 2.2.1. Manejo de Inconsistencias: Strings Vacíos\n",
    "\n",
    "**Objetivo**: Identificar y estandarizar todos los valores que vacíos o representados como \"\", para que sean reconocidos como valores NaN.\n",
    "\n",
    "**Método**: Utilizaré el método `.replace()` de Pandas con una **expresión regular** `(r'^\\s*$')` para buscar en todo el DataFrame cualquier celda que contenga únicamente espacios en blanco (o que esté completamente vacía) y reemplazarla con `np.nan`.\n",
    "\n",
    "**Justificación**: Al convertir todos los tipos de \"vacíos\" a NaN, podre utilizar de manera fiable las funciones de Pandas como `.isnull().sum()`, `.fillna()` y `.dropna()` para manejar los datos faltantes."
   ]
  },
  {
   "cell_type": "code",
   "execution_count": 6,
   "id": "1be27213",
   "metadata": {},
   "outputs": [
    {
     "name": "stdout",
     "output_type": "stream",
     "text": [
      "Strings vacíos reemplazados por NaN.\n"
     ]
    }
   ],
   "source": [
    "# Crear una copia para el proceso de limpieza\n",
    "df_clean = df_normalized.copy()\n",
    "\n",
    "# Reemplazar strings vacíos o con solo espacios en blanco por NaN en todo el DataFrame\n",
    "df_clean.replace(r'^\\s*$', np.nan, regex=True, inplace=True)\n",
    "\n",
    "print(\"Strings vacíos reemplazados por NaN.\")"
   ]
  },
  {
   "cell_type": "markdown",
   "id": "4d8ca426",
   "metadata": {},
   "source": [
    "### 🎯 2.3. Tercer Perfilamiento\n",
    "\n",
    "**Objetivo**: Con los valores vacíos estandarizados, vamos a re-evaluar la calidad de los datos.\n",
    "\n",
    "**Método**: Ejecutaré `.isnull().sum()`.\n",
    "\n",
    "**Justificación**: Se espera que el resultado de este comando nos dará ahora sí el panorama real de los datos faltantes."
   ]
  },
  {
   "cell_type": "code",
   "execution_count": 7,
   "id": "4806d0e5",
   "metadata": {},
   "outputs": [
    {
     "name": "stdout",
     "output_type": "stream",
     "text": [
      "Conteo de valores nulos por columna:\n"
     ]
    },
    {
     "data": {
      "text/plain": [
       "customerID            0\n",
       "Churn               224\n",
       "gender                0\n",
       "SeniorCitizen         0\n",
       "Partner               0\n",
       "Dependents            0\n",
       "tenure                0\n",
       "Contract              0\n",
       "PaperlessBilling      0\n",
       "PaymentMethod         0\n",
       "Charges.Monthly       0\n",
       "Charges.Total        11\n",
       "PhoneService          0\n",
       "MultipleLines         0\n",
       "InternetService       0\n",
       "OnlineSecurity        0\n",
       "OnlineBackup          0\n",
       "DeviceProtection      0\n",
       "TechSupport           0\n",
       "StreamingTV           0\n",
       "StreamingMovies       0\n",
       "dtype: int64"
      ]
     },
     "execution_count": 7,
     "metadata": {},
     "output_type": "execute_result"
    }
   ],
   "source": [
    "# Verificar de nuevo la cantidad de valores nulos por columna\n",
    "print(\"Conteo de valores nulos por columna:\")\n",
    "df_clean.isnull().sum()"
   ]
  },
  {
   "cell_type": "markdown",
   "id": "3e2c8130",
   "metadata": {},
   "source": [
    "#### 🎯 2.3.1. Investigación de Nulos en la Columna Churn\n",
    "\n",
    "**Objetivo**: Perfilar los 224 clientes con datos de Churn nulos para determinar si constituyen un subgrupo con características específicas. El fin es tomar una decisión informada sobre cómo manejarlos, en lugar de simplemente eliminarlos.\n",
    "\n",
    "**Método**: Creare dos DataFrames temporales: uno con los 224 clientes con Churn nulo (`df_null_churn`) y otro con el resto de los clientes (`df_known_churn`). Realizare un análisis comparativo entre ambos grupos. Específicamente, comparare:\n",
    "* Las estadísticas descriptivas de las variables numéricas.\n",
    "* La distribución de variables categóricas clave.\n",
    "\n",
    "**Justificación**: La eliminación de datos es el último recurso. Si estos 224 clientes pertenecen a un grupo específico (por ejemplo, todos son clientes corporativos, todos tienen un tipo de contrato especial, o todos son registros de prueba), eliminarlos podría sesgar mi análisis general. "
   ]
  },
  {
   "cell_type": "code",
   "execution_count": 8,
   "id": "d4df92ad",
   "metadata": {},
   "outputs": [
    {
     "name": "stdout",
     "output_type": "stream",
     "text": [
      "--- Perfil de Clientes con Churn NULO ---\n",
      "Número de clientes: 224\n",
      "\n",
      "Análisis Numérico:\n",
      "           tenure  Charges.Monthly\n",
      "count  224.000000       224.000000\n",
      "mean    31.571429        63.412277\n",
      "std     24.998552        31.388712\n",
      "min      1.000000        18.750000\n",
      "25%      7.000000        28.425000\n",
      "50%     29.000000        69.100000\n",
      "75%     56.000000        90.412500\n",
      "max     72.000000       115.550000\n",
      "\n",
      "Análisis Categórico (Tipo de Contrato):\n",
      "Contract\n",
      "Month-to-month    0.580357\n",
      "Two year          0.214286\n",
      "One year          0.205357\n",
      "Name: proportion, dtype: float64\n",
      "\n",
      "==================================================\n",
      "\n",
      "--- Perfil de Clientes con Churn CONOCIDO ---\n",
      "Número de clientes: 7043\n",
      "\n",
      "Análisis Numérico:\n",
      "            tenure  Charges.Monthly\n",
      "count  7043.000000      7043.000000\n",
      "mean     32.371149        64.761692\n",
      "std      24.559481        30.090047\n",
      "min       0.000000        18.250000\n",
      "25%       9.000000        35.500000\n",
      "50%      29.000000        70.350000\n",
      "75%      55.000000        89.850000\n",
      "max      72.000000       118.750000\n",
      "\n",
      "Análisis Categórico (Tipo de Contrato):\n",
      "Contract\n",
      "Month-to-month    0.550192\n",
      "Two year          0.240664\n",
      "One year          0.209144\n",
      "Name: proportion, dtype: float64\n"
     ]
    }
   ],
   "source": [
    "# 1. Crear los dos DataFrames para la comparación\n",
    "df_null_churn = df_clean[df_clean['Churn'].isnull()]\n",
    "df_known_churn = df_clean[df_clean['Churn'].notnull()]\n",
    "\n",
    "print(\"--- Perfil de Clientes con Churn NULO ---\")\n",
    "print(f\"Número de clientes: {df_null_churn.shape[0]}\")\n",
    "print(\"\\nAnálisis Numérico:\")\n",
    "print(df_null_churn[['tenure', 'Charges.Monthly', 'Charges.Total']].describe())\n",
    "print(\"\\nAnálisis Categórico (Tipo de Contrato):\")\n",
    "print(df_null_churn['Contract'].value_counts(normalize=True))\n",
    "\n",
    "print(\"\\n\" + \"=\"*50 + \"\\n\") # barra de apoyo visual\n",
    "\n",
    "print(\"--- Perfil de Clientes con Churn CONOCIDO ---\")\n",
    "print(f\"Número de clientes: {df_known_churn.shape[0]}\")\n",
    "print(\"\\nAnálisis Numérico:\")\n",
    "print(df_known_churn[['tenure', 'Charges.Monthly', 'Charges.Total']].describe())\n",
    "print(\"\\nAnálisis Categórico (Tipo de Contrato):\")\n",
    "print(df_known_churn['Contract'].value_counts(normalize=True))"
   ]
  },
  {
   "cell_type": "markdown",
   "id": "8f1f3aa0",
   "metadata": {},
   "source": [
    "💡 Interpretación de la Evidencia\n",
    "\n",
    "Al comparar los dos perfiles, observo:\n",
    "\n",
    "**Variables Numéricas**: La antigüedad media (`tenure`), los cargos mensuales (`Charges.Monthly`) y los cargos totales (`Charges.Total`) son estadísticamente muy similares en ambos grupos. Por ejemplo, la antigüedad media es de ~32 meses en ambos casos, y los cargos mensuales promedian ~$64.\n",
    "\n",
    "**Variables Categóricas**: La distribución de los tipos de contrato es casi idéntica. En ambos grupos, el ~55% de los clientes tienen contratos mes a mes, el ~24% tienen contratos de dos años y el ~21% de un año.\n",
    "\n",
    "**Conclusión**: El análisis demuestra que los 224 clientes con `Churn` nulo **no forman un grupo distinto**. Sus características demográficas, de uso y de contratación **son representativas de la población general de clientes**. Esto me sugiere que la falta de datos de `Churn` es un **problema aleatorio** (posiblemente un error de registro o un fallo en la recolección de datos), y no se debe a que estos clientes pertenezcan a una categoría especial. Mi teoria fue erronea, pero ahora puedo avanzar con más confianza."
   ]
  },
  {
   "cell_type": "markdown",
   "id": "e6c295ef",
   "metadata": {},
   "source": [
    "#### 🎯 2.3.2. Acción Final sobre Nulos en `Churn`\n",
    "\n",
    "**Objetivo**: Tomar una acción final y justificada sobre los 224 registros con `Churn` nulo.\n",
    "\n",
    "**Método**: AHora que confirme que estos registros no representan un subgrupo único y que la información faltante es la variable objetivo misma, procedo con la eliminación de estas filas.\n",
    "\n",
    "**Justificación**: Mi investigación ha descartado la posibilidad de que los nulos en `Churn` identifiquen a un segmento de clientes particular. Su eliminación es, por tanto, la acción metodológicamente más sólida, asegurando que el análisis se base únicamente en datos completos y verificables."
   ]
  },
  {
   "cell_type": "code",
   "execution_count": 9,
   "id": "098fa4e9",
   "metadata": {},
   "outputs": [
    {
     "name": "stdout",
     "output_type": "stream",
     "text": [
      "Número de filas ANTES de la eliminación: 7267\n",
      "Número de filas DESPUÉS de la eliminación: 7043\n"
     ]
    }
   ],
   "source": [
    "print(f\"Número de filas ANTES de la eliminación: {df_clean.shape[0]}\")\n",
    "\n",
    "# Eliminamos las filas donde 'Churn' es nulo\n",
    "df_clean.dropna(subset=['Churn'], inplace=True)\n",
    "\n",
    "print(f\"Número de filas DESPUÉS de la eliminación: {df_clean.shape[0]}\")"
   ]
  },
  {
   "cell_type": "markdown",
   "id": "a5fa7bfd",
   "metadata": {},
   "source": [
    "#### 🎯 2.3.3. Investigación de Nulos en Charges.Total\n",
    "\n",
    "**Objetivo**: Investigar las 11 filas restantes donde la columna Charges.Total es nula.\n",
    "\n",
    "**Método**: Mi hipótesis de que estos nulos están directamente relacionados con la antigüedad (tenure) del cliente y para verificarlo, filtrare el DataFrame `df_clean` para aislar y examinar únicamente estas 11 filas.\n",
    "\n",
    "**Justificación**: En los datos de facturación por suscripción, es común que los valores totales faltantes correspondan a **clientes nuevos** que aún no han cumplido su primer ciclo de facturación, por lo que si confirmo esta relación me permitira aplicar una imputación basada en la lógica del negocio en lugar de una suposición estadística (como la media o la mediana), lo cual es considerablemente más preciso."
   ]
  },
  {
   "cell_type": "code",
   "execution_count": 10,
   "id": "131c31d4",
   "metadata": {},
   "outputs": [
    {
     "data": {
      "text/html": [
       "<div>\n",
       "<style scoped>\n",
       "    .dataframe tbody tr th:only-of-type {\n",
       "        vertical-align: middle;\n",
       "    }\n",
       "\n",
       "    .dataframe tbody tr th {\n",
       "        vertical-align: top;\n",
       "    }\n",
       "\n",
       "    .dataframe thead th {\n",
       "        text-align: right;\n",
       "    }\n",
       "</style>\n",
       "<table border=\"1\" class=\"dataframe\">\n",
       "  <thead>\n",
       "    <tr style=\"text-align: right;\">\n",
       "      <th></th>\n",
       "      <th>tenure</th>\n",
       "      <th>Charges.Monthly</th>\n",
       "      <th>Charges.Total</th>\n",
       "    </tr>\n",
       "  </thead>\n",
       "  <tbody>\n",
       "    <tr>\n",
       "      <th>975</th>\n",
       "      <td>0</td>\n",
       "      <td>56.05</td>\n",
       "      <td>NaN</td>\n",
       "    </tr>\n",
       "    <tr>\n",
       "      <th>1775</th>\n",
       "      <td>0</td>\n",
       "      <td>20.00</td>\n",
       "      <td>NaN</td>\n",
       "    </tr>\n",
       "    <tr>\n",
       "      <th>1955</th>\n",
       "      <td>0</td>\n",
       "      <td>61.90</td>\n",
       "      <td>NaN</td>\n",
       "    </tr>\n",
       "    <tr>\n",
       "      <th>2075</th>\n",
       "      <td>0</td>\n",
       "      <td>19.70</td>\n",
       "      <td>NaN</td>\n",
       "    </tr>\n",
       "    <tr>\n",
       "      <th>2232</th>\n",
       "      <td>0</td>\n",
       "      <td>20.25</td>\n",
       "      <td>NaN</td>\n",
       "    </tr>\n",
       "    <tr>\n",
       "      <th>2308</th>\n",
       "      <td>0</td>\n",
       "      <td>25.35</td>\n",
       "      <td>NaN</td>\n",
       "    </tr>\n",
       "    <tr>\n",
       "      <th>2930</th>\n",
       "      <td>0</td>\n",
       "      <td>73.35</td>\n",
       "      <td>NaN</td>\n",
       "    </tr>\n",
       "    <tr>\n",
       "      <th>3134</th>\n",
       "      <td>0</td>\n",
       "      <td>25.75</td>\n",
       "      <td>NaN</td>\n",
       "    </tr>\n",
       "    <tr>\n",
       "      <th>3203</th>\n",
       "      <td>0</td>\n",
       "      <td>52.55</td>\n",
       "      <td>NaN</td>\n",
       "    </tr>\n",
       "    <tr>\n",
       "      <th>4169</th>\n",
       "      <td>0</td>\n",
       "      <td>80.85</td>\n",
       "      <td>NaN</td>\n",
       "    </tr>\n",
       "    <tr>\n",
       "      <th>5599</th>\n",
       "      <td>0</td>\n",
       "      <td>19.85</td>\n",
       "      <td>NaN</td>\n",
       "    </tr>\n",
       "  </tbody>\n",
       "</table>\n",
       "</div>"
      ],
      "text/plain": [
       "      tenure  Charges.Monthly Charges.Total\n",
       "975        0            56.05           NaN\n",
       "1775       0            20.00           NaN\n",
       "1955       0            61.90           NaN\n",
       "2075       0            19.70           NaN\n",
       "2232       0            20.25           NaN\n",
       "2308       0            25.35           NaN\n",
       "2930       0            73.35           NaN\n",
       "3134       0            25.75           NaN\n",
       "3203       0            52.55           NaN\n",
       "4169       0            80.85           NaN\n",
       "5599       0            19.85           NaN"
      ]
     },
     "execution_count": 10,
     "metadata": {},
     "output_type": "execute_result"
    }
   ],
   "source": [
    "# Filtramos el dataframe para ver las filas con Charges.Total nulo y seleccionamos columnas clave para el análisis.\n",
    "df_clean[df_clean['Charges.Total'].isnull()][['tenure', 'Charges.Monthly', 'Charges.Total']]"
   ]
  },
  {
   "cell_type": "markdown",
   "id": "bab40ce4",
   "metadata": {},
   "source": [
    "💡 Interpretación de la Evidencia\n",
    "\n",
    "***¡Eureka!*** en las 11 filas donde `Charges.Total` es nulo, el valor en la columna `tenure` (**antigüedad**) es 0. Por lo tanto mi hipótesis queda confirmada. estos registros **pertenecen a clientes nuevos** que, al tener 0 meses de antigüedad, lógicamente aún no han acumulado ningún cargo total, asi que El valor nulo representa un **0**."
   ]
  },
  {
   "cell_type": "markdown",
   "id": "6e57ea94",
   "metadata": {},
   "source": [
    "#### 🎯 2.3.4. Acción Final sobre Nulos en Charges.Total\n",
    "\n",
    "**Objetivo**: Imputar los 11 valores nulos en `Charges.Total` con un valor que refleje la situación comercial de estos clientes.\n",
    "\n",
    "**Método**: Se rellenarán con el número 0.0 utilizando el método `.fillna()`, para después, convertir toda la columna a tipo float.\n",
    "\n",
    "**Justificación**: Habiendo probado que estos nulos corresponden a clientes con 0 meses de antigüedad, imputarlos con 0.0 es la única acción lógicamente correcta, ya que esto reflejaría su estado de facturación real.\n",
    "\n"
   ]
  },
  {
   "cell_type": "code",
   "execution_count": 11,
   "id": "84382516",
   "metadata": {},
   "outputs": [
    {
     "name": "stdout",
     "output_type": "stream",
     "text": [
      "Nulos restantes en 'Charges.Total': 0\n",
      "Nuevo tipo de dato de 'Charges.Total': float64\n"
     ]
    }
   ],
   "source": [
    "# Rellenamos los valores nulos en 'Charges.Total' con 0\n",
    "df_clean['Charges.Total'] = df_clean['Charges.Total'].fillna(0)\n",
    "\n",
    "# Verificamos que ya no quedan nulos en la columna\n",
    "print(f\"Nulos restantes en 'Charges.Total': {df_clean['Charges.Total'].isnull().sum()}\")\n",
    "\n",
    "# Ahora convertimos la columna a un tipo de dato numérico\n",
    "df_clean['Charges.Total'] = pd.to_numeric(df_clean['Charges.Total'])\n",
    "\n",
    "print(f\"Nuevo tipo de dato de 'Charges.Total': {df_clean['Charges.Total'].dtype}\")"
   ]
  },
  {
   "cell_type": "markdown",
   "id": "e00b0ace",
   "metadata": {},
   "source": [
    "### 🎯 2.4 Optimización de Tipos de Datos"
   ]
  },
  {
   "cell_type": "markdown",
   "id": "11ffde93",
   "metadata": {},
   "source": [
    "#### 🎯 2.4.1 Exploración de Columnas de Tipo Object\n",
    "\n",
    "**Objetivo**: Investigar sistemáticamente todas las columnas de tipo object restantes para clasificar su contenido y determinar el tipo de dato más óptimo para cada una.\n",
    "\n",
    "**Método**: Creare un bucle que itere a través de todas las columnas del DataFrame `df_clean`. Para cada columna de tipo `object`, se imprimirá su nombre, el número de valores únicos que contiene y una muestra de esos valores únicos.\n",
    "\n",
    "**Justificación**: Este análisis exploratorio es crucial para tomar decisiones informadas sobre la ***optimización de tipos de datos***."
   ]
  },
  {
   "cell_type": "code",
   "execution_count": 12,
   "id": "ff695022",
   "metadata": {},
   "outputs": [
    {
     "name": "stdout",
     "output_type": "stream",
     "text": [
      "--- Análisis de Cardinalidad de Columnas 'object' ---\n",
      "\n",
      "Columna: 'customerID'\n",
      "  - Número de valores únicos: 7043\n",
      "  - Muestra de valores: ['0002-ORFBO' '0003-MKNFE' '0004-TLHLJ' '0011-IGKFF' '0013-EXCHZ']\n",
      "\n",
      "Columna: 'Churn'\n",
      "  - Número de valores únicos: 2\n",
      "  - Muestra de valores: ['No' 'Yes']\n",
      "\n",
      "Columna: 'gender'\n",
      "  - Número de valores únicos: 2\n",
      "  - Muestra de valores: ['Female' 'Male']\n",
      "\n",
      "Columna: 'Partner'\n",
      "  - Número de valores únicos: 2\n",
      "  - Muestra de valores: ['Yes' 'No']\n",
      "\n",
      "Columna: 'Dependents'\n",
      "  - Número de valores únicos: 2\n",
      "  - Muestra de valores: ['Yes' 'No']\n",
      "\n",
      "Columna: 'Contract'\n",
      "  - Número de valores únicos: 3\n",
      "  - Muestra de valores: ['One year' 'Month-to-month' 'Two year']\n",
      "\n",
      "Columna: 'PaperlessBilling'\n",
      "  - Número de valores únicos: 2\n",
      "  - Muestra de valores: ['Yes' 'No']\n",
      "\n",
      "Columna: 'PaymentMethod'\n",
      "  - Número de valores únicos: 4\n",
      "  - Muestra de valores: ['Mailed check' 'Electronic check' 'Credit card (automatic)'\n",
      " 'Bank transfer (automatic)']\n",
      "\n",
      "Columna: 'PhoneService'\n",
      "  - Número de valores únicos: 2\n",
      "  - Muestra de valores: ['Yes' 'No']\n",
      "\n",
      "Columna: 'MultipleLines'\n",
      "  - Número de valores únicos: 3\n",
      "  - Muestra de valores: ['No' 'Yes' 'No phone service']\n",
      "\n",
      "Columna: 'InternetService'\n",
      "  - Número de valores únicos: 3\n",
      "  - Muestra de valores: ['DSL' 'Fiber optic' 'No']\n",
      "\n",
      "Columna: 'OnlineSecurity'\n",
      "  - Número de valores únicos: 3\n",
      "  - Muestra de valores: ['No' 'Yes' 'No internet service']\n",
      "\n",
      "Columna: 'OnlineBackup'\n",
      "  - Número de valores únicos: 3\n",
      "  - Muestra de valores: ['Yes' 'No' 'No internet service']\n",
      "\n",
      "Columna: 'DeviceProtection'\n",
      "  - Número de valores únicos: 3\n",
      "  - Muestra de valores: ['No' 'Yes' 'No internet service']\n",
      "\n",
      "Columna: 'TechSupport'\n",
      "  - Número de valores únicos: 3\n",
      "  - Muestra de valores: ['Yes' 'No' 'No internet service']\n",
      "\n",
      "Columna: 'StreamingTV'\n",
      "  - Número de valores únicos: 3\n",
      "  - Muestra de valores: ['Yes' 'No' 'No internet service']\n",
      "\n",
      "Columna: 'StreamingMovies'\n",
      "  - Número de valores únicos: 3\n",
      "  - Muestra de valores: ['No' 'Yes' 'No internet service']\n"
     ]
    }
   ],
   "source": [
    "print(\"--- Análisis de Cardinalidad de Columnas 'object' ---\")\n",
    "\n",
    "# Iteramos sobre cada columna del DataFrame\n",
    "for col in df_clean.columns:\n",
    "    # Verificamos si la columna es de tipo 'object'\n",
    "    if df_clean[col].dtype == 'object':\n",
    "        unique_count = df_clean[col].nunique()\n",
    "        print(f\"\\nColumna: '{col}'\")\n",
    "        print(f\"  - Número de valores únicos: {unique_count}\")\n",
    "        print(f\"  - Muestra de valores: {df_clean[col].unique()[:5]}\") # Mostramos hasta 5 valores únicos como ejemplo"
   ]
  },
  {
   "cell_type": "markdown",
   "id": "5382f054",
   "metadata": {},
   "source": [
    "#### 🎯 2.4.2 Transformación de Tipos de Datos\n",
    "\n",
    "**Objetivo**: Convertir las columnas de tipo object a tipos de datos más específicos y eficientes, basándonos en la clasificación obtenida en el paso exploratorio anterior.\n",
    "\n",
    "**Método**:\n",
    "\n",
    "* ***Variables Binarias***: Identificare explícitamente todas las columnas que contienen únicamente valores `'Yes'/'No'` (o `'Male'/'Female'`) y se mapearán a `1` y `0` respectivamente. Esto incluye la variable objetivo Churn.\n",
    "\n",
    "* ***Variables Categóricas***: Las columnas con un número limitado de categorías de texto (ej. `'Contract'`, `'InternetService'`, y las que incluyen `'No internet service'`) se convertirán directamente al tipo category de Pandas.\n",
    "\n",
    "* ***Identificadores***: La columna customerID, al ser un identificador único, la mantendre como tipo object.\n",
    "\n",
    "**Justificación**: Esta transformación esta justificada por la exploración previa, y se espera reducir drásticamente el uso de memoria, la conversión de variables binarias a números (`0` y `1`) es un paso de preprocesamiento estándar y esencial para el modelado, por otro lado el tipo category es mucho más eficiente en memoria y rendimiento que object para columnas con texto repetido. Segun la documentacion, internamente `Pandas` almacena las categorías una sola vez y luego usa códigos enteros para referenciarse a ellas, lo que acelera las operaciones de agrupación y unión."
   ]
  },
  {
   "cell_type": "code",
   "execution_count": 13,
   "id": "311b7ab6",
   "metadata": {},
   "outputs": [
    {
     "name": "stdout",
     "output_type": "stream",
     "text": [
      "Tipos de datos optimizados. Verificando el nuevo estado del DataFrame:\n",
      "<class 'pandas.core.frame.DataFrame'>\n",
      "Index: 7043 entries, 0 to 7266\n",
      "Data columns (total 21 columns):\n",
      " #   Column            Non-Null Count  Dtype   \n",
      "---  ------            --------------  -----   \n",
      " 0   customerID        7043 non-null   object  \n",
      " 1   Churn             7043 non-null   int64   \n",
      " 2   gender            7043 non-null   int64   \n",
      " 3   SeniorCitizen     7043 non-null   int64   \n",
      " 4   Partner           7043 non-null   int64   \n",
      " 5   Dependents        7043 non-null   int64   \n",
      " 6   tenure            7043 non-null   int64   \n",
      " 7   Contract          7043 non-null   category\n",
      " 8   PaperlessBilling  7043 non-null   int64   \n",
      " 9   PaymentMethod     7043 non-null   category\n",
      " 10  Charges.Monthly   7043 non-null   float64 \n",
      " 11  Charges.Total     7043 non-null   float64 \n",
      " 12  PhoneService      7043 non-null   int64   \n",
      " 13  MultipleLines     7043 non-null   category\n",
      " 14  InternetService   7043 non-null   category\n",
      " 15  OnlineSecurity    7043 non-null   category\n",
      " 16  OnlineBackup      7043 non-null   category\n",
      " 17  DeviceProtection  7043 non-null   category\n",
      " 18  TechSupport       7043 non-null   category\n",
      " 19  StreamingTV       7043 non-null   category\n",
      " 20  StreamingMovies   7043 non-null   category\n",
      "dtypes: category(10), float64(2), int64(8), object(1)\n",
      "memory usage: 730.4+ KB\n"
     ]
    }
   ],
   "source": [
    "# Hacemos una copia para trabajar de forma segura\n",
    "df_final = df_clean.copy()\n",
    "\n",
    "# 1. Mapeo de columnas estrictamente binarias a 1/0\n",
    "binary_cols_yes_no = ['Partner', 'Dependents', 'PaperlessBilling', 'PhoneService']\n",
    "for col in binary_cols_yes_no:\n",
    "    df_final[col] = df_final[col].map({'Yes': 1, 'No': 0})\n",
    "\n",
    "# Mapeo específico para 'gender' y la variable objetivo 'Churn'\n",
    "df_final['gender'] = df_final['gender'].map({'Male': 0, 'Female': 1})\n",
    "df_final['Churn'] = df_final['Churn'].map({'Yes': 1, 'No': 0})\n",
    "\n",
    "# 2. Conversión a tipo 'category' para columnas con múltiples categorías de texto.\n",
    "# Este enfoque es el correcto para manejar valores como 'No phone service' o \n",
    "# 'No internet service' sin generar valores nulos.\n",
    "categorical_cols = [\n",
    "    'MultipleLines', 'InternetService', 'OnlineSecurity', 'OnlineBackup',\n",
    "    'DeviceProtection', 'TechSupport', 'StreamingTV', 'StreamingMovies',\n",
    "    'Contract', 'PaymentMethod'\n",
    "]\n",
    "for col in categorical_cols:\n",
    "    df_final[col] = df_final[col].astype('category')\n",
    "\n",
    "# Verificamos el resultado. Ahora no deberían aparecer nulos nuevos.\n",
    "print(\"Tipos de datos optimizados. Verificando el nuevo estado del DataFrame:\")\n",
    "df_final.info()"
   ]
  },
  {
   "cell_type": "markdown",
   "id": "583b254a",
   "metadata": {},
   "source": [
    "### 🎯 2.5. Creación de Nuevas Características (Feature Engineering)\n",
    "\n",
    "**Objetivo**: Crear la columna `Cuentas_Diarias` para obtener una métrica de gasto más granular que los cargos mensuales.\n",
    "\n",
    "**Método**: Se calculará el cargo diario dividiendo la columna de cargos mensuales (`Charges.Monthly`) entre 30.44, que es el promedio de días en un mes. El resultado se redondeará a 2 decimales.\n",
    "\n",
    "**Justificación**: Esta nueva característica normaliza el gasto en una escala diaria, por lo que nos proporciona una variable adicional que puede tener una correlación diferente con la evasión (`Churn`) y nos da una perspectiva más detallada para el análisis."
   ]
  },
  {
   "cell_type": "code",
   "execution_count": 14,
   "id": "71ea55dd",
   "metadata": {},
   "outputs": [
    {
     "name": "stdout",
     "output_type": "stream",
     "text": [
      "Columna 'Cuentas_Diarias' creada exitosamente. Aquí una muestra:\n"
     ]
    },
    {
     "data": {
      "text/html": [
       "<div>\n",
       "<style scoped>\n",
       "    .dataframe tbody tr th:only-of-type {\n",
       "        vertical-align: middle;\n",
       "    }\n",
       "\n",
       "    .dataframe tbody tr th {\n",
       "        vertical-align: top;\n",
       "    }\n",
       "\n",
       "    .dataframe thead th {\n",
       "        text-align: right;\n",
       "    }\n",
       "</style>\n",
       "<table border=\"1\" class=\"dataframe\">\n",
       "  <thead>\n",
       "    <tr style=\"text-align: right;\">\n",
       "      <th></th>\n",
       "      <th>Charges.Monthly</th>\n",
       "      <th>Cuentas_Diarias</th>\n",
       "    </tr>\n",
       "  </thead>\n",
       "  <tbody>\n",
       "    <tr>\n",
       "      <th>0</th>\n",
       "      <td>65.6</td>\n",
       "      <td>2.16</td>\n",
       "    </tr>\n",
       "    <tr>\n",
       "      <th>1</th>\n",
       "      <td>59.9</td>\n",
       "      <td>1.97</td>\n",
       "    </tr>\n",
       "    <tr>\n",
       "      <th>2</th>\n",
       "      <td>73.9</td>\n",
       "      <td>2.43</td>\n",
       "    </tr>\n",
       "    <tr>\n",
       "      <th>3</th>\n",
       "      <td>98.0</td>\n",
       "      <td>3.22</td>\n",
       "    </tr>\n",
       "    <tr>\n",
       "      <th>4</th>\n",
       "      <td>83.9</td>\n",
       "      <td>2.76</td>\n",
       "    </tr>\n",
       "  </tbody>\n",
       "</table>\n",
       "</div>"
      ],
      "text/plain": [
       "   Charges.Monthly  Cuentas_Diarias\n",
       "0             65.6             2.16\n",
       "1             59.9             1.97\n",
       "2             73.9             2.43\n",
       "3             98.0             3.22\n",
       "4             83.9             2.76"
      ]
     },
     "execution_count": 14,
     "metadata": {},
     "output_type": "execute_result"
    }
   ],
   "source": [
    "# Calculamos los cargos diarios\n",
    "avg_days_in_month = 30.44\n",
    "df_final['Cuentas_Diarias'] = (df_final['Charges.Monthly'] / avg_days_in_month).round(2)\n",
    "\n",
    "# Verificamos la creación de la nueva columna\n",
    "print(\"Columna 'Cuentas_Diarias' creada exitosamente. Aquí una muestra:\")\n",
    "df_final[['Charges.Monthly', 'Cuentas_Diarias']].head()"
   ]
  },
  {
   "cell_type": "markdown",
   "id": "e8bf6d18",
   "metadata": {},
   "source": [
    "## 📊 3. Carga y Análisis Exploratorio (**L & A**)"
   ]
  },
  {
   "cell_type": "markdown",
   "id": "c062d27c",
   "metadata": {},
   "source": [
    "Hemos llegado a una etapa emocionante y **muy grafica** 😁, el dataset está limpio, es coherente y está optimizado. En esta fase, dejaremos que los datos nos hablen, mi objetivo sera utilizar estadísticas descriptivas y, sobre todo, visualizaciones para descubrir patrones, identificar relaciones entre variables y empezar a formular hipótesis sobre qué factores influyen en la evasión de clientes."
   ]
  },
  {
   "cell_type": "markdown",
   "metadata": {},
   "source": [
    "### 🎯 3.1. Análisis Descriptivo General\n",
    "\n",
    "**Objetivo**: Obtener un resumen estadístico de las variables numéricas clave en nuestro dataset `df_final`.\n",
    "\n",
    "**Método**: Utilizare el método `.describe()` de `Pandas`, como ya lo hice anteriormente calcular automáticamente las estadísticas descriptivas más importantes.\n",
    "\n",
    "**Justificación**: El método `.describe()` es el punto de partida fundamental para cualquier análisis numérico ya que nos proporcionara una visión panorámica instantánea de la distribución de nuestros datos, incluyendo la **tendencia central (media)**, la **mediana**, la **dispersión** y el **rango (mínimo y máximo)**."
   ]
  },
  {
   "cell_type": "code",
   "execution_count": 15,
   "id": "a5eb0ef8",
   "metadata": {},
   "outputs": [
    {
     "data": {
      "text/html": [
       "<div>\n",
       "<style scoped>\n",
       "    .dataframe tbody tr th:only-of-type {\n",
       "        vertical-align: middle;\n",
       "    }\n",
       "\n",
       "    .dataframe tbody tr th {\n",
       "        vertical-align: top;\n",
       "    }\n",
       "\n",
       "    .dataframe thead th {\n",
       "        text-align: right;\n",
       "    }\n",
       "</style>\n",
       "<table border=\"1\" class=\"dataframe\">\n",
       "  <thead>\n",
       "    <tr style=\"text-align: right;\">\n",
       "      <th></th>\n",
       "      <th>count</th>\n",
       "      <th>mean</th>\n",
       "      <th>std</th>\n",
       "      <th>min</th>\n",
       "      <th>25%</th>\n",
       "      <th>50%</th>\n",
       "      <th>75%</th>\n",
       "      <th>max</th>\n",
       "    </tr>\n",
       "  </thead>\n",
       "  <tbody>\n",
       "    <tr>\n",
       "      <th>Churn</th>\n",
       "      <td>7043.0</td>\n",
       "      <td>0.265370</td>\n",
       "      <td>0.441561</td>\n",
       "      <td>0.00</td>\n",
       "      <td>0.00</td>\n",
       "      <td>0.00</td>\n",
       "      <td>1.00</td>\n",
       "      <td>1.00</td>\n",
       "    </tr>\n",
       "    <tr>\n",
       "      <th>gender</th>\n",
       "      <td>7043.0</td>\n",
       "      <td>0.495244</td>\n",
       "      <td>0.500013</td>\n",
       "      <td>0.00</td>\n",
       "      <td>0.00</td>\n",
       "      <td>0.00</td>\n",
       "      <td>1.00</td>\n",
       "      <td>1.00</td>\n",
       "    </tr>\n",
       "    <tr>\n",
       "      <th>SeniorCitizen</th>\n",
       "      <td>7043.0</td>\n",
       "      <td>0.162147</td>\n",
       "      <td>0.368612</td>\n",
       "      <td>0.00</td>\n",
       "      <td>0.00</td>\n",
       "      <td>0.00</td>\n",
       "      <td>0.00</td>\n",
       "      <td>1.00</td>\n",
       "    </tr>\n",
       "    <tr>\n",
       "      <th>Partner</th>\n",
       "      <td>7043.0</td>\n",
       "      <td>0.483033</td>\n",
       "      <td>0.499748</td>\n",
       "      <td>0.00</td>\n",
       "      <td>0.00</td>\n",
       "      <td>0.00</td>\n",
       "      <td>1.00</td>\n",
       "      <td>1.00</td>\n",
       "    </tr>\n",
       "    <tr>\n",
       "      <th>Dependents</th>\n",
       "      <td>7043.0</td>\n",
       "      <td>0.299588</td>\n",
       "      <td>0.458110</td>\n",
       "      <td>0.00</td>\n",
       "      <td>0.00</td>\n",
       "      <td>0.00</td>\n",
       "      <td>1.00</td>\n",
       "      <td>1.00</td>\n",
       "    </tr>\n",
       "    <tr>\n",
       "      <th>tenure</th>\n",
       "      <td>7043.0</td>\n",
       "      <td>32.371149</td>\n",
       "      <td>24.559481</td>\n",
       "      <td>0.00</td>\n",
       "      <td>9.00</td>\n",
       "      <td>29.00</td>\n",
       "      <td>55.00</td>\n",
       "      <td>72.00</td>\n",
       "    </tr>\n",
       "    <tr>\n",
       "      <th>PaperlessBilling</th>\n",
       "      <td>7043.0</td>\n",
       "      <td>0.592219</td>\n",
       "      <td>0.491457</td>\n",
       "      <td>0.00</td>\n",
       "      <td>0.00</td>\n",
       "      <td>1.00</td>\n",
       "      <td>1.00</td>\n",
       "      <td>1.00</td>\n",
       "    </tr>\n",
       "    <tr>\n",
       "      <th>Charges.Monthly</th>\n",
       "      <td>7043.0</td>\n",
       "      <td>64.761692</td>\n",
       "      <td>30.090047</td>\n",
       "      <td>18.25</td>\n",
       "      <td>35.50</td>\n",
       "      <td>70.35</td>\n",
       "      <td>89.85</td>\n",
       "      <td>118.75</td>\n",
       "    </tr>\n",
       "    <tr>\n",
       "      <th>Charges.Total</th>\n",
       "      <td>7043.0</td>\n",
       "      <td>2279.734304</td>\n",
       "      <td>2266.794470</td>\n",
       "      <td>0.00</td>\n",
       "      <td>398.55</td>\n",
       "      <td>1394.55</td>\n",
       "      <td>3786.60</td>\n",
       "      <td>8684.80</td>\n",
       "    </tr>\n",
       "    <tr>\n",
       "      <th>PhoneService</th>\n",
       "      <td>7043.0</td>\n",
       "      <td>0.903166</td>\n",
       "      <td>0.295752</td>\n",
       "      <td>0.00</td>\n",
       "      <td>1.00</td>\n",
       "      <td>1.00</td>\n",
       "      <td>1.00</td>\n",
       "      <td>1.00</td>\n",
       "    </tr>\n",
       "    <tr>\n",
       "      <th>Cuentas_Diarias</th>\n",
       "      <td>7043.0</td>\n",
       "      <td>2.127521</td>\n",
       "      <td>0.988435</td>\n",
       "      <td>0.60</td>\n",
       "      <td>1.17</td>\n",
       "      <td>2.31</td>\n",
       "      <td>2.95</td>\n",
       "      <td>3.90</td>\n",
       "    </tr>\n",
       "  </tbody>\n",
       "</table>\n",
       "</div>"
      ],
      "text/plain": [
       "                   count         mean          std    min     25%      50%  \\\n",
       "Churn             7043.0     0.265370     0.441561   0.00    0.00     0.00   \n",
       "gender            7043.0     0.495244     0.500013   0.00    0.00     0.00   \n",
       "SeniorCitizen     7043.0     0.162147     0.368612   0.00    0.00     0.00   \n",
       "Partner           7043.0     0.483033     0.499748   0.00    0.00     0.00   \n",
       "Dependents        7043.0     0.299588     0.458110   0.00    0.00     0.00   \n",
       "tenure            7043.0    32.371149    24.559481   0.00    9.00    29.00   \n",
       "PaperlessBilling  7043.0     0.592219     0.491457   0.00    0.00     1.00   \n",
       "Charges.Monthly   7043.0    64.761692    30.090047  18.25   35.50    70.35   \n",
       "Charges.Total     7043.0  2279.734304  2266.794470   0.00  398.55  1394.55   \n",
       "PhoneService      7043.0     0.903166     0.295752   0.00    1.00     1.00   \n",
       "Cuentas_Diarias   7043.0     2.127521     0.988435   0.60    1.17     2.31   \n",
       "\n",
       "                      75%      max  \n",
       "Churn                1.00     1.00  \n",
       "gender               1.00     1.00  \n",
       "SeniorCitizen        0.00     1.00  \n",
       "Partner              1.00     1.00  \n",
       "Dependents           1.00     1.00  \n",
       "tenure              55.00    72.00  \n",
       "PaperlessBilling     1.00     1.00  \n",
       "Charges.Monthly     89.85   118.75  \n",
       "Charges.Total     3786.60  8684.80  \n",
       "PhoneService         1.00     1.00  \n",
       "Cuentas_Diarias      2.95     3.90  "
      ]
     },
     "execution_count": 15,
     "metadata": {},
     "output_type": "execute_result"
    }
   ],
   "source": [
    "# Generamos las estadísticas descriptivas para las columnas numéricas\n",
    "# Usamos .T para transponer el resultado para una mejor legibilidad\n",
    "df_final.describe().T"
   ]
  },
  {
   "cell_type": "markdown",
   "id": "79c8350e",
   "metadata": {},
   "source": [
    "#### 💡 Primeras Observaciones Numéricas\n",
    "\n",
    "Del resumen estadístico, puedo extraer algunas ideas iniciales:\n",
    "\n",
    "* **Antigüedad (tenure)**: El cliente **promedio** tiene una antigüedad de aproximadamente `32 meses` y la distribución es amplia, desde `0 meses` (los que acabamos de corregir) hasta `72 meses` (6 años).\n",
    "\n",
    "* **Cargos Mensuales (Charges.Monthly)**: El cargo mensual **promedio** es de `$64.76` por lo que considerando que la mediana (el valor del 50%) es de `$70.35`, me sugiere que hay una ligera concentración de clientes con cargos más altos.\n",
    "\n",
    "* **Cargos Totales (Charges.Total)**: Aquí comprabamos una vez mas el punto de arriba, vemos una gran variabilidad, con un valor máximo de `$8684.80`, un media  de `~$2280` que es significativamente más alta que la mediana `~$1395`, lo cual me indicaria una **distribución sesgada a la derecha**; es decir, hay algunos **clientes con gastos totales muy altos** que tiran del promedio hacia arriba."
   ]
  },
  {
   "cell_type": "markdown",
   "id": "1649e787",
   "metadata": {},
   "source": [
    "### 🎯 3.2. Distribución de la Evasión de Clientes (Churn)\n",
    "\n",
    "**Objetivo**: Cuantificar y visualizar la proporción exacta de clientes que han cancelado el servicio (`Churn=1`) frente a los que han permanecido (`Churn=0`).\n",
    "\n",
    "**Método**:\n",
    "\n",
    "* Utilizare el método `.value_counts()` para obtener el número exacto de clientes en cada categoría y el argumento `normalize=True` para obtener el desglose porcentual.\n",
    "\n",
    "* Creare un **gráfico de pastel** interactivo utilizando `Plotly` ya que es ideal para mostrar la proporción de cada categoría como parte de un todo.\n",
    "\n",
    "**Justificación**: Este sera mi punto de partida para el análisis de evasión. Antes de investigar por qué los clientes se van, debo entender la magnitud del problema, y un **gráfico de pastel** es una de las formas más claras y universalmente entendidas de comunicar una **distribución porcentual**, y hacerlo interactivo permitira a los usuarios explorar los datos por sí mismos."
   ]
  },
  {
   "cell_type": "code",
   "execution_count": 16,
   "id": "6b6e6ec6",
   "metadata": {},
   "outputs": [
    {
     "name": "stdout",
     "output_type": "stream",
     "text": [
      "Conteo de Evasión de Clientes:\n",
      "Churn\n",
      "0    5174\n",
      "1    1869\n",
      "Name: count, dtype: int64\n",
      "\n",
      "Porcentaje de Evasión de Clientes:\n",
      "Churn\n",
      "0    73.46\n",
      "1    26.54\n",
      "Name: proportion, dtype: float64\n"
     ]
    },
    {
     "data": {
      "application/vnd.plotly.v1+json": {
       "config": {
        "plotlyServerURL": "https://plot.ly"
       },
       "data": [
        {
         "domain": {
          "x": [
           0,
           1
          ],
          "y": [
           0,
           1
          ]
         },
         "hole": 0.3,
         "hovertemplate": "<b>%{label}</b><br>Clientes: %{value}<br>Porcentaje: %{percent}",
         "labels": [
          "Permanecen (No Churn)",
          "Evadieron (Churn)"
         ],
         "legendgroup": "",
         "name": "",
         "showlegend": true,
         "textinfo": "percent+label",
         "type": "pie",
         "values": {
          "bdata": "NhRNBw==",
          "dtype": "i2"
         }
        }
       ],
       "layout": {
        "legend": {
         "tracegroupgap": 0
        },
        "piecolorway": [
         "rgb(102, 197, 204)",
         "rgb(246, 207, 113)",
         "rgb(248, 156, 116)",
         "rgb(220, 176, 242)",
         "rgb(135, 197, 95)",
         "rgb(158, 185, 243)",
         "rgb(254, 136, 177)",
         "rgb(201, 219, 116)",
         "rgb(139, 224, 164)",
         "rgb(180, 151, 231)",
         "rgb(179, 179, 179)"
        ],
        "template": {
         "data": {
          "bar": [
           {
            "error_x": {
             "color": "#2a3f5f"
            },
            "error_y": {
             "color": "#2a3f5f"
            },
            "marker": {
             "line": {
              "color": "#E5ECF6",
              "width": 0.5
             },
             "pattern": {
              "fillmode": "overlay",
              "size": 10,
              "solidity": 0.2
             }
            },
            "type": "bar"
           }
          ],
          "barpolar": [
           {
            "marker": {
             "line": {
              "color": "#E5ECF6",
              "width": 0.5
             },
             "pattern": {
              "fillmode": "overlay",
              "size": 10,
              "solidity": 0.2
             }
            },
            "type": "barpolar"
           }
          ],
          "carpet": [
           {
            "aaxis": {
             "endlinecolor": "#2a3f5f",
             "gridcolor": "white",
             "linecolor": "white",
             "minorgridcolor": "white",
             "startlinecolor": "#2a3f5f"
            },
            "baxis": {
             "endlinecolor": "#2a3f5f",
             "gridcolor": "white",
             "linecolor": "white",
             "minorgridcolor": "white",
             "startlinecolor": "#2a3f5f"
            },
            "type": "carpet"
           }
          ],
          "choropleth": [
           {
            "colorbar": {
             "outlinewidth": 0,
             "ticks": ""
            },
            "type": "choropleth"
           }
          ],
          "contour": [
           {
            "colorbar": {
             "outlinewidth": 0,
             "ticks": ""
            },
            "colorscale": [
             [
              0,
              "#0d0887"
             ],
             [
              0.1111111111111111,
              "#46039f"
             ],
             [
              0.2222222222222222,
              "#7201a8"
             ],
             [
              0.3333333333333333,
              "#9c179e"
             ],
             [
              0.4444444444444444,
              "#bd3786"
             ],
             [
              0.5555555555555556,
              "#d8576b"
             ],
             [
              0.6666666666666666,
              "#ed7953"
             ],
             [
              0.7777777777777778,
              "#fb9f3a"
             ],
             [
              0.8888888888888888,
              "#fdca26"
             ],
             [
              1,
              "#f0f921"
             ]
            ],
            "type": "contour"
           }
          ],
          "contourcarpet": [
           {
            "colorbar": {
             "outlinewidth": 0,
             "ticks": ""
            },
            "type": "contourcarpet"
           }
          ],
          "heatmap": [
           {
            "colorbar": {
             "outlinewidth": 0,
             "ticks": ""
            },
            "colorscale": [
             [
              0,
              "#0d0887"
             ],
             [
              0.1111111111111111,
              "#46039f"
             ],
             [
              0.2222222222222222,
              "#7201a8"
             ],
             [
              0.3333333333333333,
              "#9c179e"
             ],
             [
              0.4444444444444444,
              "#bd3786"
             ],
             [
              0.5555555555555556,
              "#d8576b"
             ],
             [
              0.6666666666666666,
              "#ed7953"
             ],
             [
              0.7777777777777778,
              "#fb9f3a"
             ],
             [
              0.8888888888888888,
              "#fdca26"
             ],
             [
              1,
              "#f0f921"
             ]
            ],
            "type": "heatmap"
           }
          ],
          "histogram": [
           {
            "marker": {
             "pattern": {
              "fillmode": "overlay",
              "size": 10,
              "solidity": 0.2
             }
            },
            "type": "histogram"
           }
          ],
          "histogram2d": [
           {
            "colorbar": {
             "outlinewidth": 0,
             "ticks": ""
            },
            "colorscale": [
             [
              0,
              "#0d0887"
             ],
             [
              0.1111111111111111,
              "#46039f"
             ],
             [
              0.2222222222222222,
              "#7201a8"
             ],
             [
              0.3333333333333333,
              "#9c179e"
             ],
             [
              0.4444444444444444,
              "#bd3786"
             ],
             [
              0.5555555555555556,
              "#d8576b"
             ],
             [
              0.6666666666666666,
              "#ed7953"
             ],
             [
              0.7777777777777778,
              "#fb9f3a"
             ],
             [
              0.8888888888888888,
              "#fdca26"
             ],
             [
              1,
              "#f0f921"
             ]
            ],
            "type": "histogram2d"
           }
          ],
          "histogram2dcontour": [
           {
            "colorbar": {
             "outlinewidth": 0,
             "ticks": ""
            },
            "colorscale": [
             [
              0,
              "#0d0887"
             ],
             [
              0.1111111111111111,
              "#46039f"
             ],
             [
              0.2222222222222222,
              "#7201a8"
             ],
             [
              0.3333333333333333,
              "#9c179e"
             ],
             [
              0.4444444444444444,
              "#bd3786"
             ],
             [
              0.5555555555555556,
              "#d8576b"
             ],
             [
              0.6666666666666666,
              "#ed7953"
             ],
             [
              0.7777777777777778,
              "#fb9f3a"
             ],
             [
              0.8888888888888888,
              "#fdca26"
             ],
             [
              1,
              "#f0f921"
             ]
            ],
            "type": "histogram2dcontour"
           }
          ],
          "mesh3d": [
           {
            "colorbar": {
             "outlinewidth": 0,
             "ticks": ""
            },
            "type": "mesh3d"
           }
          ],
          "parcoords": [
           {
            "line": {
             "colorbar": {
              "outlinewidth": 0,
              "ticks": ""
             }
            },
            "type": "parcoords"
           }
          ],
          "pie": [
           {
            "automargin": true,
            "type": "pie"
           }
          ],
          "scatter": [
           {
            "fillpattern": {
             "fillmode": "overlay",
             "size": 10,
             "solidity": 0.2
            },
            "type": "scatter"
           }
          ],
          "scatter3d": [
           {
            "line": {
             "colorbar": {
              "outlinewidth": 0,
              "ticks": ""
             }
            },
            "marker": {
             "colorbar": {
              "outlinewidth": 0,
              "ticks": ""
             }
            },
            "type": "scatter3d"
           }
          ],
          "scattercarpet": [
           {
            "marker": {
             "colorbar": {
              "outlinewidth": 0,
              "ticks": ""
             }
            },
            "type": "scattercarpet"
           }
          ],
          "scattergeo": [
           {
            "marker": {
             "colorbar": {
              "outlinewidth": 0,
              "ticks": ""
             }
            },
            "type": "scattergeo"
           }
          ],
          "scattergl": [
           {
            "marker": {
             "colorbar": {
              "outlinewidth": 0,
              "ticks": ""
             }
            },
            "type": "scattergl"
           }
          ],
          "scattermap": [
           {
            "marker": {
             "colorbar": {
              "outlinewidth": 0,
              "ticks": ""
             }
            },
            "type": "scattermap"
           }
          ],
          "scattermapbox": [
           {
            "marker": {
             "colorbar": {
              "outlinewidth": 0,
              "ticks": ""
             }
            },
            "type": "scattermapbox"
           }
          ],
          "scatterpolar": [
           {
            "marker": {
             "colorbar": {
              "outlinewidth": 0,
              "ticks": ""
             }
            },
            "type": "scatterpolar"
           }
          ],
          "scatterpolargl": [
           {
            "marker": {
             "colorbar": {
              "outlinewidth": 0,
              "ticks": ""
             }
            },
            "type": "scatterpolargl"
           }
          ],
          "scatterternary": [
           {
            "marker": {
             "colorbar": {
              "outlinewidth": 0,
              "ticks": ""
             }
            },
            "type": "scatterternary"
           }
          ],
          "surface": [
           {
            "colorbar": {
             "outlinewidth": 0,
             "ticks": ""
            },
            "colorscale": [
             [
              0,
              "#0d0887"
             ],
             [
              0.1111111111111111,
              "#46039f"
             ],
             [
              0.2222222222222222,
              "#7201a8"
             ],
             [
              0.3333333333333333,
              "#9c179e"
             ],
             [
              0.4444444444444444,
              "#bd3786"
             ],
             [
              0.5555555555555556,
              "#d8576b"
             ],
             [
              0.6666666666666666,
              "#ed7953"
             ],
             [
              0.7777777777777778,
              "#fb9f3a"
             ],
             [
              0.8888888888888888,
              "#fdca26"
             ],
             [
              1,
              "#f0f921"
             ]
            ],
            "type": "surface"
           }
          ],
          "table": [
           {
            "cells": {
             "fill": {
              "color": "#EBF0F8"
             },
             "line": {
              "color": "white"
             }
            },
            "header": {
             "fill": {
              "color": "#C8D4E3"
             },
             "line": {
              "color": "white"
             }
            },
            "type": "table"
           }
          ]
         },
         "layout": {
          "annotationdefaults": {
           "arrowcolor": "#2a3f5f",
           "arrowhead": 0,
           "arrowwidth": 1
          },
          "autotypenumbers": "strict",
          "coloraxis": {
           "colorbar": {
            "outlinewidth": 0,
            "ticks": ""
           }
          },
          "colorscale": {
           "diverging": [
            [
             0,
             "#8e0152"
            ],
            [
             0.1,
             "#c51b7d"
            ],
            [
             0.2,
             "#de77ae"
            ],
            [
             0.3,
             "#f1b6da"
            ],
            [
             0.4,
             "#fde0ef"
            ],
            [
             0.5,
             "#f7f7f7"
            ],
            [
             0.6,
             "#e6f5d0"
            ],
            [
             0.7,
             "#b8e186"
            ],
            [
             0.8,
             "#7fbc41"
            ],
            [
             0.9,
             "#4d9221"
            ],
            [
             1,
             "#276419"
            ]
           ],
           "sequential": [
            [
             0,
             "#0d0887"
            ],
            [
             0.1111111111111111,
             "#46039f"
            ],
            [
             0.2222222222222222,
             "#7201a8"
            ],
            [
             0.3333333333333333,
             "#9c179e"
            ],
            [
             0.4444444444444444,
             "#bd3786"
            ],
            [
             0.5555555555555556,
             "#d8576b"
            ],
            [
             0.6666666666666666,
             "#ed7953"
            ],
            [
             0.7777777777777778,
             "#fb9f3a"
            ],
            [
             0.8888888888888888,
             "#fdca26"
            ],
            [
             1,
             "#f0f921"
            ]
           ],
           "sequentialminus": [
            [
             0,
             "#0d0887"
            ],
            [
             0.1111111111111111,
             "#46039f"
            ],
            [
             0.2222222222222222,
             "#7201a8"
            ],
            [
             0.3333333333333333,
             "#9c179e"
            ],
            [
             0.4444444444444444,
             "#bd3786"
            ],
            [
             0.5555555555555556,
             "#d8576b"
            ],
            [
             0.6666666666666666,
             "#ed7953"
            ],
            [
             0.7777777777777778,
             "#fb9f3a"
            ],
            [
             0.8888888888888888,
             "#fdca26"
            ],
            [
             1,
             "#f0f921"
            ]
           ]
          },
          "colorway": [
           "#636efa",
           "#EF553B",
           "#00cc96",
           "#ab63fa",
           "#FFA15A",
           "#19d3f3",
           "#FF6692",
           "#B6E880",
           "#FF97FF",
           "#FECB52"
          ],
          "font": {
           "color": "#2a3f5f"
          },
          "geo": {
           "bgcolor": "white",
           "lakecolor": "white",
           "landcolor": "#E5ECF6",
           "showlakes": true,
           "showland": true,
           "subunitcolor": "white"
          },
          "hoverlabel": {
           "align": "left"
          },
          "hovermode": "closest",
          "mapbox": {
           "style": "light"
          },
          "paper_bgcolor": "white",
          "plot_bgcolor": "#E5ECF6",
          "polar": {
           "angularaxis": {
            "gridcolor": "white",
            "linecolor": "white",
            "ticks": ""
           },
           "bgcolor": "#E5ECF6",
           "radialaxis": {
            "gridcolor": "white",
            "linecolor": "white",
            "ticks": ""
           }
          },
          "scene": {
           "xaxis": {
            "backgroundcolor": "#E5ECF6",
            "gridcolor": "white",
            "gridwidth": 2,
            "linecolor": "white",
            "showbackground": true,
            "ticks": "",
            "zerolinecolor": "white"
           },
           "yaxis": {
            "backgroundcolor": "#E5ECF6",
            "gridcolor": "white",
            "gridwidth": 2,
            "linecolor": "white",
            "showbackground": true,
            "ticks": "",
            "zerolinecolor": "white"
           },
           "zaxis": {
            "backgroundcolor": "#E5ECF6",
            "gridcolor": "white",
            "gridwidth": 2,
            "linecolor": "white",
            "showbackground": true,
            "ticks": "",
            "zerolinecolor": "white"
           }
          },
          "shapedefaults": {
           "line": {
            "color": "#2a3f5f"
           }
          },
          "ternary": {
           "aaxis": {
            "gridcolor": "white",
            "linecolor": "white",
            "ticks": ""
           },
           "baxis": {
            "gridcolor": "white",
            "linecolor": "white",
            "ticks": ""
           },
           "bgcolor": "#E5ECF6",
           "caxis": {
            "gridcolor": "white",
            "linecolor": "white",
            "ticks": ""
           }
          },
          "title": {
           "x": 0.05
          },
          "xaxis": {
           "automargin": true,
           "gridcolor": "white",
           "linecolor": "white",
           "ticks": "",
           "title": {
            "standoff": 15
           },
           "zerolinecolor": "white",
           "zerolinewidth": 2
          },
          "yaxis": {
           "automargin": true,
           "gridcolor": "white",
           "linecolor": "white",
           "ticks": "",
           "title": {
            "standoff": 15
           },
           "zerolinecolor": "white",
           "zerolinewidth": 2
          }
         }
        },
        "title": {
         "text": "Proporción de Evasión de Clientes (Churn)"
        }
       }
      }
     },
     "metadata": {},
     "output_type": "display_data"
    }
   ],
   "source": [
    "# 1. Calculamos los conteos y porcentajes\n",
    "churn_counts = df_final['Churn'].value_counts()\n",
    "churn_percentage = df_final['Churn'].value_counts(normalize=True) * 100\n",
    "\n",
    "print(\"Conteo de Evasión de Clientes:\")\n",
    "print(churn_counts)\n",
    "print(\"\\nPorcentaje de Evasión de Clientes:\")\n",
    "print(round(churn_percentage, 2))\n",
    "\n",
    "# 2. Creamos la visualización\n",
    "fig = px.pie(\n",
    "    names=['Permanecen (No Churn)', 'Evadieron (Churn)'],\n",
    "    values=churn_counts.values,\n",
    "    title='Proporción de Evasión de Clientes (Churn)',\n",
    "    hole=0.3, # Para un efecto de dona (donut chart)\n",
    "    color_discrete_sequence=px.colors.qualitative.Pastel # Paleta de colores suaves\n",
    ")\n",
    "\n",
    "fig.update_traces(\n",
    "    textinfo='percent+label',\n",
    "    hovertemplate='<b>%{label}</b><br>Clientes: %{value}<br>Porcentaje: %{percent}'\n",
    ")\n",
    "\n",
    "fig.show()"
   ]
  },
  {
   "cell_type": "markdown",
   "id": "0bc57c29",
   "metadata": {},
   "source": [
    "#### 💡 Análisis de la Tasa de Evasión\n",
    "\n",
    "Tenemo datos claros y directos:\n",
    "\n",
    "* `1,869` clientes han cancelado su servicio.\n",
    "\n",
    "* `5,174` clientes permanecen activos.\n",
    "\n",
    "Esto se traduce en una **tasa de evasión** (churn rate) general del `26.54%`.\n",
    "\n",
    "En términos de negocio, esto significa que más de uno de cada cuatro clientes ha abandonado la compañía. Esta es una cifra significativa y justifica plenamente la necesidad de este análisis para identificar los factores que impulsan este comportamiento y proponer estrategias de retención."
   ]
  },
  {
   "cell_type": "markdown",
   "id": "c46a8c63",
   "metadata": {},
   "source": [
    "### 🎯 3.3. Análisis de Evasión por Variables Demográficas\n",
    "\n",
    "**Objetivo**: Analizar cómo la tasa de evasión (`Churn`) varía entre diferentes segmentos demográficos de clientes, específicamente por género, si es adulto mayor, si tiene pareja y si tiene dependientes.\n",
    "\n",
    "**Método**:\n",
    "\n",
    "* Para cada variable demográfica, agrupare los datos y calculare la tasa de evasión promedio de cada grupo, dado que he codificado Churn como `1` (`Sí`) y `0` (`No`), la media de la columna Churn nos dara directamente la tasa de evasión (hermoso!!).\n",
    "\n",
    "* Utilizare `Plotly` para crear gráficos de barras que comparen visualmente estas tasas, esto permitirá identificar rápidamente qué segmentos tienen tasas de evasión más altas o más bajas que el promedio general.\n",
    "\n",
    "**Justificación**: El análisis demográfico es un pilar en la estrategia de negocio, e identificar si ciertos grupos (por ejemplo, adultos mayores o personas sin dependientes) son más propensos a irse, permite a la empresa dirigir campañas de retención y comunicación mucho más específicas y, por lo tanto, más efectivas"
   ]
  },
  {
   "cell_type": "code",
   "execution_count": 17,
   "id": "69810b8d",
   "metadata": {},
   "outputs": [
    {
     "data": {
      "application/vnd.plotly.v1+json": {
       "config": {
        "plotlyServerURL": "https://plot.ly"
       },
       "data": [
        {
         "hovertemplate": "gender=%{x}<br>Churn=%{y}<br>text=%{text}<extra></extra>",
         "legendgroup": "Masculino",
         "marker": {
          "color": "rgb(102, 197, 204)",
          "pattern": {
           "shape": ""
          }
         },
         "name": "Masculino",
         "orientation": "v",
         "showlegend": true,
         "text": [
          "26.16%"
         ],
         "textposition": "auto",
         "type": "bar",
         "x": [
          "Masculino"
         ],
         "xaxis": "x",
         "y": {
          "bdata": "0naaFRy+0D8=",
          "dtype": "f8"
         },
         "yaxis": "y"
        },
        {
         "hovertemplate": "gender=%{x}<br>Churn=%{y}<br>text=%{text}<extra></extra>",
         "legendgroup": "Femenino",
         "marker": {
          "color": "rgb(246, 207, 113)",
          "pattern": {
           "shape": ""
          }
         },
         "name": "Femenino",
         "orientation": "v",
         "showlegend": true,
         "text": [
          "26.92%"
         ],
         "textposition": "auto",
         "type": "bar",
         "x": [
          "Femenino"
         ],
         "xaxis": "x",
         "y": {
          "bdata": "qzNSMbc60T8=",
          "dtype": "f8"
         },
         "yaxis": "y"
        },
        {
         "hovertemplate": "SeniorCitizen=%{x}<br>Churn=%{y}<br>text=%{text}<extra></extra>",
         "legendgroup": "No",
         "marker": {
          "color": "rgb(102, 197, 204)",
          "pattern": {
           "shape": ""
          }
         },
         "name": "No",
         "orientation": "v",
         "showlegend": true,
         "text": [
          "23.61%"
         ],
         "textposition": "auto",
         "type": "bar",
         "x": [
          "No"
         ],
         "xaxis": "x2",
         "y": {
          "bdata": "FzlM70Q3zj8=",
          "dtype": "f8"
         },
         "yaxis": "y2"
        },
        {
         "hovertemplate": "SeniorCitizen=%{x}<br>Churn=%{y}<br>text=%{text}<extra></extra>",
         "legendgroup": "Sí",
         "marker": {
          "color": "rgb(246, 207, 113)",
          "pattern": {
           "shape": ""
          }
         },
         "name": "Sí",
         "orientation": "v",
         "showlegend": true,
         "text": [
          "41.68%"
         ],
         "textposition": "auto",
         "type": "bar",
         "x": [
          "Sí"
         ],
         "xaxis": "x2",
         "y": {
          "bdata": "vW6Lyw6t2j8=",
          "dtype": "f8"
         },
         "yaxis": "y2"
        },
        {
         "hovertemplate": "Partner=%{x}<br>Churn=%{y}<br>text=%{text}<extra></extra>",
         "legendgroup": "No",
         "marker": {
          "color": "rgb(102, 197, 204)",
          "pattern": {
           "shape": ""
          }
         },
         "name": "No",
         "orientation": "v",
         "showlegend": true,
         "text": [
          "32.96%"
         ],
         "textposition": "auto",
         "type": "bar",
         "x": [
          "No"
         ],
         "xaxis": "x3",
         "y": {
          "bdata": "V19U0NUX1T8=",
          "dtype": "f8"
         },
         "yaxis": "y3"
        },
        {
         "hovertemplate": "Partner=%{x}<br>Churn=%{y}<br>text=%{text}<extra></extra>",
         "legendgroup": "Sí",
         "marker": {
          "color": "rgb(246, 207, 113)",
          "pattern": {
           "shape": ""
          }
         },
         "name": "Sí",
         "orientation": "v",
         "showlegend": true,
         "text": [
          "19.66%"
         ],
         "textposition": "auto",
         "type": "bar",
         "x": [
          "Sí"
         ],
         "xaxis": "x3",
         "y": {
          "bdata": "Zz1IoMsryT8=",
          "dtype": "f8"
         },
         "yaxis": "y3"
        },
        {
         "hovertemplate": "Dependents=%{x}<br>Churn=%{y}<br>text=%{text}<extra></extra>",
         "legendgroup": "No",
         "marker": {
          "color": "rgb(102, 197, 204)",
          "pattern": {
           "shape": ""
          }
         },
         "name": "No",
         "orientation": "v",
         "showlegend": true,
         "text": [
          "31.28%"
         ],
         "textposition": "auto",
         "type": "bar",
         "x": [
          "No"
         ],
         "xaxis": "x4",
         "y": {
          "bdata": "9EWMPcYE1D8=",
          "dtype": "f8"
         },
         "yaxis": "y4"
        },
        {
         "hovertemplate": "Dependents=%{x}<br>Churn=%{y}<br>text=%{text}<extra></extra>",
         "legendgroup": "Sí",
         "marker": {
          "color": "rgb(246, 207, 113)",
          "pattern": {
           "shape": ""
          }
         },
         "name": "Sí",
         "orientation": "v",
         "showlegend": true,
         "text": [
          "15.45%"
         ],
         "textposition": "auto",
         "type": "bar",
         "x": [
          "Sí"
         ],
         "xaxis": "x4",
         "y": {
          "bdata": "a5dw0LvGwz8=",
          "dtype": "f8"
         },
         "yaxis": "y4"
        }
       ],
       "layout": {
        "annotations": [
         {
          "font": {
           "size": 16
          },
          "showarrow": false,
          "text": "Evasión por Género",
          "x": 0.225,
          "xanchor": "center",
          "xref": "paper",
          "y": 1,
          "yanchor": "bottom",
          "yref": "paper"
         },
         {
          "font": {
           "size": 16
          },
          "showarrow": false,
          "text": "Evasión por Adulto Mayor",
          "x": 0.775,
          "xanchor": "center",
          "xref": "paper",
          "y": 1,
          "yanchor": "bottom",
          "yref": "paper"
         },
         {
          "font": {
           "size": 16
          },
          "showarrow": false,
          "text": "Evasión por Pareja",
          "x": 0.225,
          "xanchor": "center",
          "xref": "paper",
          "y": 0.375,
          "yanchor": "bottom",
          "yref": "paper"
         },
         {
          "font": {
           "size": 16
          },
          "showarrow": false,
          "text": "Evasión por Dependientes",
          "x": 0.775,
          "xanchor": "center",
          "xref": "paper",
          "y": 0.375,
          "yanchor": "bottom",
          "yref": "paper"
         }
        ],
        "height": 600,
        "showlegend": false,
        "template": {
         "data": {
          "bar": [
           {
            "error_x": {
             "color": "#2a3f5f"
            },
            "error_y": {
             "color": "#2a3f5f"
            },
            "marker": {
             "line": {
              "color": "#E5ECF6",
              "width": 0.5
             },
             "pattern": {
              "fillmode": "overlay",
              "size": 10,
              "solidity": 0.2
             }
            },
            "type": "bar"
           }
          ],
          "barpolar": [
           {
            "marker": {
             "line": {
              "color": "#E5ECF6",
              "width": 0.5
             },
             "pattern": {
              "fillmode": "overlay",
              "size": 10,
              "solidity": 0.2
             }
            },
            "type": "barpolar"
           }
          ],
          "carpet": [
           {
            "aaxis": {
             "endlinecolor": "#2a3f5f",
             "gridcolor": "white",
             "linecolor": "white",
             "minorgridcolor": "white",
             "startlinecolor": "#2a3f5f"
            },
            "baxis": {
             "endlinecolor": "#2a3f5f",
             "gridcolor": "white",
             "linecolor": "white",
             "minorgridcolor": "white",
             "startlinecolor": "#2a3f5f"
            },
            "type": "carpet"
           }
          ],
          "choropleth": [
           {
            "colorbar": {
             "outlinewidth": 0,
             "ticks": ""
            },
            "type": "choropleth"
           }
          ],
          "contour": [
           {
            "colorbar": {
             "outlinewidth": 0,
             "ticks": ""
            },
            "colorscale": [
             [
              0,
              "#0d0887"
             ],
             [
              0.1111111111111111,
              "#46039f"
             ],
             [
              0.2222222222222222,
              "#7201a8"
             ],
             [
              0.3333333333333333,
              "#9c179e"
             ],
             [
              0.4444444444444444,
              "#bd3786"
             ],
             [
              0.5555555555555556,
              "#d8576b"
             ],
             [
              0.6666666666666666,
              "#ed7953"
             ],
             [
              0.7777777777777778,
              "#fb9f3a"
             ],
             [
              0.8888888888888888,
              "#fdca26"
             ],
             [
              1,
              "#f0f921"
             ]
            ],
            "type": "contour"
           }
          ],
          "contourcarpet": [
           {
            "colorbar": {
             "outlinewidth": 0,
             "ticks": ""
            },
            "type": "contourcarpet"
           }
          ],
          "heatmap": [
           {
            "colorbar": {
             "outlinewidth": 0,
             "ticks": ""
            },
            "colorscale": [
             [
              0,
              "#0d0887"
             ],
             [
              0.1111111111111111,
              "#46039f"
             ],
             [
              0.2222222222222222,
              "#7201a8"
             ],
             [
              0.3333333333333333,
              "#9c179e"
             ],
             [
              0.4444444444444444,
              "#bd3786"
             ],
             [
              0.5555555555555556,
              "#d8576b"
             ],
             [
              0.6666666666666666,
              "#ed7953"
             ],
             [
              0.7777777777777778,
              "#fb9f3a"
             ],
             [
              0.8888888888888888,
              "#fdca26"
             ],
             [
              1,
              "#f0f921"
             ]
            ],
            "type": "heatmap"
           }
          ],
          "histogram": [
           {
            "marker": {
             "pattern": {
              "fillmode": "overlay",
              "size": 10,
              "solidity": 0.2
             }
            },
            "type": "histogram"
           }
          ],
          "histogram2d": [
           {
            "colorbar": {
             "outlinewidth": 0,
             "ticks": ""
            },
            "colorscale": [
             [
              0,
              "#0d0887"
             ],
             [
              0.1111111111111111,
              "#46039f"
             ],
             [
              0.2222222222222222,
              "#7201a8"
             ],
             [
              0.3333333333333333,
              "#9c179e"
             ],
             [
              0.4444444444444444,
              "#bd3786"
             ],
             [
              0.5555555555555556,
              "#d8576b"
             ],
             [
              0.6666666666666666,
              "#ed7953"
             ],
             [
              0.7777777777777778,
              "#fb9f3a"
             ],
             [
              0.8888888888888888,
              "#fdca26"
             ],
             [
              1,
              "#f0f921"
             ]
            ],
            "type": "histogram2d"
           }
          ],
          "histogram2dcontour": [
           {
            "colorbar": {
             "outlinewidth": 0,
             "ticks": ""
            },
            "colorscale": [
             [
              0,
              "#0d0887"
             ],
             [
              0.1111111111111111,
              "#46039f"
             ],
             [
              0.2222222222222222,
              "#7201a8"
             ],
             [
              0.3333333333333333,
              "#9c179e"
             ],
             [
              0.4444444444444444,
              "#bd3786"
             ],
             [
              0.5555555555555556,
              "#d8576b"
             ],
             [
              0.6666666666666666,
              "#ed7953"
             ],
             [
              0.7777777777777778,
              "#fb9f3a"
             ],
             [
              0.8888888888888888,
              "#fdca26"
             ],
             [
              1,
              "#f0f921"
             ]
            ],
            "type": "histogram2dcontour"
           }
          ],
          "mesh3d": [
           {
            "colorbar": {
             "outlinewidth": 0,
             "ticks": ""
            },
            "type": "mesh3d"
           }
          ],
          "parcoords": [
           {
            "line": {
             "colorbar": {
              "outlinewidth": 0,
              "ticks": ""
             }
            },
            "type": "parcoords"
           }
          ],
          "pie": [
           {
            "automargin": true,
            "type": "pie"
           }
          ],
          "scatter": [
           {
            "fillpattern": {
             "fillmode": "overlay",
             "size": 10,
             "solidity": 0.2
            },
            "type": "scatter"
           }
          ],
          "scatter3d": [
           {
            "line": {
             "colorbar": {
              "outlinewidth": 0,
              "ticks": ""
             }
            },
            "marker": {
             "colorbar": {
              "outlinewidth": 0,
              "ticks": ""
             }
            },
            "type": "scatter3d"
           }
          ],
          "scattercarpet": [
           {
            "marker": {
             "colorbar": {
              "outlinewidth": 0,
              "ticks": ""
             }
            },
            "type": "scattercarpet"
           }
          ],
          "scattergeo": [
           {
            "marker": {
             "colorbar": {
              "outlinewidth": 0,
              "ticks": ""
             }
            },
            "type": "scattergeo"
           }
          ],
          "scattergl": [
           {
            "marker": {
             "colorbar": {
              "outlinewidth": 0,
              "ticks": ""
             }
            },
            "type": "scattergl"
           }
          ],
          "scattermap": [
           {
            "marker": {
             "colorbar": {
              "outlinewidth": 0,
              "ticks": ""
             }
            },
            "type": "scattermap"
           }
          ],
          "scattermapbox": [
           {
            "marker": {
             "colorbar": {
              "outlinewidth": 0,
              "ticks": ""
             }
            },
            "type": "scattermapbox"
           }
          ],
          "scatterpolar": [
           {
            "marker": {
             "colorbar": {
              "outlinewidth": 0,
              "ticks": ""
             }
            },
            "type": "scatterpolar"
           }
          ],
          "scatterpolargl": [
           {
            "marker": {
             "colorbar": {
              "outlinewidth": 0,
              "ticks": ""
             }
            },
            "type": "scatterpolargl"
           }
          ],
          "scatterternary": [
           {
            "marker": {
             "colorbar": {
              "outlinewidth": 0,
              "ticks": ""
             }
            },
            "type": "scatterternary"
           }
          ],
          "surface": [
           {
            "colorbar": {
             "outlinewidth": 0,
             "ticks": ""
            },
            "colorscale": [
             [
              0,
              "#0d0887"
             ],
             [
              0.1111111111111111,
              "#46039f"
             ],
             [
              0.2222222222222222,
              "#7201a8"
             ],
             [
              0.3333333333333333,
              "#9c179e"
             ],
             [
              0.4444444444444444,
              "#bd3786"
             ],
             [
              0.5555555555555556,
              "#d8576b"
             ],
             [
              0.6666666666666666,
              "#ed7953"
             ],
             [
              0.7777777777777778,
              "#fb9f3a"
             ],
             [
              0.8888888888888888,
              "#fdca26"
             ],
             [
              1,
              "#f0f921"
             ]
            ],
            "type": "surface"
           }
          ],
          "table": [
           {
            "cells": {
             "fill": {
              "color": "#EBF0F8"
             },
             "line": {
              "color": "white"
             }
            },
            "header": {
             "fill": {
              "color": "#C8D4E3"
             },
             "line": {
              "color": "white"
             }
            },
            "type": "table"
           }
          ]
         },
         "layout": {
          "annotationdefaults": {
           "arrowcolor": "#2a3f5f",
           "arrowhead": 0,
           "arrowwidth": 1
          },
          "autotypenumbers": "strict",
          "coloraxis": {
           "colorbar": {
            "outlinewidth": 0,
            "ticks": ""
           }
          },
          "colorscale": {
           "diverging": [
            [
             0,
             "#8e0152"
            ],
            [
             0.1,
             "#c51b7d"
            ],
            [
             0.2,
             "#de77ae"
            ],
            [
             0.3,
             "#f1b6da"
            ],
            [
             0.4,
             "#fde0ef"
            ],
            [
             0.5,
             "#f7f7f7"
            ],
            [
             0.6,
             "#e6f5d0"
            ],
            [
             0.7,
             "#b8e186"
            ],
            [
             0.8,
             "#7fbc41"
            ],
            [
             0.9,
             "#4d9221"
            ],
            [
             1,
             "#276419"
            ]
           ],
           "sequential": [
            [
             0,
             "#0d0887"
            ],
            [
             0.1111111111111111,
             "#46039f"
            ],
            [
             0.2222222222222222,
             "#7201a8"
            ],
            [
             0.3333333333333333,
             "#9c179e"
            ],
            [
             0.4444444444444444,
             "#bd3786"
            ],
            [
             0.5555555555555556,
             "#d8576b"
            ],
            [
             0.6666666666666666,
             "#ed7953"
            ],
            [
             0.7777777777777778,
             "#fb9f3a"
            ],
            [
             0.8888888888888888,
             "#fdca26"
            ],
            [
             1,
             "#f0f921"
            ]
           ],
           "sequentialminus": [
            [
             0,
             "#0d0887"
            ],
            [
             0.1111111111111111,
             "#46039f"
            ],
            [
             0.2222222222222222,
             "#7201a8"
            ],
            [
             0.3333333333333333,
             "#9c179e"
            ],
            [
             0.4444444444444444,
             "#bd3786"
            ],
            [
             0.5555555555555556,
             "#d8576b"
            ],
            [
             0.6666666666666666,
             "#ed7953"
            ],
            [
             0.7777777777777778,
             "#fb9f3a"
            ],
            [
             0.8888888888888888,
             "#fdca26"
            ],
            [
             1,
             "#f0f921"
            ]
           ]
          },
          "colorway": [
           "#636efa",
           "#EF553B",
           "#00cc96",
           "#ab63fa",
           "#FFA15A",
           "#19d3f3",
           "#FF6692",
           "#B6E880",
           "#FF97FF",
           "#FECB52"
          ],
          "font": {
           "color": "#2a3f5f"
          },
          "geo": {
           "bgcolor": "white",
           "lakecolor": "white",
           "landcolor": "#E5ECF6",
           "showlakes": true,
           "showland": true,
           "subunitcolor": "white"
          },
          "hoverlabel": {
           "align": "left"
          },
          "hovermode": "closest",
          "mapbox": {
           "style": "light"
          },
          "paper_bgcolor": "white",
          "plot_bgcolor": "#E5ECF6",
          "polar": {
           "angularaxis": {
            "gridcolor": "white",
            "linecolor": "white",
            "ticks": ""
           },
           "bgcolor": "#E5ECF6",
           "radialaxis": {
            "gridcolor": "white",
            "linecolor": "white",
            "ticks": ""
           }
          },
          "scene": {
           "xaxis": {
            "backgroundcolor": "#E5ECF6",
            "gridcolor": "white",
            "gridwidth": 2,
            "linecolor": "white",
            "showbackground": true,
            "ticks": "",
            "zerolinecolor": "white"
           },
           "yaxis": {
            "backgroundcolor": "#E5ECF6",
            "gridcolor": "white",
            "gridwidth": 2,
            "linecolor": "white",
            "showbackground": true,
            "ticks": "",
            "zerolinecolor": "white"
           },
           "zaxis": {
            "backgroundcolor": "#E5ECF6",
            "gridcolor": "white",
            "gridwidth": 2,
            "linecolor": "white",
            "showbackground": true,
            "ticks": "",
            "zerolinecolor": "white"
           }
          },
          "shapedefaults": {
           "line": {
            "color": "#2a3f5f"
           }
          },
          "ternary": {
           "aaxis": {
            "gridcolor": "white",
            "linecolor": "white",
            "ticks": ""
           },
           "baxis": {
            "gridcolor": "white",
            "linecolor": "white",
            "ticks": ""
           },
           "bgcolor": "#E5ECF6",
           "caxis": {
            "gridcolor": "white",
            "linecolor": "white",
            "ticks": ""
           }
          },
          "title": {
           "x": 0.05
          },
          "xaxis": {
           "automargin": true,
           "gridcolor": "white",
           "linecolor": "white",
           "ticks": "",
           "title": {
            "standoff": 15
           },
           "zerolinecolor": "white",
           "zerolinewidth": 2
          },
          "yaxis": {
           "automargin": true,
           "gridcolor": "white",
           "linecolor": "white",
           "ticks": "",
           "title": {
            "standoff": 15
           },
           "zerolinecolor": "white",
           "zerolinewidth": 2
          }
         }
        },
        "title": {
         "text": "Análisis de Evasión por Perfil Demográfico"
        },
        "xaxis": {
         "anchor": "y",
         "domain": [
          0,
          0.45
         ]
        },
        "xaxis2": {
         "anchor": "y2",
         "domain": [
          0.55,
          1
         ]
        },
        "xaxis3": {
         "anchor": "y3",
         "domain": [
          0,
          0.45
         ]
        },
        "xaxis4": {
         "anchor": "y4",
         "domain": [
          0.55,
          1
         ]
        },
        "yaxis": {
         "anchor": "x",
         "domain": [
          0.625,
          1
         ],
         "title": {
          "text": "Tasa de Evasión (Churn Rate)"
         }
        },
        "yaxis2": {
         "anchor": "x2",
         "domain": [
          0.625,
          1
         ],
         "title": {
          "text": "Tasa de Evasión (Churn Rate)"
         }
        },
        "yaxis3": {
         "anchor": "x3",
         "domain": [
          0,
          0.375
         ],
         "title": {
          "text": "Tasa de Evasión (Churn Rate)"
         }
        },
        "yaxis4": {
         "anchor": "x4",
         "domain": [
          0,
          0.375
         ],
         "title": {
          "text": "Tasa de Evasión (Churn Rate)"
         }
        }
       }
      }
     },
     "metadata": {},
     "output_type": "display_data"
    }
   ],
   "source": [
    "# Lista de columnas demográficas que ya están en formato numérico/binario\n",
    "demographic_cols = ['gender', 'SeniorCitizen', 'Partner', 'Dependents']\n",
    "\n",
    "# Creamos una figura con subplots para mostrar todos los gráficos juntos\n",
    "fig = make_subplots(\n",
    "    rows=2, cols=2,\n",
    "    subplot_titles=('Evasión por Género', 'Evasión por Adulto Mayor', 'Evasión por Pareja', 'Evasión por Dependientes')\n",
    ")\n",
    "\n",
    "# Mapeo de etiquetas para los gráficos\n",
    "labels_map = {\n",
    "    'gender': {0: 'Masculino', 1: 'Femenino'},\n",
    "    'SeniorCitizen': {0: 'No', 1: 'Sí'},\n",
    "    'Partner': {0: 'No', 1: 'Sí'},\n",
    "    'Dependents': {0: 'No', 1: 'Sí'}\n",
    "}\n",
    "\n",
    "# Iteramos para crear cada gráfico y añadirlo a la figura\n",
    "row, col = 1, 1\n",
    "for column in demographic_cols:\n",
    "    # Agrupamos y calculamos la tasa de churn\n",
    "    churn_rate = df_final.groupby(column)['Churn'].mean().reset_index()\n",
    "\n",
    "    # Mapeamos los valores numéricos a etiquetas de texto para mayor claridad\n",
    "    churn_rate[column] = churn_rate[column].map(labels_map[column])\n",
    "\n",
    "    # Creamos el gráfico de barras\n",
    "    bar_fig = px.bar(\n",
    "        churn_rate,\n",
    "        x=column,\n",
    "        y='Churn',\n",
    "        text=churn_rate['Churn'].apply(lambda x: f'{x:.2%}'), # Formato de porcentaje\n",
    "        color=column,\n",
    "        color_discrete_sequence=px.colors.qualitative.Pastel\n",
    "    )\n",
    "\n",
    "    # Añadimos las barras a nuestra figura de subplots\n",
    "    for trace in bar_fig.data:\n",
    "        fig.add_trace(trace, row=row, col=col)\n",
    "\n",
    "    # Actualizamos la posición para el siguiente gráfico\n",
    "    col += 1\n",
    "    if col > 2:\n",
    "        col = 1\n",
    "        row += 1\n",
    "\n",
    "fig.update_layout(\n",
    "    title_text='Análisis de Evasión por Perfil Demográfico',\n",
    "    height=600,\n",
    "    showlegend=False\n",
    ")\n",
    "fig.update_yaxes(title_text='Tasa de Evasión (Churn Rate)')\n",
    "fig.show()"
   ]
  },
  {
   "cell_type": "markdown",
   "id": "1446d5b1",
   "metadata": {},
   "source": [
    "#### 💡 Análisis del Perfil Demográfico\n",
    "\n",
    "Los gráficos revelan algunos patrones:\n",
    "\n",
    "* **Género**: No existe una diferencia significativa en la tasa de evasión entre **clientes masculinos y femeninos**. Ambas tasas rondan el promedio general del `~26.5%`, por lo que este factor no parece ser un diferenciador clave.\n",
    "\n",
    "* **Adulto Mayor (SeniorCitizen)**: Aquí encontramos la primera gran señal de alerta, ya que los adultos mayores tienen una tasa de evasión del `41.68%`, muy por encima del promedio.\n",
    "\n",
    "* **Pareja (Partner)**: Los clientes que no tienen pareja muestran una tasa de evasión del 32.98%, mientras que aquellos con pareja tienen una tasa mucho menor (19.66%), parce que la estabilidad de tener una pareja influye en la permanencia.\n",
    "\n",
    "* **Dependientes (Dependents)**: Los clientes sin dependientes tienen una tasa de evasión del `~31.28%`, casi el doble que la de los clientes con dependientes `~15.45%`).\n",
    "\n",
    "***Conclusión Inicial***: He identificado un perfil demográfico de alto riesgo. Un cliente `adulto mayor`, `soltero` y `sin dependientes` es significativamente más propenso a cancelar el servicio."
   ]
  },
  {
   "cell_type": "markdown",
   "id": "5b1fd3ed",
   "metadata": {},
   "source": [
    "### 🎯 3.4. Análisis de Evasión por Variables de Contratación\n",
    "\n",
    "**Objetivo**: Determinar cómo las características del `contrato` y la `facturación` del cliente se relacionan con la tasa de evasión.\n",
    "\n",
    "**Método**: Al igual que en el paso anterior, calculare la tasa de evasión promedio para cada categoría de estas variables.\n",
    "\n",
    "**Justificación**: A diferencia de los datos demográficos, **estas variables representan decisiones y procesos que la empresa controla directamente** por lo que descubrir que un tipo de contrato o un método de pago tiene una tasa de evasión masiva es un **insight** de negocio extremadamente **accionable**, ya que puede inspirar **cambios inmediatos** en la oferta de productos, los procesos de facturación o las estrategias de fidelización."
   ]
  },
  {
   "cell_type": "code",
   "execution_count": 18,
   "id": "217904b4",
   "metadata": {},
   "outputs": [
    {
     "data": {
      "application/vnd.plotly.v1+json": {
       "config": {
        "plotlyServerURL": "https://plot.ly"
       },
       "data": [
        {
         "name": "Contract",
         "text": [
          "42.71%",
          "11.27%",
          "2.83%"
         ],
         "type": "bar",
         "x": [
          "Month-to-month",
          "One year",
          "Two year"
         ],
         "xaxis": "x",
         "y": {
          "bdata": "VttYtY1V2z+kzhtgl9m8P8D4zwGM/5w/",
          "dtype": "f8"
         },
         "yaxis": "y"
        },
        {
         "name": "PaperlessBilling",
         "text": [
          "16.33%",
          "33.57%"
         ],
         "type": "bar",
         "x": [
          "No",
          "Sí"
         ],
         "xaxis": "x2",
         "y": {
          "bdata": "DeJFsgrnxD8/EVUCTnvVPw==",
          "dtype": "f8"
         },
         "yaxis": "y2"
        },
        {
         "name": "PaymentMethod",
         "text": [
          "16.71%",
          "15.24%",
          "45.29%",
          "19.11%"
         ],
         "type": "bar",
         "x": [
          "Bank transfer (automatic)",
          "Credit card (automatic)",
          "Electronic check",
          "Mailed check"
         ],
         "xaxis": "x3",
         "y": {
          "bdata": "C/iFW3tjxT8beVgB3ILDP1stoduP+9w/6/rXJOJ0yD8=",
          "dtype": "f8"
         },
         "yaxis": "y3"
        }
       ],
       "layout": {
        "annotations": [
         {
          "font": {
           "size": 16
          },
          "showarrow": false,
          "text": "Evasión por Tipo de Contrato",
          "x": 0.14444444444444446,
          "xanchor": "center",
          "xref": "paper",
          "y": 1,
          "yanchor": "bottom",
          "yref": "paper"
         },
         {
          "font": {
           "size": 16
          },
          "showarrow": false,
          "text": "Evasión por Facturación sin Papel",
          "x": 0.5,
          "xanchor": "center",
          "xref": "paper",
          "y": 1,
          "yanchor": "bottom",
          "yref": "paper"
         },
         {
          "font": {
           "size": 16
          },
          "showarrow": false,
          "text": "Evasión por Método de Pago",
          "x": 0.8555555555555556,
          "xanchor": "center",
          "xref": "paper",
          "y": 1,
          "yanchor": "bottom",
          "yref": "paper"
         }
        ],
        "height": 500,
        "showlegend": false,
        "template": {
         "data": {
          "bar": [
           {
            "error_x": {
             "color": "#2a3f5f"
            },
            "error_y": {
             "color": "#2a3f5f"
            },
            "marker": {
             "line": {
              "color": "#E5ECF6",
              "width": 0.5
             },
             "pattern": {
              "fillmode": "overlay",
              "size": 10,
              "solidity": 0.2
             }
            },
            "type": "bar"
           }
          ],
          "barpolar": [
           {
            "marker": {
             "line": {
              "color": "#E5ECF6",
              "width": 0.5
             },
             "pattern": {
              "fillmode": "overlay",
              "size": 10,
              "solidity": 0.2
             }
            },
            "type": "barpolar"
           }
          ],
          "carpet": [
           {
            "aaxis": {
             "endlinecolor": "#2a3f5f",
             "gridcolor": "white",
             "linecolor": "white",
             "minorgridcolor": "white",
             "startlinecolor": "#2a3f5f"
            },
            "baxis": {
             "endlinecolor": "#2a3f5f",
             "gridcolor": "white",
             "linecolor": "white",
             "minorgridcolor": "white",
             "startlinecolor": "#2a3f5f"
            },
            "type": "carpet"
           }
          ],
          "choropleth": [
           {
            "colorbar": {
             "outlinewidth": 0,
             "ticks": ""
            },
            "type": "choropleth"
           }
          ],
          "contour": [
           {
            "colorbar": {
             "outlinewidth": 0,
             "ticks": ""
            },
            "colorscale": [
             [
              0,
              "#0d0887"
             ],
             [
              0.1111111111111111,
              "#46039f"
             ],
             [
              0.2222222222222222,
              "#7201a8"
             ],
             [
              0.3333333333333333,
              "#9c179e"
             ],
             [
              0.4444444444444444,
              "#bd3786"
             ],
             [
              0.5555555555555556,
              "#d8576b"
             ],
             [
              0.6666666666666666,
              "#ed7953"
             ],
             [
              0.7777777777777778,
              "#fb9f3a"
             ],
             [
              0.8888888888888888,
              "#fdca26"
             ],
             [
              1,
              "#f0f921"
             ]
            ],
            "type": "contour"
           }
          ],
          "contourcarpet": [
           {
            "colorbar": {
             "outlinewidth": 0,
             "ticks": ""
            },
            "type": "contourcarpet"
           }
          ],
          "heatmap": [
           {
            "colorbar": {
             "outlinewidth": 0,
             "ticks": ""
            },
            "colorscale": [
             [
              0,
              "#0d0887"
             ],
             [
              0.1111111111111111,
              "#46039f"
             ],
             [
              0.2222222222222222,
              "#7201a8"
             ],
             [
              0.3333333333333333,
              "#9c179e"
             ],
             [
              0.4444444444444444,
              "#bd3786"
             ],
             [
              0.5555555555555556,
              "#d8576b"
             ],
             [
              0.6666666666666666,
              "#ed7953"
             ],
             [
              0.7777777777777778,
              "#fb9f3a"
             ],
             [
              0.8888888888888888,
              "#fdca26"
             ],
             [
              1,
              "#f0f921"
             ]
            ],
            "type": "heatmap"
           }
          ],
          "histogram": [
           {
            "marker": {
             "pattern": {
              "fillmode": "overlay",
              "size": 10,
              "solidity": 0.2
             }
            },
            "type": "histogram"
           }
          ],
          "histogram2d": [
           {
            "colorbar": {
             "outlinewidth": 0,
             "ticks": ""
            },
            "colorscale": [
             [
              0,
              "#0d0887"
             ],
             [
              0.1111111111111111,
              "#46039f"
             ],
             [
              0.2222222222222222,
              "#7201a8"
             ],
             [
              0.3333333333333333,
              "#9c179e"
             ],
             [
              0.4444444444444444,
              "#bd3786"
             ],
             [
              0.5555555555555556,
              "#d8576b"
             ],
             [
              0.6666666666666666,
              "#ed7953"
             ],
             [
              0.7777777777777778,
              "#fb9f3a"
             ],
             [
              0.8888888888888888,
              "#fdca26"
             ],
             [
              1,
              "#f0f921"
             ]
            ],
            "type": "histogram2d"
           }
          ],
          "histogram2dcontour": [
           {
            "colorbar": {
             "outlinewidth": 0,
             "ticks": ""
            },
            "colorscale": [
             [
              0,
              "#0d0887"
             ],
             [
              0.1111111111111111,
              "#46039f"
             ],
             [
              0.2222222222222222,
              "#7201a8"
             ],
             [
              0.3333333333333333,
              "#9c179e"
             ],
             [
              0.4444444444444444,
              "#bd3786"
             ],
             [
              0.5555555555555556,
              "#d8576b"
             ],
             [
              0.6666666666666666,
              "#ed7953"
             ],
             [
              0.7777777777777778,
              "#fb9f3a"
             ],
             [
              0.8888888888888888,
              "#fdca26"
             ],
             [
              1,
              "#f0f921"
             ]
            ],
            "type": "histogram2dcontour"
           }
          ],
          "mesh3d": [
           {
            "colorbar": {
             "outlinewidth": 0,
             "ticks": ""
            },
            "type": "mesh3d"
           }
          ],
          "parcoords": [
           {
            "line": {
             "colorbar": {
              "outlinewidth": 0,
              "ticks": ""
             }
            },
            "type": "parcoords"
           }
          ],
          "pie": [
           {
            "automargin": true,
            "type": "pie"
           }
          ],
          "scatter": [
           {
            "fillpattern": {
             "fillmode": "overlay",
             "size": 10,
             "solidity": 0.2
            },
            "type": "scatter"
           }
          ],
          "scatter3d": [
           {
            "line": {
             "colorbar": {
              "outlinewidth": 0,
              "ticks": ""
             }
            },
            "marker": {
             "colorbar": {
              "outlinewidth": 0,
              "ticks": ""
             }
            },
            "type": "scatter3d"
           }
          ],
          "scattercarpet": [
           {
            "marker": {
             "colorbar": {
              "outlinewidth": 0,
              "ticks": ""
             }
            },
            "type": "scattercarpet"
           }
          ],
          "scattergeo": [
           {
            "marker": {
             "colorbar": {
              "outlinewidth": 0,
              "ticks": ""
             }
            },
            "type": "scattergeo"
           }
          ],
          "scattergl": [
           {
            "marker": {
             "colorbar": {
              "outlinewidth": 0,
              "ticks": ""
             }
            },
            "type": "scattergl"
           }
          ],
          "scattermap": [
           {
            "marker": {
             "colorbar": {
              "outlinewidth": 0,
              "ticks": ""
             }
            },
            "type": "scattermap"
           }
          ],
          "scattermapbox": [
           {
            "marker": {
             "colorbar": {
              "outlinewidth": 0,
              "ticks": ""
             }
            },
            "type": "scattermapbox"
           }
          ],
          "scatterpolar": [
           {
            "marker": {
             "colorbar": {
              "outlinewidth": 0,
              "ticks": ""
             }
            },
            "type": "scatterpolar"
           }
          ],
          "scatterpolargl": [
           {
            "marker": {
             "colorbar": {
              "outlinewidth": 0,
              "ticks": ""
             }
            },
            "type": "scatterpolargl"
           }
          ],
          "scatterternary": [
           {
            "marker": {
             "colorbar": {
              "outlinewidth": 0,
              "ticks": ""
             }
            },
            "type": "scatterternary"
           }
          ],
          "surface": [
           {
            "colorbar": {
             "outlinewidth": 0,
             "ticks": ""
            },
            "colorscale": [
             [
              0,
              "#0d0887"
             ],
             [
              0.1111111111111111,
              "#46039f"
             ],
             [
              0.2222222222222222,
              "#7201a8"
             ],
             [
              0.3333333333333333,
              "#9c179e"
             ],
             [
              0.4444444444444444,
              "#bd3786"
             ],
             [
              0.5555555555555556,
              "#d8576b"
             ],
             [
              0.6666666666666666,
              "#ed7953"
             ],
             [
              0.7777777777777778,
              "#fb9f3a"
             ],
             [
              0.8888888888888888,
              "#fdca26"
             ],
             [
              1,
              "#f0f921"
             ]
            ],
            "type": "surface"
           }
          ],
          "table": [
           {
            "cells": {
             "fill": {
              "color": "#EBF0F8"
             },
             "line": {
              "color": "white"
             }
            },
            "header": {
             "fill": {
              "color": "#C8D4E3"
             },
             "line": {
              "color": "white"
             }
            },
            "type": "table"
           }
          ]
         },
         "layout": {
          "annotationdefaults": {
           "arrowcolor": "#2a3f5f",
           "arrowhead": 0,
           "arrowwidth": 1
          },
          "autotypenumbers": "strict",
          "coloraxis": {
           "colorbar": {
            "outlinewidth": 0,
            "ticks": ""
           }
          },
          "colorscale": {
           "diverging": [
            [
             0,
             "#8e0152"
            ],
            [
             0.1,
             "#c51b7d"
            ],
            [
             0.2,
             "#de77ae"
            ],
            [
             0.3,
             "#f1b6da"
            ],
            [
             0.4,
             "#fde0ef"
            ],
            [
             0.5,
             "#f7f7f7"
            ],
            [
             0.6,
             "#e6f5d0"
            ],
            [
             0.7,
             "#b8e186"
            ],
            [
             0.8,
             "#7fbc41"
            ],
            [
             0.9,
             "#4d9221"
            ],
            [
             1,
             "#276419"
            ]
           ],
           "sequential": [
            [
             0,
             "#0d0887"
            ],
            [
             0.1111111111111111,
             "#46039f"
            ],
            [
             0.2222222222222222,
             "#7201a8"
            ],
            [
             0.3333333333333333,
             "#9c179e"
            ],
            [
             0.4444444444444444,
             "#bd3786"
            ],
            [
             0.5555555555555556,
             "#d8576b"
            ],
            [
             0.6666666666666666,
             "#ed7953"
            ],
            [
             0.7777777777777778,
             "#fb9f3a"
            ],
            [
             0.8888888888888888,
             "#fdca26"
            ],
            [
             1,
             "#f0f921"
            ]
           ],
           "sequentialminus": [
            [
             0,
             "#0d0887"
            ],
            [
             0.1111111111111111,
             "#46039f"
            ],
            [
             0.2222222222222222,
             "#7201a8"
            ],
            [
             0.3333333333333333,
             "#9c179e"
            ],
            [
             0.4444444444444444,
             "#bd3786"
            ],
            [
             0.5555555555555556,
             "#d8576b"
            ],
            [
             0.6666666666666666,
             "#ed7953"
            ],
            [
             0.7777777777777778,
             "#fb9f3a"
            ],
            [
             0.8888888888888888,
             "#fdca26"
            ],
            [
             1,
             "#f0f921"
            ]
           ]
          },
          "colorway": [
           "#636efa",
           "#EF553B",
           "#00cc96",
           "#ab63fa",
           "#FFA15A",
           "#19d3f3",
           "#FF6692",
           "#B6E880",
           "#FF97FF",
           "#FECB52"
          ],
          "font": {
           "color": "#2a3f5f"
          },
          "geo": {
           "bgcolor": "white",
           "lakecolor": "white",
           "landcolor": "#E5ECF6",
           "showlakes": true,
           "showland": true,
           "subunitcolor": "white"
          },
          "hoverlabel": {
           "align": "left"
          },
          "hovermode": "closest",
          "mapbox": {
           "style": "light"
          },
          "paper_bgcolor": "white",
          "plot_bgcolor": "#E5ECF6",
          "polar": {
           "angularaxis": {
            "gridcolor": "white",
            "linecolor": "white",
            "ticks": ""
           },
           "bgcolor": "#E5ECF6",
           "radialaxis": {
            "gridcolor": "white",
            "linecolor": "white",
            "ticks": ""
           }
          },
          "scene": {
           "xaxis": {
            "backgroundcolor": "#E5ECF6",
            "gridcolor": "white",
            "gridwidth": 2,
            "linecolor": "white",
            "showbackground": true,
            "ticks": "",
            "zerolinecolor": "white"
           },
           "yaxis": {
            "backgroundcolor": "#E5ECF6",
            "gridcolor": "white",
            "gridwidth": 2,
            "linecolor": "white",
            "showbackground": true,
            "ticks": "",
            "zerolinecolor": "white"
           },
           "zaxis": {
            "backgroundcolor": "#E5ECF6",
            "gridcolor": "white",
            "gridwidth": 2,
            "linecolor": "white",
            "showbackground": true,
            "ticks": "",
            "zerolinecolor": "white"
           }
          },
          "shapedefaults": {
           "line": {
            "color": "#2a3f5f"
           }
          },
          "ternary": {
           "aaxis": {
            "gridcolor": "white",
            "linecolor": "white",
            "ticks": ""
           },
           "baxis": {
            "gridcolor": "white",
            "linecolor": "white",
            "ticks": ""
           },
           "bgcolor": "#E5ECF6",
           "caxis": {
            "gridcolor": "white",
            "linecolor": "white",
            "ticks": ""
           }
          },
          "title": {
           "x": 0.05
          },
          "xaxis": {
           "automargin": true,
           "gridcolor": "white",
           "linecolor": "white",
           "ticks": "",
           "title": {
            "standoff": 15
           },
           "zerolinecolor": "white",
           "zerolinewidth": 2
          },
          "yaxis": {
           "automargin": true,
           "gridcolor": "white",
           "linecolor": "white",
           "ticks": "",
           "title": {
            "standoff": 15
           },
           "zerolinecolor": "white",
           "zerolinewidth": 2
          }
         }
        },
        "title": {
         "text": "Análisis de Evasión por Condiciones de la Cuenta"
        },
        "xaxis": {
         "anchor": "y",
         "domain": [
          0,
          0.2888888888888889
         ],
         "tickangle": 15
        },
        "xaxis2": {
         "anchor": "y2",
         "domain": [
          0.35555555555555557,
          0.6444444444444445
         ],
         "tickangle": 15
        },
        "xaxis3": {
         "anchor": "y3",
         "domain": [
          0.7111111111111111,
          1
         ],
         "tickangle": 15
        },
        "yaxis": {
         "anchor": "x",
         "domain": [
          0,
          1
         ],
         "title": {
          "text": "Tasa de Evasión (Churn Rate)"
         }
        },
        "yaxis2": {
         "anchor": "x2",
         "domain": [
          0,
          1
         ],
         "title": {
          "text": "Tasa de Evasión (Churn Rate)"
         }
        },
        "yaxis3": {
         "anchor": "x3",
         "domain": [
          0,
          1
         ],
         "title": {
          "text": "Tasa de Evasión (Churn Rate)"
         }
        }
       }
      }
     },
     "metadata": {},
     "output_type": "display_data"
    }
   ],
   "source": [
    "# Lista de columnas relacionadas con la contratación\n",
    "account_cols = ['Contract', 'PaperlessBilling', 'PaymentMethod']\n",
    "\n",
    "# Creamos una figura con subplots\n",
    "fig = make_subplots(\n",
    "    rows=1, cols=3,\n",
    "    subplot_titles=('Evasión por Tipo de Contrato', 'Evasión por Facturación sin Papel', 'Evasión por Método de Pago')\n",
    ")\n",
    "\n",
    "# Mapeo de etiquetas para PaperlessBilling\n",
    "paperless_labels = {0: 'No', 1: 'Sí'}\n",
    "\n",
    "# Gráfico para 'Contract'\n",
    "churn_rate_contract = df_final.groupby('Contract', observed=False )['Churn'].mean().reset_index() # el valor por default para observed=False sera removido \n",
    "fig.add_trace(\n",
    "    go.Bar(\n",
    "        x=churn_rate_contract['Contract'],\n",
    "        y=churn_rate_contract['Churn'],\n",
    "        text=churn_rate_contract['Churn'].apply(lambda x: f'{x:.2%}'),\n",
    "        name='Contract'\n",
    "    ), row=1, col=1\n",
    ")\n",
    "\n",
    "# Gráfico para 'PaperlessBilling'\n",
    "churn_rate_paperless = df_final.groupby('PaperlessBilling', observed=False)['Churn'].mean().reset_index()\n",
    "churn_rate_paperless['PaperlessBilling'] = churn_rate_paperless['PaperlessBilling'].map(paperless_labels)\n",
    "fig.add_trace(\n",
    "    go.Bar(\n",
    "        x=churn_rate_paperless['PaperlessBilling'],\n",
    "        y=churn_rate_paperless['Churn'],\n",
    "        text=churn_rate_paperless['Churn'].apply(lambda x: f'{x:.2%}'),\n",
    "        name='PaperlessBilling'\n",
    "    ), row=1, col=2\n",
    ")\n",
    "\n",
    "# Gráfico para 'PaymentMethod'\n",
    "churn_rate_payment = df_final.groupby('PaymentMethod', observed=False)['Churn'].mean().reset_index()\n",
    "fig.add_trace(\n",
    "    go.Bar(\n",
    "        x=churn_rate_payment['PaymentMethod'],\n",
    "        y=churn_rate_payment['Churn'],\n",
    "        text=churn_rate_payment['Churn'].apply(lambda x: f'{x:.2%}'),\n",
    "        name='PaymentMethod'\n",
    "    ), row=1, col=3\n",
    ")\n",
    "\n",
    "fig.update_layout(\n",
    "    title_text='Análisis de Evasión por Condiciones de la Cuenta',\n",
    "    height=500,\n",
    "    showlegend=False\n",
    ")\n",
    "fig.update_yaxes(title_text='Tasa de Evasión (Churn Rate)')\n",
    "fig.update_xaxes(tickangle=15) # Inclinamos las etiquetas del eje X para mejor legibilidad\n",
    "fig.show()"
   ]
  },
  {
   "cell_type": "markdown",
   "id": "6a5518e1",
   "metadata": {},
   "source": [
    "#### 💡 Análisis de las Condiciones de Contratación\n",
    "\n",
    "Esta visualización nos ofrece algunos de los insights más potentes hasta ahora:\n",
    "\n",
    "* **Tipo de Contrato**: Este es, posiblemente, el factor más predictivo que he encontrado, al parecer los clientes con un contrato Mes a mes tienen una tasa de evasión del `42.71%`, una cifra astronómicamente alta en comparación con los contratos de Un año (`11.27%`) y Dos años (`2.83%`). La falta de un compromiso a largo plazo es un factor de riesgo crítico.\n",
    "\n",
    "* **Facturación sin Papel (PaperlessBilling)**: Los clientes que optan por la facturación sin papel tienen una tasa de evasión del `33.57%`, mientras que los que reciben factura física solo tienen una tasa del `16.33%`, este resultado es contraintuitivo, podría sugerirnos que el proceso de pago en línea es confuso, que los clientes pierden la noción de sus facturas, o que este servicio es más común entre clientes menos leales.\n",
    "\n",
    "* **Método de Pago (PaymentMethod)**: Los clientes que pagan con `Cheque electrónico` se van a una tasa del `45.26%` mientras que los clientes que usan métodos de pago automáticos como `transferencia` o `tarjeta de crédito` tienen tasas mucho más bajas. El pago manual y electrónico parece estar asociado a una menor permanencia.\n",
    "\n",
    "***Conclusión Inicial***: Un cliente con un contrato Mes a mes, que usa Facturación sin Papel y paga con Cheque electrónico tiene, potencialmente, el mayor riesgo de evasión.\n",
    "\n"
   ]
  },
  {
   "cell_type": "markdown",
   "id": "ed30cab3",
   "metadata": {},
   "source": [
    "### 🎯 3.5. Análisis de Evasión por Servicios Contratados\n",
    "\n",
    "**Objetivo**: Investigar cómo los diferentes servicios que un cliente ha contratado (tanto de telefonía como de internet) se correlacionan con su probabilidad de evasión.\n",
    "\n",
    "**Método**: Dividire el análisis en dos partes: **servicios telefónicos** y **servicios de internet**. Para cada servicio, agrupare los datos, calculare la tasa de evasión y creare gráficos de barras para visualizar los resultados.\n",
    "\n",
    "**Justificación**: Mi hipótesis es que los clientes con más servicios, especialmente aquellos que añaden valor y protección (como el soporte técnico o la seguridad en línea), estarán más satisfechos y, por lo tanto, serán menos propensos a irse."
   ]
  },
  {
   "cell_type": "markdown",
   "id": "7023c4d1",
   "metadata": {},
   "source": [
    "#### 📞 Servicios Telefónicos"
   ]
  },
  {
   "cell_type": "code",
   "execution_count": 19,
   "id": "021d8dea",
   "metadata": {},
   "outputs": [
    {
     "data": {
      "application/vnd.plotly.v1+json": {
       "config": {
        "plotlyServerURL": "https://plot.ly"
       },
       "data": [
        {
         "text": [
          "24.93%",
          "26.71%"
         ],
         "type": "bar",
         "x": [
          "No",
          "Sí"
         ],
         "xaxis": "x",
         "y": {
          "bdata": "6J9//vnnzz9LZORdGxjRPw==",
          "dtype": "f8"
         },
         "yaxis": "y"
        },
        {
         "text": [
          "25.04%",
          "24.93%",
          "28.61%"
         ],
         "type": "bar",
         "x": [
          "No",
          "No phone service",
          "Yes"
         ],
         "xaxis": "x2",
         "y": {
          "bdata": "/nMA4z8H0D/on3/++efPPwume/9xT9I/",
          "dtype": "f8"
         },
         "yaxis": "y2"
        }
       ],
       "layout": {
        "annotations": [
         {
          "font": {
           "size": 16
          },
          "showarrow": false,
          "text": "Evasión por Tener Servicio Telefónico",
          "x": 0.225,
          "xanchor": "center",
          "xref": "paper",
          "y": 1,
          "yanchor": "bottom",
          "yref": "paper"
         },
         {
          "font": {
           "size": 16
          },
          "showarrow": false,
          "text": "Evasión por Múltiples Líneas",
          "x": 0.775,
          "xanchor": "center",
          "xref": "paper",
          "y": 1,
          "yanchor": "bottom",
          "yref": "paper"
         }
        ],
        "showlegend": false,
        "template": {
         "data": {
          "bar": [
           {
            "error_x": {
             "color": "#2a3f5f"
            },
            "error_y": {
             "color": "#2a3f5f"
            },
            "marker": {
             "line": {
              "color": "#E5ECF6",
              "width": 0.5
             },
             "pattern": {
              "fillmode": "overlay",
              "size": 10,
              "solidity": 0.2
             }
            },
            "type": "bar"
           }
          ],
          "barpolar": [
           {
            "marker": {
             "line": {
              "color": "#E5ECF6",
              "width": 0.5
             },
             "pattern": {
              "fillmode": "overlay",
              "size": 10,
              "solidity": 0.2
             }
            },
            "type": "barpolar"
           }
          ],
          "carpet": [
           {
            "aaxis": {
             "endlinecolor": "#2a3f5f",
             "gridcolor": "white",
             "linecolor": "white",
             "minorgridcolor": "white",
             "startlinecolor": "#2a3f5f"
            },
            "baxis": {
             "endlinecolor": "#2a3f5f",
             "gridcolor": "white",
             "linecolor": "white",
             "minorgridcolor": "white",
             "startlinecolor": "#2a3f5f"
            },
            "type": "carpet"
           }
          ],
          "choropleth": [
           {
            "colorbar": {
             "outlinewidth": 0,
             "ticks": ""
            },
            "type": "choropleth"
           }
          ],
          "contour": [
           {
            "colorbar": {
             "outlinewidth": 0,
             "ticks": ""
            },
            "colorscale": [
             [
              0,
              "#0d0887"
             ],
             [
              0.1111111111111111,
              "#46039f"
             ],
             [
              0.2222222222222222,
              "#7201a8"
             ],
             [
              0.3333333333333333,
              "#9c179e"
             ],
             [
              0.4444444444444444,
              "#bd3786"
             ],
             [
              0.5555555555555556,
              "#d8576b"
             ],
             [
              0.6666666666666666,
              "#ed7953"
             ],
             [
              0.7777777777777778,
              "#fb9f3a"
             ],
             [
              0.8888888888888888,
              "#fdca26"
             ],
             [
              1,
              "#f0f921"
             ]
            ],
            "type": "contour"
           }
          ],
          "contourcarpet": [
           {
            "colorbar": {
             "outlinewidth": 0,
             "ticks": ""
            },
            "type": "contourcarpet"
           }
          ],
          "heatmap": [
           {
            "colorbar": {
             "outlinewidth": 0,
             "ticks": ""
            },
            "colorscale": [
             [
              0,
              "#0d0887"
             ],
             [
              0.1111111111111111,
              "#46039f"
             ],
             [
              0.2222222222222222,
              "#7201a8"
             ],
             [
              0.3333333333333333,
              "#9c179e"
             ],
             [
              0.4444444444444444,
              "#bd3786"
             ],
             [
              0.5555555555555556,
              "#d8576b"
             ],
             [
              0.6666666666666666,
              "#ed7953"
             ],
             [
              0.7777777777777778,
              "#fb9f3a"
             ],
             [
              0.8888888888888888,
              "#fdca26"
             ],
             [
              1,
              "#f0f921"
             ]
            ],
            "type": "heatmap"
           }
          ],
          "histogram": [
           {
            "marker": {
             "pattern": {
              "fillmode": "overlay",
              "size": 10,
              "solidity": 0.2
             }
            },
            "type": "histogram"
           }
          ],
          "histogram2d": [
           {
            "colorbar": {
             "outlinewidth": 0,
             "ticks": ""
            },
            "colorscale": [
             [
              0,
              "#0d0887"
             ],
             [
              0.1111111111111111,
              "#46039f"
             ],
             [
              0.2222222222222222,
              "#7201a8"
             ],
             [
              0.3333333333333333,
              "#9c179e"
             ],
             [
              0.4444444444444444,
              "#bd3786"
             ],
             [
              0.5555555555555556,
              "#d8576b"
             ],
             [
              0.6666666666666666,
              "#ed7953"
             ],
             [
              0.7777777777777778,
              "#fb9f3a"
             ],
             [
              0.8888888888888888,
              "#fdca26"
             ],
             [
              1,
              "#f0f921"
             ]
            ],
            "type": "histogram2d"
           }
          ],
          "histogram2dcontour": [
           {
            "colorbar": {
             "outlinewidth": 0,
             "ticks": ""
            },
            "colorscale": [
             [
              0,
              "#0d0887"
             ],
             [
              0.1111111111111111,
              "#46039f"
             ],
             [
              0.2222222222222222,
              "#7201a8"
             ],
             [
              0.3333333333333333,
              "#9c179e"
             ],
             [
              0.4444444444444444,
              "#bd3786"
             ],
             [
              0.5555555555555556,
              "#d8576b"
             ],
             [
              0.6666666666666666,
              "#ed7953"
             ],
             [
              0.7777777777777778,
              "#fb9f3a"
             ],
             [
              0.8888888888888888,
              "#fdca26"
             ],
             [
              1,
              "#f0f921"
             ]
            ],
            "type": "histogram2dcontour"
           }
          ],
          "mesh3d": [
           {
            "colorbar": {
             "outlinewidth": 0,
             "ticks": ""
            },
            "type": "mesh3d"
           }
          ],
          "parcoords": [
           {
            "line": {
             "colorbar": {
              "outlinewidth": 0,
              "ticks": ""
             }
            },
            "type": "parcoords"
           }
          ],
          "pie": [
           {
            "automargin": true,
            "type": "pie"
           }
          ],
          "scatter": [
           {
            "fillpattern": {
             "fillmode": "overlay",
             "size": 10,
             "solidity": 0.2
            },
            "type": "scatter"
           }
          ],
          "scatter3d": [
           {
            "line": {
             "colorbar": {
              "outlinewidth": 0,
              "ticks": ""
             }
            },
            "marker": {
             "colorbar": {
              "outlinewidth": 0,
              "ticks": ""
             }
            },
            "type": "scatter3d"
           }
          ],
          "scattercarpet": [
           {
            "marker": {
             "colorbar": {
              "outlinewidth": 0,
              "ticks": ""
             }
            },
            "type": "scattercarpet"
           }
          ],
          "scattergeo": [
           {
            "marker": {
             "colorbar": {
              "outlinewidth": 0,
              "ticks": ""
             }
            },
            "type": "scattergeo"
           }
          ],
          "scattergl": [
           {
            "marker": {
             "colorbar": {
              "outlinewidth": 0,
              "ticks": ""
             }
            },
            "type": "scattergl"
           }
          ],
          "scattermap": [
           {
            "marker": {
             "colorbar": {
              "outlinewidth": 0,
              "ticks": ""
             }
            },
            "type": "scattermap"
           }
          ],
          "scattermapbox": [
           {
            "marker": {
             "colorbar": {
              "outlinewidth": 0,
              "ticks": ""
             }
            },
            "type": "scattermapbox"
           }
          ],
          "scatterpolar": [
           {
            "marker": {
             "colorbar": {
              "outlinewidth": 0,
              "ticks": ""
             }
            },
            "type": "scatterpolar"
           }
          ],
          "scatterpolargl": [
           {
            "marker": {
             "colorbar": {
              "outlinewidth": 0,
              "ticks": ""
             }
            },
            "type": "scatterpolargl"
           }
          ],
          "scatterternary": [
           {
            "marker": {
             "colorbar": {
              "outlinewidth": 0,
              "ticks": ""
             }
            },
            "type": "scatterternary"
           }
          ],
          "surface": [
           {
            "colorbar": {
             "outlinewidth": 0,
             "ticks": ""
            },
            "colorscale": [
             [
              0,
              "#0d0887"
             ],
             [
              0.1111111111111111,
              "#46039f"
             ],
             [
              0.2222222222222222,
              "#7201a8"
             ],
             [
              0.3333333333333333,
              "#9c179e"
             ],
             [
              0.4444444444444444,
              "#bd3786"
             ],
             [
              0.5555555555555556,
              "#d8576b"
             ],
             [
              0.6666666666666666,
              "#ed7953"
             ],
             [
              0.7777777777777778,
              "#fb9f3a"
             ],
             [
              0.8888888888888888,
              "#fdca26"
             ],
             [
              1,
              "#f0f921"
             ]
            ],
            "type": "surface"
           }
          ],
          "table": [
           {
            "cells": {
             "fill": {
              "color": "#EBF0F8"
             },
             "line": {
              "color": "white"
             }
            },
            "header": {
             "fill": {
              "color": "#C8D4E3"
             },
             "line": {
              "color": "white"
             }
            },
            "type": "table"
           }
          ]
         },
         "layout": {
          "annotationdefaults": {
           "arrowcolor": "#2a3f5f",
           "arrowhead": 0,
           "arrowwidth": 1
          },
          "autotypenumbers": "strict",
          "coloraxis": {
           "colorbar": {
            "outlinewidth": 0,
            "ticks": ""
           }
          },
          "colorscale": {
           "diverging": [
            [
             0,
             "#8e0152"
            ],
            [
             0.1,
             "#c51b7d"
            ],
            [
             0.2,
             "#de77ae"
            ],
            [
             0.3,
             "#f1b6da"
            ],
            [
             0.4,
             "#fde0ef"
            ],
            [
             0.5,
             "#f7f7f7"
            ],
            [
             0.6,
             "#e6f5d0"
            ],
            [
             0.7,
             "#b8e186"
            ],
            [
             0.8,
             "#7fbc41"
            ],
            [
             0.9,
             "#4d9221"
            ],
            [
             1,
             "#276419"
            ]
           ],
           "sequential": [
            [
             0,
             "#0d0887"
            ],
            [
             0.1111111111111111,
             "#46039f"
            ],
            [
             0.2222222222222222,
             "#7201a8"
            ],
            [
             0.3333333333333333,
             "#9c179e"
            ],
            [
             0.4444444444444444,
             "#bd3786"
            ],
            [
             0.5555555555555556,
             "#d8576b"
            ],
            [
             0.6666666666666666,
             "#ed7953"
            ],
            [
             0.7777777777777778,
             "#fb9f3a"
            ],
            [
             0.8888888888888888,
             "#fdca26"
            ],
            [
             1,
             "#f0f921"
            ]
           ],
           "sequentialminus": [
            [
             0,
             "#0d0887"
            ],
            [
             0.1111111111111111,
             "#46039f"
            ],
            [
             0.2222222222222222,
             "#7201a8"
            ],
            [
             0.3333333333333333,
             "#9c179e"
            ],
            [
             0.4444444444444444,
             "#bd3786"
            ],
            [
             0.5555555555555556,
             "#d8576b"
            ],
            [
             0.6666666666666666,
             "#ed7953"
            ],
            [
             0.7777777777777778,
             "#fb9f3a"
            ],
            [
             0.8888888888888888,
             "#fdca26"
            ],
            [
             1,
             "#f0f921"
            ]
           ]
          },
          "colorway": [
           "#636efa",
           "#EF553B",
           "#00cc96",
           "#ab63fa",
           "#FFA15A",
           "#19d3f3",
           "#FF6692",
           "#B6E880",
           "#FF97FF",
           "#FECB52"
          ],
          "font": {
           "color": "#2a3f5f"
          },
          "geo": {
           "bgcolor": "white",
           "lakecolor": "white",
           "landcolor": "#E5ECF6",
           "showlakes": true,
           "showland": true,
           "subunitcolor": "white"
          },
          "hoverlabel": {
           "align": "left"
          },
          "hovermode": "closest",
          "mapbox": {
           "style": "light"
          },
          "paper_bgcolor": "white",
          "plot_bgcolor": "#E5ECF6",
          "polar": {
           "angularaxis": {
            "gridcolor": "white",
            "linecolor": "white",
            "ticks": ""
           },
           "bgcolor": "#E5ECF6",
           "radialaxis": {
            "gridcolor": "white",
            "linecolor": "white",
            "ticks": ""
           }
          },
          "scene": {
           "xaxis": {
            "backgroundcolor": "#E5ECF6",
            "gridcolor": "white",
            "gridwidth": 2,
            "linecolor": "white",
            "showbackground": true,
            "ticks": "",
            "zerolinecolor": "white"
           },
           "yaxis": {
            "backgroundcolor": "#E5ECF6",
            "gridcolor": "white",
            "gridwidth": 2,
            "linecolor": "white",
            "showbackground": true,
            "ticks": "",
            "zerolinecolor": "white"
           },
           "zaxis": {
            "backgroundcolor": "#E5ECF6",
            "gridcolor": "white",
            "gridwidth": 2,
            "linecolor": "white",
            "showbackground": true,
            "ticks": "",
            "zerolinecolor": "white"
           }
          },
          "shapedefaults": {
           "line": {
            "color": "#2a3f5f"
           }
          },
          "ternary": {
           "aaxis": {
            "gridcolor": "white",
            "linecolor": "white",
            "ticks": ""
           },
           "baxis": {
            "gridcolor": "white",
            "linecolor": "white",
            "ticks": ""
           },
           "bgcolor": "#E5ECF6",
           "caxis": {
            "gridcolor": "white",
            "linecolor": "white",
            "ticks": ""
           }
          },
          "title": {
           "x": 0.05
          },
          "xaxis": {
           "automargin": true,
           "gridcolor": "white",
           "linecolor": "white",
           "ticks": "",
           "title": {
            "standoff": 15
           },
           "zerolinecolor": "white",
           "zerolinewidth": 2
          },
          "yaxis": {
           "automargin": true,
           "gridcolor": "white",
           "linecolor": "white",
           "ticks": "",
           "title": {
            "standoff": 15
           },
           "zerolinecolor": "white",
           "zerolinewidth": 2
          }
         }
        },
        "title": {
         "text": "Análisis de Evasión por Servicios Telefónicos"
        },
        "xaxis": {
         "anchor": "y",
         "domain": [
          0,
          0.45
         ]
        },
        "xaxis2": {
         "anchor": "y2",
         "domain": [
          0.55,
          1
         ]
        },
        "yaxis": {
         "anchor": "x",
         "domain": [
          0,
          1
         ],
         "title": {
          "text": "Tasa de Evasión (Churn Rate)"
         }
        },
        "yaxis2": {
         "anchor": "x2",
         "domain": [
          0,
          1
         ],
         "title": {
          "text": "Tasa de Evasión (Churn Rate)"
         }
        }
       }
      }
     },
     "metadata": {},
     "output_type": "display_data"
    }
   ],
   "source": [
    "# Lista de columnas de servicios telefónicos\n",
    "phone_cols = ['PhoneService', 'MultipleLines']\n",
    "\n",
    "# Mapeo de etiquetas\n",
    "phone_service_labels = {0: 'No', 1: 'Sí'}\n",
    "multiple_lines_labels = {0: 'No', 1: 'Sí', 'No phone service': 'Sin Serv. Tel.'}\n",
    "\n",
    "\n",
    "# Creamos figura con subplots\n",
    "fig = make_subplots(\n",
    "    rows=1, cols=2,\n",
    "    subplot_titles=('Evasión por Tener Servicio Telefónico', 'Evasión por Múltiples Líneas')\n",
    ")\n",
    "\n",
    "# Gráfico para PhoneService\n",
    "churn_rate_phone = df_final.groupby('PhoneService', observed=False)['Churn'].mean().reset_index()\n",
    "churn_rate_phone['PhoneService'] = churn_rate_phone['PhoneService'].map(phone_service_labels)\n",
    "fig.add_trace(go.Bar(x=churn_rate_phone['PhoneService'], y=churn_rate_phone['Churn'], text=churn_rate_phone['Churn'].apply(lambda x: f'{x:.2%}')), row=1, col=1)\n",
    "\n",
    "# Gráfico para MultipleLines\n",
    "churn_rate_lines = df_final.groupby('MultipleLines', observed=False)['Churn'].mean().reset_index()\n",
    "\n",
    "# churn_rate_lines['MultipleLines'] = churn_rate_lines['MultipleLines'].map(multiple_lines_labels) # El mapeo ya no es necesario con la última limpieza\n",
    "fig.add_trace(go.Bar(x=churn_rate_lines['MultipleLines'], y=churn_rate_lines['Churn'], text=churn_rate_lines['Churn'].apply(lambda x: f'{x:.2%}')), row=1, col=2)\n",
    "\n",
    "\n",
    "fig.update_layout(title_text='Análisis de Evasión por Servicios Telefónicos', showlegend=False)\n",
    "fig.update_yaxes(title_text='Tasa de Evasión (Churn Rate)')\n",
    "fig.show()"
   ]
  },
  {
   "cell_type": "markdown",
   "id": "711d3b4c",
   "metadata": {},
   "source": [
    "#### 🛜 Servicios de Internet"
   ]
  },
  {
   "cell_type": "code",
   "execution_count": 20,
   "id": "8c3823c7",
   "metadata": {},
   "outputs": [
    {
     "data": {
      "application/vnd.plotly.v1+json": {
       "config": {
        "plotlyServerURL": "https://plot.ly"
       },
       "data": [
        {
         "hovertemplate": "InternetService=%{x}<br>Churn=%{y}<br>text=%{text}<extra></extra>",
         "legendgroup": "",
         "marker": {
          "color": "#636efa",
          "pattern": {
           "shape": ""
          }
         },
         "name": "",
         "orientation": "v",
         "showlegend": false,
         "text": [
          "18.96%",
          "41.89%",
          "7.40%"
         ],
         "textposition": "auto",
         "type": "bar",
         "x": [
          "DSL",
          "Fiber optic",
          "No"
         ],
         "xaxis": "x",
         "y": {
          "bdata": "dpT0O4VEyD+0UILptc/aP08v6Yvt9LI/",
          "dtype": "f8"
         },
         "yaxis": "y"
        },
        {
         "hovertemplate": "OnlineSecurity=%{x}<br>Churn=%{y}<br>text=%{text}<extra></extra>",
         "legendgroup": "",
         "marker": {
          "color": "#636efa",
          "pattern": {
           "shape": ""
          }
         },
         "name": "",
         "orientation": "v",
         "showlegend": false,
         "text": [
          "41.77%",
          "7.40%",
          "14.61%"
         ],
         "textposition": "auto",
         "type": "bar",
         "x": [
          "No",
          "No internet service",
          "Yes"
         ],
         "xaxis": "x2",
         "y": {
          "bdata": "+oFoXg+72j9PL+mL7fSyP5OJocLLs8I/",
          "dtype": "f8"
         },
         "yaxis": "y2"
        },
        {
         "hovertemplate": "OnlineBackup=%{x}<br>Churn=%{y}<br>text=%{text}<extra></extra>",
         "legendgroup": "",
         "marker": {
          "color": "#636efa",
          "pattern": {
           "shape": ""
          }
         },
         "name": "",
         "orientation": "v",
         "showlegend": false,
         "text": [
          "39.93%",
          "7.40%",
          "21.53%"
         ],
         "textposition": "auto",
         "type": "bar",
         "x": [
          "No",
          "No internet service",
          "Yes"
         ],
         "xaxis": "x3",
         "y": {
          "bdata": "KuAXbu2N2T9PL+mL7fSyPy67UKpwj8s/",
          "dtype": "f8"
         },
         "yaxis": "y3"
        },
        {
         "hovertemplate": "DeviceProtection=%{x}<br>Churn=%{y}<br>text=%{text}<extra></extra>",
         "legendgroup": "",
         "marker": {
          "color": "#636efa",
          "pattern": {
           "shape": ""
          }
         },
         "name": "",
         "orientation": "v",
         "showlegend": false,
         "text": [
          "39.13%",
          "7.40%",
          "22.50%"
         ],
         "textposition": "auto",
         "type": "bar",
         "x": [
          "No",
          "No internet service",
          "Yes"
         ],
         "xaxis": "x4",
         "y": {
          "bdata": "XvuHjKsK2T9PL+mL7fSyP3R7qPl5zcw/",
          "dtype": "f8"
         },
         "yaxis": "y4"
        },
        {
         "hovertemplate": "TechSupport=%{x}<br>Churn=%{y}<br>text=%{text}<extra></extra>",
         "legendgroup": "",
         "marker": {
          "color": "#636efa",
          "pattern": {
           "shape": ""
          }
         },
         "name": "",
         "orientation": "v",
         "showlegend": false,
         "text": [
          "41.64%",
          "7.40%",
          "15.17%"
         ],
         "textposition": "auto",
         "type": "bar",
         "x": [
          "No",
          "No internet service",
          "Yes"
         ],
         "xaxis": "x5",
         "y": {
          "bdata": "qRA+Vo6l2j9PL+mL7fSyP5s2bdq0acM/",
          "dtype": "f8"
         },
         "yaxis": "y5"
        },
        {
         "hovertemplate": "StreamingTV=%{x}<br>Churn=%{y}<br>text=%{text}<extra></extra>",
         "legendgroup": "",
         "marker": {
          "color": "#636efa",
          "pattern": {
           "shape": ""
          }
         },
         "name": "",
         "orientation": "v",
         "showlegend": false,
         "text": [
          "33.52%",
          "7.40%",
          "30.07%"
         ],
         "textposition": "auto",
         "type": "bar",
         "x": [
          "No",
          "No internet service",
          "Yes"
         ],
         "xaxis": "x6",
         "y": {
          "bdata": "2bd7DW501T9PL+mL7fSyP4lBaR2zPtM/",
          "dtype": "f8"
         },
         "yaxis": "y6"
        },
        {
         "hovertemplate": "StreamingMovies=%{x}<br>Churn=%{y}<br>text=%{text}<extra></extra>",
         "legendgroup": "",
         "marker": {
          "color": "#636efa",
          "pattern": {
           "shape": ""
          }
         },
         "name": "",
         "orientation": "v",
         "showlegend": false,
         "text": [
          "33.68%",
          "7.40%",
          "29.94%"
         ],
         "textposition": "auto",
         "type": "bar",
         "x": [
          "No",
          "No internet service",
          "Yes"
         ],
         "xaxis": "x7",
         "y": {
          "bdata": "A+DbqDOO1T9PL+mL7fSyPzNrpsyaKdM/",
          "dtype": "f8"
         },
         "yaxis": "y7"
        }
       ],
       "layout": {
        "annotations": [
         {
          "font": {
           "size": 16
          },
          "showarrow": false,
          "text": "InternetService",
          "x": 0.14444444444444446,
          "xanchor": "center",
          "xref": "paper",
          "y": 1,
          "yanchor": "bottom",
          "yref": "paper"
         },
         {
          "font": {
           "size": 16
          },
          "showarrow": false,
          "text": "OnlineSecurity",
          "x": 0.5,
          "xanchor": "center",
          "xref": "paper",
          "y": 1,
          "yanchor": "bottom",
          "yref": "paper"
         },
         {
          "font": {
           "size": 16
          },
          "showarrow": false,
          "text": "OnlineBackup",
          "x": 0.8555555555555556,
          "xanchor": "center",
          "xref": "paper",
          "y": 1,
          "yanchor": "bottom",
          "yref": "paper"
         },
         {
          "font": {
           "size": 16
          },
          "showarrow": false,
          "text": "DeviceProtection",
          "x": 0.14444444444444446,
          "xanchor": "center",
          "xref": "paper",
          "y": 0.6111111111111112,
          "yanchor": "bottom",
          "yref": "paper"
         },
         {
          "font": {
           "size": 16
          },
          "showarrow": false,
          "text": "TechSupport",
          "x": 0.5,
          "xanchor": "center",
          "xref": "paper",
          "y": 0.6111111111111112,
          "yanchor": "bottom",
          "yref": "paper"
         },
         {
          "font": {
           "size": 16
          },
          "showarrow": false,
          "text": "StreamingTV",
          "x": 0.8555555555555556,
          "xanchor": "center",
          "xref": "paper",
          "y": 0.6111111111111112,
          "yanchor": "bottom",
          "yref": "paper"
         },
         {
          "font": {
           "size": 16
          },
          "showarrow": false,
          "text": "StreamingMovies",
          "x": 0.14444444444444446,
          "xanchor": "center",
          "xref": "paper",
          "y": 0.22222222222222224,
          "yanchor": "bottom",
          "yref": "paper"
         }
        ],
        "height": 800,
        "showlegend": false,
        "template": {
         "data": {
          "bar": [
           {
            "error_x": {
             "color": "#2a3f5f"
            },
            "error_y": {
             "color": "#2a3f5f"
            },
            "marker": {
             "line": {
              "color": "#E5ECF6",
              "width": 0.5
             },
             "pattern": {
              "fillmode": "overlay",
              "size": 10,
              "solidity": 0.2
             }
            },
            "type": "bar"
           }
          ],
          "barpolar": [
           {
            "marker": {
             "line": {
              "color": "#E5ECF6",
              "width": 0.5
             },
             "pattern": {
              "fillmode": "overlay",
              "size": 10,
              "solidity": 0.2
             }
            },
            "type": "barpolar"
           }
          ],
          "carpet": [
           {
            "aaxis": {
             "endlinecolor": "#2a3f5f",
             "gridcolor": "white",
             "linecolor": "white",
             "minorgridcolor": "white",
             "startlinecolor": "#2a3f5f"
            },
            "baxis": {
             "endlinecolor": "#2a3f5f",
             "gridcolor": "white",
             "linecolor": "white",
             "minorgridcolor": "white",
             "startlinecolor": "#2a3f5f"
            },
            "type": "carpet"
           }
          ],
          "choropleth": [
           {
            "colorbar": {
             "outlinewidth": 0,
             "ticks": ""
            },
            "type": "choropleth"
           }
          ],
          "contour": [
           {
            "colorbar": {
             "outlinewidth": 0,
             "ticks": ""
            },
            "colorscale": [
             [
              0,
              "#0d0887"
             ],
             [
              0.1111111111111111,
              "#46039f"
             ],
             [
              0.2222222222222222,
              "#7201a8"
             ],
             [
              0.3333333333333333,
              "#9c179e"
             ],
             [
              0.4444444444444444,
              "#bd3786"
             ],
             [
              0.5555555555555556,
              "#d8576b"
             ],
             [
              0.6666666666666666,
              "#ed7953"
             ],
             [
              0.7777777777777778,
              "#fb9f3a"
             ],
             [
              0.8888888888888888,
              "#fdca26"
             ],
             [
              1,
              "#f0f921"
             ]
            ],
            "type": "contour"
           }
          ],
          "contourcarpet": [
           {
            "colorbar": {
             "outlinewidth": 0,
             "ticks": ""
            },
            "type": "contourcarpet"
           }
          ],
          "heatmap": [
           {
            "colorbar": {
             "outlinewidth": 0,
             "ticks": ""
            },
            "colorscale": [
             [
              0,
              "#0d0887"
             ],
             [
              0.1111111111111111,
              "#46039f"
             ],
             [
              0.2222222222222222,
              "#7201a8"
             ],
             [
              0.3333333333333333,
              "#9c179e"
             ],
             [
              0.4444444444444444,
              "#bd3786"
             ],
             [
              0.5555555555555556,
              "#d8576b"
             ],
             [
              0.6666666666666666,
              "#ed7953"
             ],
             [
              0.7777777777777778,
              "#fb9f3a"
             ],
             [
              0.8888888888888888,
              "#fdca26"
             ],
             [
              1,
              "#f0f921"
             ]
            ],
            "type": "heatmap"
           }
          ],
          "histogram": [
           {
            "marker": {
             "pattern": {
              "fillmode": "overlay",
              "size": 10,
              "solidity": 0.2
             }
            },
            "type": "histogram"
           }
          ],
          "histogram2d": [
           {
            "colorbar": {
             "outlinewidth": 0,
             "ticks": ""
            },
            "colorscale": [
             [
              0,
              "#0d0887"
             ],
             [
              0.1111111111111111,
              "#46039f"
             ],
             [
              0.2222222222222222,
              "#7201a8"
             ],
             [
              0.3333333333333333,
              "#9c179e"
             ],
             [
              0.4444444444444444,
              "#bd3786"
             ],
             [
              0.5555555555555556,
              "#d8576b"
             ],
             [
              0.6666666666666666,
              "#ed7953"
             ],
             [
              0.7777777777777778,
              "#fb9f3a"
             ],
             [
              0.8888888888888888,
              "#fdca26"
             ],
             [
              1,
              "#f0f921"
             ]
            ],
            "type": "histogram2d"
           }
          ],
          "histogram2dcontour": [
           {
            "colorbar": {
             "outlinewidth": 0,
             "ticks": ""
            },
            "colorscale": [
             [
              0,
              "#0d0887"
             ],
             [
              0.1111111111111111,
              "#46039f"
             ],
             [
              0.2222222222222222,
              "#7201a8"
             ],
             [
              0.3333333333333333,
              "#9c179e"
             ],
             [
              0.4444444444444444,
              "#bd3786"
             ],
             [
              0.5555555555555556,
              "#d8576b"
             ],
             [
              0.6666666666666666,
              "#ed7953"
             ],
             [
              0.7777777777777778,
              "#fb9f3a"
             ],
             [
              0.8888888888888888,
              "#fdca26"
             ],
             [
              1,
              "#f0f921"
             ]
            ],
            "type": "histogram2dcontour"
           }
          ],
          "mesh3d": [
           {
            "colorbar": {
             "outlinewidth": 0,
             "ticks": ""
            },
            "type": "mesh3d"
           }
          ],
          "parcoords": [
           {
            "line": {
             "colorbar": {
              "outlinewidth": 0,
              "ticks": ""
             }
            },
            "type": "parcoords"
           }
          ],
          "pie": [
           {
            "automargin": true,
            "type": "pie"
           }
          ],
          "scatter": [
           {
            "fillpattern": {
             "fillmode": "overlay",
             "size": 10,
             "solidity": 0.2
            },
            "type": "scatter"
           }
          ],
          "scatter3d": [
           {
            "line": {
             "colorbar": {
              "outlinewidth": 0,
              "ticks": ""
             }
            },
            "marker": {
             "colorbar": {
              "outlinewidth": 0,
              "ticks": ""
             }
            },
            "type": "scatter3d"
           }
          ],
          "scattercarpet": [
           {
            "marker": {
             "colorbar": {
              "outlinewidth": 0,
              "ticks": ""
             }
            },
            "type": "scattercarpet"
           }
          ],
          "scattergeo": [
           {
            "marker": {
             "colorbar": {
              "outlinewidth": 0,
              "ticks": ""
             }
            },
            "type": "scattergeo"
           }
          ],
          "scattergl": [
           {
            "marker": {
             "colorbar": {
              "outlinewidth": 0,
              "ticks": ""
             }
            },
            "type": "scattergl"
           }
          ],
          "scattermap": [
           {
            "marker": {
             "colorbar": {
              "outlinewidth": 0,
              "ticks": ""
             }
            },
            "type": "scattermap"
           }
          ],
          "scattermapbox": [
           {
            "marker": {
             "colorbar": {
              "outlinewidth": 0,
              "ticks": ""
             }
            },
            "type": "scattermapbox"
           }
          ],
          "scatterpolar": [
           {
            "marker": {
             "colorbar": {
              "outlinewidth": 0,
              "ticks": ""
             }
            },
            "type": "scatterpolar"
           }
          ],
          "scatterpolargl": [
           {
            "marker": {
             "colorbar": {
              "outlinewidth": 0,
              "ticks": ""
             }
            },
            "type": "scatterpolargl"
           }
          ],
          "scatterternary": [
           {
            "marker": {
             "colorbar": {
              "outlinewidth": 0,
              "ticks": ""
             }
            },
            "type": "scatterternary"
           }
          ],
          "surface": [
           {
            "colorbar": {
             "outlinewidth": 0,
             "ticks": ""
            },
            "colorscale": [
             [
              0,
              "#0d0887"
             ],
             [
              0.1111111111111111,
              "#46039f"
             ],
             [
              0.2222222222222222,
              "#7201a8"
             ],
             [
              0.3333333333333333,
              "#9c179e"
             ],
             [
              0.4444444444444444,
              "#bd3786"
             ],
             [
              0.5555555555555556,
              "#d8576b"
             ],
             [
              0.6666666666666666,
              "#ed7953"
             ],
             [
              0.7777777777777778,
              "#fb9f3a"
             ],
             [
              0.8888888888888888,
              "#fdca26"
             ],
             [
              1,
              "#f0f921"
             ]
            ],
            "type": "surface"
           }
          ],
          "table": [
           {
            "cells": {
             "fill": {
              "color": "#EBF0F8"
             },
             "line": {
              "color": "white"
             }
            },
            "header": {
             "fill": {
              "color": "#C8D4E3"
             },
             "line": {
              "color": "white"
             }
            },
            "type": "table"
           }
          ]
         },
         "layout": {
          "annotationdefaults": {
           "arrowcolor": "#2a3f5f",
           "arrowhead": 0,
           "arrowwidth": 1
          },
          "autotypenumbers": "strict",
          "coloraxis": {
           "colorbar": {
            "outlinewidth": 0,
            "ticks": ""
           }
          },
          "colorscale": {
           "diverging": [
            [
             0,
             "#8e0152"
            ],
            [
             0.1,
             "#c51b7d"
            ],
            [
             0.2,
             "#de77ae"
            ],
            [
             0.3,
             "#f1b6da"
            ],
            [
             0.4,
             "#fde0ef"
            ],
            [
             0.5,
             "#f7f7f7"
            ],
            [
             0.6,
             "#e6f5d0"
            ],
            [
             0.7,
             "#b8e186"
            ],
            [
             0.8,
             "#7fbc41"
            ],
            [
             0.9,
             "#4d9221"
            ],
            [
             1,
             "#276419"
            ]
           ],
           "sequential": [
            [
             0,
             "#0d0887"
            ],
            [
             0.1111111111111111,
             "#46039f"
            ],
            [
             0.2222222222222222,
             "#7201a8"
            ],
            [
             0.3333333333333333,
             "#9c179e"
            ],
            [
             0.4444444444444444,
             "#bd3786"
            ],
            [
             0.5555555555555556,
             "#d8576b"
            ],
            [
             0.6666666666666666,
             "#ed7953"
            ],
            [
             0.7777777777777778,
             "#fb9f3a"
            ],
            [
             0.8888888888888888,
             "#fdca26"
            ],
            [
             1,
             "#f0f921"
            ]
           ],
           "sequentialminus": [
            [
             0,
             "#0d0887"
            ],
            [
             0.1111111111111111,
             "#46039f"
            ],
            [
             0.2222222222222222,
             "#7201a8"
            ],
            [
             0.3333333333333333,
             "#9c179e"
            ],
            [
             0.4444444444444444,
             "#bd3786"
            ],
            [
             0.5555555555555556,
             "#d8576b"
            ],
            [
             0.6666666666666666,
             "#ed7953"
            ],
            [
             0.7777777777777778,
             "#fb9f3a"
            ],
            [
             0.8888888888888888,
             "#fdca26"
            ],
            [
             1,
             "#f0f921"
            ]
           ]
          },
          "colorway": [
           "#636efa",
           "#EF553B",
           "#00cc96",
           "#ab63fa",
           "#FFA15A",
           "#19d3f3",
           "#FF6692",
           "#B6E880",
           "#FF97FF",
           "#FECB52"
          ],
          "font": {
           "color": "#2a3f5f"
          },
          "geo": {
           "bgcolor": "white",
           "lakecolor": "white",
           "landcolor": "#E5ECF6",
           "showlakes": true,
           "showland": true,
           "subunitcolor": "white"
          },
          "hoverlabel": {
           "align": "left"
          },
          "hovermode": "closest",
          "mapbox": {
           "style": "light"
          },
          "paper_bgcolor": "white",
          "plot_bgcolor": "#E5ECF6",
          "polar": {
           "angularaxis": {
            "gridcolor": "white",
            "linecolor": "white",
            "ticks": ""
           },
           "bgcolor": "#E5ECF6",
           "radialaxis": {
            "gridcolor": "white",
            "linecolor": "white",
            "ticks": ""
           }
          },
          "scene": {
           "xaxis": {
            "backgroundcolor": "#E5ECF6",
            "gridcolor": "white",
            "gridwidth": 2,
            "linecolor": "white",
            "showbackground": true,
            "ticks": "",
            "zerolinecolor": "white"
           },
           "yaxis": {
            "backgroundcolor": "#E5ECF6",
            "gridcolor": "white",
            "gridwidth": 2,
            "linecolor": "white",
            "showbackground": true,
            "ticks": "",
            "zerolinecolor": "white"
           },
           "zaxis": {
            "backgroundcolor": "#E5ECF6",
            "gridcolor": "white",
            "gridwidth": 2,
            "linecolor": "white",
            "showbackground": true,
            "ticks": "",
            "zerolinecolor": "white"
           }
          },
          "shapedefaults": {
           "line": {
            "color": "#2a3f5f"
           }
          },
          "ternary": {
           "aaxis": {
            "gridcolor": "white",
            "linecolor": "white",
            "ticks": ""
           },
           "baxis": {
            "gridcolor": "white",
            "linecolor": "white",
            "ticks": ""
           },
           "bgcolor": "#E5ECF6",
           "caxis": {
            "gridcolor": "white",
            "linecolor": "white",
            "ticks": ""
           }
          },
          "title": {
           "x": 0.05
          },
          "xaxis": {
           "automargin": true,
           "gridcolor": "white",
           "linecolor": "white",
           "ticks": "",
           "title": {
            "standoff": 15
           },
           "zerolinecolor": "white",
           "zerolinewidth": 2
          },
          "yaxis": {
           "automargin": true,
           "gridcolor": "white",
           "linecolor": "white",
           "ticks": "",
           "title": {
            "standoff": 15
           },
           "zerolinecolor": "white",
           "zerolinewidth": 2
          }
         }
        },
        "title": {
         "text": "Análisis de Evasión por Servicios de Internet"
        },
        "xaxis": {
         "anchor": "y",
         "domain": [
          0,
          0.2888888888888889
         ]
        },
        "xaxis2": {
         "anchor": "y2",
         "domain": [
          0.35555555555555557,
          0.6444444444444445
         ]
        },
        "xaxis3": {
         "anchor": "y3",
         "domain": [
          0.7111111111111111,
          1
         ]
        },
        "xaxis4": {
         "anchor": "y4",
         "domain": [
          0,
          0.2888888888888889
         ]
        },
        "xaxis5": {
         "anchor": "y5",
         "domain": [
          0.35555555555555557,
          0.6444444444444445
         ]
        },
        "xaxis6": {
         "anchor": "y6",
         "domain": [
          0.7111111111111111,
          1
         ]
        },
        "xaxis7": {
         "anchor": "y7",
         "domain": [
          0,
          0.2888888888888889
         ]
        },
        "xaxis8": {
         "anchor": "y8",
         "domain": [
          0.35555555555555557,
          0.6444444444444445
         ]
        },
        "xaxis9": {
         "anchor": "y9",
         "domain": [
          0.7111111111111111,
          1
         ]
        },
        "yaxis": {
         "anchor": "x",
         "domain": [
          0.7777777777777778,
          1
         ],
         "title": {
          "text": "Tasa de Evasión"
         }
        },
        "yaxis2": {
         "anchor": "x2",
         "domain": [
          0.7777777777777778,
          1
         ],
         "title": {
          "text": "Tasa de Evasión"
         }
        },
        "yaxis3": {
         "anchor": "x3",
         "domain": [
          0.7777777777777778,
          1
         ],
         "title": {
          "text": "Tasa de Evasión"
         }
        },
        "yaxis4": {
         "anchor": "x4",
         "domain": [
          0.3888888888888889,
          0.6111111111111112
         ],
         "title": {
          "text": "Tasa de Evasión"
         }
        },
        "yaxis5": {
         "anchor": "x5",
         "domain": [
          0.3888888888888889,
          0.6111111111111112
         ],
         "title": {
          "text": "Tasa de Evasión"
         }
        },
        "yaxis6": {
         "anchor": "x6",
         "domain": [
          0.3888888888888889,
          0.6111111111111112
         ],
         "title": {
          "text": "Tasa de Evasión"
         }
        },
        "yaxis7": {
         "anchor": "x7",
         "domain": [
          0,
          0.22222222222222224
         ],
         "title": {
          "text": "Tasa de Evasión"
         }
        },
        "yaxis8": {
         "anchor": "x8",
         "domain": [
          0,
          0.22222222222222224
         ],
         "title": {
          "text": "Tasa de Evasión"
         }
        },
        "yaxis9": {
         "anchor": "x9",
         "domain": [
          0,
          0.22222222222222224
         ],
         "title": {
          "text": "Tasa de Evasión"
         }
        }
       }
      }
     },
     "metadata": {},
     "output_type": "display_data"
    }
   ],
   "source": [
    "# Lista de columnas de servicios de internet\n",
    "internet_cols = [\n",
    "    'InternetService', 'OnlineSecurity', 'OnlineBackup', 'DeviceProtection',\n",
    "    'TechSupport', 'StreamingTV', 'StreamingMovies'\n",
    "]\n",
    "\n",
    "# Creamos una figura con subplots para todos los gráficos de internet\n",
    "fig = make_subplots(\n",
    "    rows=3, cols=3,\n",
    "    subplot_titles=internet_cols\n",
    ")\n",
    "\n",
    "# Iteramos para crear cada gráfico\n",
    "row, col = 1, 1\n",
    "for column in internet_cols:\n",
    "    churn_rate = df_final.groupby(column, observed=False)['Churn'].mean().reset_index()\n",
    "    bar_fig = px.bar(churn_rate, x=column, y='Churn', text=churn_rate['Churn'].apply(lambda x: f'{x:.2%}'))\n",
    "    \n",
    "    for trace in bar_fig.data:\n",
    "        fig.add_trace(trace, row=row, col=col)\n",
    "    \n",
    "    col += 1\n",
    "    if col > 3:\n",
    "        col = 1\n",
    "        row += 1\n",
    "\n",
    "fig.update_layout(\n",
    "    title_text='Análisis de Evasión por Servicios de Internet',\n",
    "    height=800,\n",
    "    showlegend=False\n",
    ")\n",
    "fig.update_yaxes(title_text='Tasa de Evasión')\n",
    "fig.show()"
   ]
  },
  {
   "cell_type": "markdown",
   "id": "afaba77d",
   "metadata": {},
   "source": [
    "#### 💡 Análisis de los Servicios Contratados\n",
    "\n",
    "Este análisis es extremadamente revelador y me dio pistas muy claras sobre la retención de clientes:\n",
    "\n",
    "##### Servicios Telefónicos:\n",
    "\n",
    "* **Servicio Telefónico General**: No hay una diferencia notable. La gran mayoría de los clientes tiene servicio telefónico, y la tasa de evasión entre los que no lo tienen es similar.\n",
    "\n",
    "* **Múltiples Líneas**: Los clientes con múltiples líneas tienen una tasa de evasión ligeramente más alta (`28.61%`) que aquellos con una sola línea (`25.04%`), esto es algo inesperado, pero la diferencia no es masiva.\n",
    "\n",
    "#### Servicios de Internet:\n",
    "\n",
    "* **Tipo de Conexión (InternetService)**: Los clientes con Fibra Óptica tienen una tasa de evasión del `41.89%`, mucho más alta que los clientes con DSL `18.96%`. Esto podría deberse a precios más altos, mayor competencia en áreas de fibra, o problemas de estabilidad del servicio a pesar de la mayor velocidad. Los clientes sin internet, como es lógico, tienen una tasa de evasión muy baja `7.40%`, ya que suelen ser clientes de solo telefonía, muy posiblemente `con contratos largos`.\n",
    "\n",
    "* **Servicios de Protección y Soporte (Clave)**: Los clientes que NO tienen los siguientes servicios son mucho más propensos a irse:\n",
    "\n",
    "    * **Seguridad en Línea (OnlineSecurity)**: `41.77%` de evasión sin el servicio vs. `14.61%` con el servicio.\n",
    "\n",
    "    * **Respaldo en Línea (OnlineBackup)**: `39.93%` vs. `21.53%`.\n",
    "\n",
    "    * **Protección de Dispositivo (DeviceProtection)**: `39.13%` vs. `22.50%`.\n",
    "\n",
    "    * **Soporte Técnico (TechSupport)**: `41.64%` de evasión sin soporte vs. solo `15.17%` con soporte.\n",
    "\n",
    "* **Servicios de Streaming**: Los clientes sin estos servicios tienen tasas de evasión de alrededor del `33-34%`.\n",
    "\n",
    "***Conclusión Inicial***: Los servicios adicionales no son solo una fuente de ingresos, parece ser **herramientas de retención**, un cliente de Fibra Óptica sin Soporte Técnico y sin Seguridad en Línea presenta un perfil de riesgo de evasión extremadamente alto."
   ]
  },
  {
   "cell_type": "markdown",
   "id": "327d4ded",
   "metadata": {},
   "source": [
    "### 🎯 3.6. Análisis de Evasión por Variables Numéricas\n",
    "\n",
    "**Objetivo**: Entender cómo las variables numéricas continuas (`antigüedad`, `cargos mensuales` y `cargos totales`) se distribuyen entre los clientes que cancelaron el servicio y los que no.\n",
    "\n",
    "**Método**: La mejor manera de comparar distribuciones entre dos grupos son los diagramas de caja (box plots). Creare un box plot para cada variable numérica, mostrando lado a lado la distribución para los clientes que se fueron y los que se quedaron, Esto nos permitirá comparar fácilmente sus **medianas**, **rangos** y **dispersión**.\n",
    "\n",
    "**Justificación**: Este análisis nos ayudara a responder preguntas como: **\"¿Los clientes que se van suelen tener una antigüedad menor?\"** o **\"¿Los clientes con facturas más altas son más propensos a la evasión?\"**."
   ]
  },
  {
   "cell_type": "code",
   "execution_count": 21,
   "id": "fcfd97ac",
   "metadata": {},
   "outputs": [
    {
     "data": {
      "application/vnd.plotly.v1+json": {
       "config": {
        "plotlyServerURL": "https://plot.ly"
       },
       "data": [
        {
         "boxpoints": "outliers",
         "name": "tenure",
         "type": "box",
         "x": {
          "bdata": "AAABAQEAAAAAAAAAAAAAAAAAAQEAAQAAAQEAAAAAAAAAAAAAAAAAAAEAAAAAAAAAAAAAAAABAQAAAAAAAAAAAQEAAAEAAAABAQAAAQABAAAAAAEAAQABAQAAAAABAQEAAAAAAAAAAAAAAAAAAAEBAAEAAAEBAAABAAAAAAAAAQEAAAABAAAAAAAAAAEAAAEBAAAAAAAAAAAAAAABAAEAAQEAAAEAAAABAAAAAAABAQAAAAAAAQAAAAAAAQAAAAEAAAABAAAAAQAAAQAAAAEBAQABAQAAAQEAAQEAAAABAAEAAAEAAQAAAAAAAQEAAAAAAAAAAAAAAQABAAABAQEAAAAAAAAAAQEAAAAAAAEAAAEAAAEBAQAAAAABAAEAAAAAAAEAAAABAAAAAAAAAAAAAAEAAAAAAAABAAAAAAAAAQEAAAAAAAAAAQAAAAABAAABAQABAAEAAAABAAABAAAAAQEAAQEAAQABAAAAAQAAAAAAAAAAAAAAAAAAAAEAAQAAAAEAAAABAAEAAAAAAAABAAABAAEAAAAAAQAAAQEAAQEBAQAAAAAAAAABAAABAAABAQABAQEBAAABAAABAAEAAAAAAAEAAAAAAAAAAAAAAAABAAEAAQEBAAEAAQEAAAEAAAABAAAAAAEAAQABAQAAAAEAAQAAAAABAAAAAQEAAAAAAQEAAAAAAQAAAQAAAAEAAAEAAQAAAAEAAAAAAAAAAAAAAQAAAAEAAAAAAQABAAEAAAAAAAAAAAEAAAAAAQABAAAAAAAAAAAAAAABAAEAAAEAAQAAAQEBAQABAQABAQABAAAAAQAAAAAAAAAAAAAAAAEAAQABAAEAAAAAAAAAAAABAQAAAAEAAQEBAAAAAAAAAAABAAEAAQAAAAAAAAEAAAAAAAEAAAABAAEBAAAAAAAAAAABAAEAAAABAQAAAAABAQAAAQAAAAAAAAAAAAAAAQAAAQABAAAAAQAAAAABAAEAAQAAAAAAAAABAAAAAQAAAAAAAAAAAAAAAAABAQEAAAEAAQAAAAAAAAAAAAAAAAAAAQEAAQAAAAEAAAAAAAAAAAAAAAAAAAAAAAABAAEAAAABAQAAAAEAAAEAAAABAAAAAAAAAQAAAAAAAAABAAEAAAAAAQAAAQAAAAAAAQABAAABAAEBAAAAAQAAAQAAAQAAAQABAAAAAAAAAAAAAAABAAAAAAEAAAAAAQABAQEAAAAAAQAAAAAAAAABAQAAAAAAAQAAAAAAAAAAAAAAAAEAAAAAAQEAAAEAAAABAAAAAAAAAQAAAAEAAAAAAAAAAAAAAQAAAAABAAAAAAABAAAAAAEBAQABAQEBAAAAAAABAAEAAAAAAQAAAAAAAAAAAAAAAQAAAAAAAAEAAQAAAQEAAAEAAQEAAQAAAAAAAAEAAAAAAAAAAQAAAAEAAAAAAAABAQEAAAEBAAAAAAEBAAEBAQEBAAEAAQABAQAAAAEAAQABAAAAAQEBAQEAAAAAAAAAAAAAAAEAAAEAAAEAAAAAAQABAAAAAAAAAAEAAAAAAAAAAQAAAAABAAAAAAAAAAEBAAEBAAAAAAABAAEAAAEAAAABAAAAAAAAAAEAAAAAAAAAAQABAAAAAAAAAAAAAQEAAAABAAAAAAAAAAAAAQAAAAAAAQAAAAAAAAABAAAAAQAAAAAAAAEAAAABAAAAAQABAAEAAQABAAEBAAAAAAEBAAABAAABAAEAAAAAAQAAAAAAAAAAAAEAAAAAAAAAAAAAAAAAAAABAQABAQAAAAABAQEBAAEAAAAAAQAAAAAAAAABAQEAAAEBAQAAAAAAAAEBAQAAAQEAAAEBAQEAAAAAAAAAAAAAAAAAAAABAAAAAQEAAAAAAQAAAAEAAAAAAAEAAAAAAAEBAAAAAAABAQAAAQAAAAAAAQEAAQEAAAAAAAAAAAAAAQAAAAEAAAAAAAEAAQEAAQAAAAABAAAAAAAAAAEAAAABAAABAQAAAAAAAAABAAABAAAAAQEBAAAAAAAAAAAAAAEAAAEBAAAAAAAAAQAAAAAAAAEAAQAAAQAAAAABAAAAAAAAAAAAAAEAAAEAAAAAAAABAAAAAAABAAAAAAAAAAAAAAAAAAEAAAAAAAEBAAABAAAAAQAAAAAAAAEAAQAAAAAAAQAAAAAAAAABAAEBAAAAAQAAAAABAAAAAQAAAAABAAABAAEAAAAAAQABAQAAAAEAAAABAQAAAAAAAAAAAQABAAAAAAEBAAAAAAAAAAEAAAEAAQAAAAAAAQEAAAAAAQAAAAABAAEBAAEAAAAAAAABAQAAAAABAQAAAQAAAAAAAAAAAQEAAQAAAAAAAAAAAAAAAAAAAQEBAAABAAAAAAAAAAAAAAAAAAEAAAAAAAAAAAEAAAEBAAEBAAAAAQAAAAEAAAABAQEBAAAAAAEBAAEAAAAAAQEBAAEBAAAAAAEAAAABAQAAAAAAAAAAAAAAAAAAAQABAQAAAQAAAAAAAQAAAAAAAAAAAAABAAEAAQEBAAABAAAAAAEBAAAAAAABAAAAAAEBAAEAAAAAAQABAQAAAAAAAAAAAAABAAAAAAAAAAAAAAAAAAAAAQAAAAABAAEAAAAAAAAAAAAAAAAAAQABAQEBAAEAAQEAAAAAAAEBAAEBAAAAAQABAAEBAQEAAAEAAAAAAAAAAQABAAABAAABAAABAAAAAAAAAAAAAQAAAQAAAAAAAAAAAAABAQEAAAAAAQAAAAEBAQABAQEAAQAAAAEAAAEAAQAAAAAAAAAAAQEBAQABAAAAAAAAAAABAAABAAAAAQAAAAEAAQABAAAAAAEAAAEAAAEAAQABAAAAAAEBAQAAAAAAAAEAAAAAAQEAAQAAAQAAAAEAAAAAAAAAAQAAAAEAAAEBAAABAQAAAAABAQAAAQEAAAAAAAAAAAAAAAABAAAAAAEBAQEAAAAAAQAAAAEAAAAAAAEAAQAAAAAAAAAAAQABAAAAAAEAAAEAAAEBAAAAAAEAAAAAAQEAAAEAAAABAAAAAQAAAAAAAQABAQAAAAEAAQABAAABAAAAAAABAAAAAAABAAAAAQAAAAAAAAABAAABAAAAAAAAAAAAAQABAAEAAAABAQAAAAEAAQEBAQAAAAAAAQABAAABAAAAAAAAAAAAAAEAAAEAAAEAAAABAAEAAAEAAAEAAQABAAAAAAAAAAAAAAABAAEAAAABAAABAQAAAQAAAQAAAQAAAAAAAAAAAAAAAAAAAAAAAAAAAAEAAAAAAAAAAQAAAQAAAAEAAQAAAAAAAAABAAABAAAAAQAAAQAAAAAAAAEAAAEBAAAAAAAAAQABAAAAAAEAAAAAAAAAAAABAAAAAAABAQAAAQAAAAAAAAAAAQAAAAAAAQAAAAAAAQAAAQEAAAAAAAAAAAAAAQAAAQAAAAEAAAAAAAEAAQAAAQABAQEAAQEAAAEBAAAAAAEBAAAAAAAAAAAAAAEAAQABAQAAAQAAAQAAAAAAAAAAAQAAAQAAAAAAAAABAAAAAAABAAAAAAEAAQABAAABAAEBAQABAAABAAEAAQAAAAABAAAAAAAAAAAAAQEAAAAAAAEAAQABAQEBAAAAAAAAAQAAAQEAAAABAAEAAAEAAAAAAAAAAQABAQAAAAAAAQEAAQAAAQEAAAEAAQAAAAABAAAAAAAAAQEAAAEAAAAAAAAAAAABAQABAAEAAAEAAAAAAQEAAQAAAQAAAAAAAAEAAAAAAAAAAAAAAQAAAAAAAAABAAABAQEAAAEAAAAAAAAAAAEAAAAAAAEBAAAAAAEAAAAAAQABAAAAAAAAAAAAAAAAAAAAAQAAAQABAAAAAAEBAAEAAAEBAAAAAQAAAAEAAQABAAEAAAAAAAEAAAAAAAEAAAAAAAAAAAAAAAABAQEBAQEAAQABAAAAAQAAAAAAAAEBAAABAAAAAQABAAEAAAAAAQAAAQABAQEAAAAAAAABAQAAAAABAAEAAAEBAQABAAEAAAAAAQABAAAAAAEBAAEBAQAAAAAAAAAAAAAAAAAAAQAAAAAAAQABAAABAAABAAABAAAAAAAAAAEAAAEAAQAAAQAAAAEAAQAAAAABAAEAAAAAAAAAAQAAAQABAAAAAAAAAQAAAQEBAAAAAAABAQAAAQAAAQEBAAEAAAABAAAAAAAAAAAAAAABAAAAAQAAAAAAAAAAAQEAAAABAQAAAQAAAQABAAEBAQABAAAAAAABAAAAAAABAAAAAAAAAAEAAAABAQEAAQEAAQABAAAAAAEAAQAAAAABAAEAAQABAAABAQEBAAEBAQEAAQEAAAAAAQEAAAAAAAABAAABAAABAQEBAAAAAAAAAAEAAQAAAAAAAAABAAAAAAAAAQEAAAEAAQAAAQAAAAAAAAEAAAAAAAAAAQAAAAABAQAAAAEAAQABAAEBAAAAAAEAAAABAAAAAAAAAAEAAAAAAQAAAQAAAAAAAAEAAAEAAQAAAAEAAQEBAAAAAAAAAAAAAAABAQEBAQAAAQABAQAAAQAAAAEBAAAAAAAAAAEBAAABAQEBAAAAAAEBAQAAAAAAAQAAAAABAAABAAAAAAAAAAEBAQAAAAABAAABAAAAAAABAAABAQAAAAAAAAEAAAAAAAEAAQABAAEAAQEAAAABAQEAAQAAAQEBAAABAAABAAAAAAAAAAAAAAABAAAAAAEBAAAAAAEBAQAAAQAAAAAAAAAAAAABAAAAAAAAAAAAAAAAAAEAAAEAAAAAAAABAAAAAQEAAQEAAAAAAAAAAAAAAQEAAQEAAAABAAAAAAAAAAAAAAABAAAAAQAAAQABAAAAAAEAAQEBAAAAAAAAAAAAAAAAAAAAAAEAAAAAAQAAAAEAAQAAAQEAAAAAAAAAAAAAAAAAAAEAAAABAAAAAQEAAAAAAAAAAAABAQAAAAAAAQEAAAAAAAEAAQAAAQAAAAAAAAAAAAABAAABAAAAAAEAAAAAAAEAAAAAAAABAAEAAAABAQAAAQAAAQAAAAAAAAABAAAAAAEAAAEBAQABAAABAAEBAAABAAAAAAEBAQAAAAEAAAAAAAAAAAAAAQAAAAAAAAAAAAAAAAAAAAAAAAAAAAAAAQAAAAABAQAAAQEAAQAAAAABAAEAAAEBAQAAAAEAAQAAAQAAAQABAAAAAAAAAAAAAQABAQAAAAAAAAEAAAAAAQEAAAEBAAAAAAEAAAAAAAABAAAAAQAAAAAAAQEAAAEBAAABAQEAAAABAAABAAABAAABAQABAAEBAAAAAAAAAAEBAAABAAAAAAAAAAEBAAABAAABAQAAAQAAAQEBAQAAAAEAAAEBAQAAAQAAAAAAAAAAAQAAAQAAAAEAAAAAAAAAAAAAAAEAAAEAAQEBAAAAAAAAAQAAAAAAAAEAAAEBAAAAAAABAAEBAQAAAAAAAQABAAAAAAAAAAEAAQAAAQAAAAAAAAEAAAAAAAAAAQEAAAAAAQAAAAAAAQEAAAAAAAAAAAAAAAAAAAAAAQAAAAAAAQAAAQAAAAAAAAAAAQAAAAABAQEAAAABAAAAAAAAAAAAAAAAAAAAAAAAAQABAAABAQAAAAABAAEAAAEBAAAAAQAAAQAAAAEAAQEAAQAAAAAAAAAAAQAAAQEAAAAAAQAAAAAAAAEBAAAAAAEAAQAAAAABAQABAAEAAAAAAAAAAAABAAABAQAAAAAAAAAAAAAAAAABAAAAAAAAAAEAAQABAAAAAAEAAAEAAQABAAABAAEBAAEAAAABAAABAAAAAAAAAQAAAAAAAAAAAAAAAAAAAAEBAAAAAAABAAEBAAAAAQEAAAAAAAAAAQAAAAEAAAEAAAAAAAAAAAAAAQEBAAAAAAABAAABAAABAAEAAAAAAQABAAAAAAEBAAAAAAAAAAAAAAAAAAAAAAEBAQAAAAEAAAAAAQAAAQAAAQAAAAABAQAAAAAAAAAAAAAAAAAAAAAAAAABAAAAAAEBAAAAAQAAAAAAAAEAAAAAAQABAAEBAAEBAQEAAAABAQEBAQEAAAEAAAAAAAAAAAAAAQEAAAAAAAEAAQABAAAAAQABAAAAAAABAAABAAABAAAAAQABAQABAQEAAAEAAAAAAQEAAQAAAAAAAQABAAABAAAAAAEBAAAAAAAAAQEAAAAAAAAAAQAAAAEAAAAAAAAAAAAAAQAAAAAAAAEAAAEAAQAAAAAAAAAAAQAAAQAAAAEAAAABAAAAAAEAAQAAAAAAAAAAAAEAAAAAAQAAAAAAAAAAAQAAAAEAAAAAAAABAQABAQABAAAAAQAAAAAAAQEAAAEAAAAAAAAAAAAAAQAAAAEAAAEAAQAAAQEAAAAAAQAAAQAAAAAAAQABAAAAAAEBAAEAAQAAAQEBAQAAAQAAAAAAAAAAAAEAAAAAAQEBAAEAAAAAAAAAAAAAAAAAAAAAAAAAAAAAAAAAAAAAAAAAAAAAAAAAAAEBAAEBAQAAAQEAAAAAAAAAAAEAAQAAAAAAAAAAAQEAAAEAAAABAAAAAAEAAAEAAAABAQAAAAAAAQAAAAEBAAAAAAAAAAAAAQEBAAAAAAAAAQEAAQAAAAAAAQEAAAABAQAAAAEAAQAAAAAAAAAAAAEAAAABAAAAAAABAAEAAAAAAQABAQABAAAAAAAAAAAAAAAAAQAAAAEBAAEAAQABAAEAAAAAAAEAAAEBAAAAAAAAAAAAAQAAAAAAAAABAAAAAQABAAAAAAAAAAAAAAAAAAAAAQAAAQEAAAABAQAAAQAAAAABAAABAAEAAAAAAAAAAAAAAAAAAAAAAAEAAAABAAEAAAAAAAABAAABAAAAAQABAAAAAQAAAAAAAQEAAAAAAAAAAAAAAAAAAAABAQAAAAAAAAAAAQAAAQABAAEBAAABAAAAAQAAAAABAAEBAQEAAAEAAAAAAAAAAQEBAAAAAQEAAAAAAAABAAABAAEAAAABAAAAAAAAAQEAAAAAAAAAAAAAAAEAAQAAAAABAAAAAAAAAAEAAAAAAAEAAAAAAAAAAAABAQAAAAAAAAEAAQABAAABAAEAAAAAAAAAAAAAAAAAAAEBAAEAAAAAAAAAAAEAAAAAAAAAAAEAAAEAAAAAAAEAAAAAAQEAAQABAQAAAQEAAAAAAAEBAAAAAQABAAAAAQAAAAAAAQAAAAEAAQAAAQEAAAEBAQABAQAAAAAAAAEAAQAAAAEAAAEAAAABAAABAQAAAAEAAQEAAQABAAAAAQEAAAAAAAABAAAAAAAAAAAAAQEBAAEAAAAAAAEBAQAAAQAAAAAAAAABAAABAQAAAAAAAAABAAEAAAEAAAABAAEAAAAAAAAAAQAAAQAAAAAAAQABAAAAAAEAAAAAAAAAAQAAAAABAAAAAAAAAQABAQAAAAEAAAAAAQAAAAEBAAEAAAABAAABAAEAAQABAAABAAEAAAAAAAAAAAAAAAEAAAABAAAAAAABAAAAAAABAQABAAAAAQABAQAAAQEAAQAAAQEBAAAAAAABAAAAAAAAAAAAAAAAAAABAQABAQABAAAAAAABAAABAAEAAAAAAAAAAAEAAAABAQEAAAEAAAABAAAAAAEBAAAAAAAAAAEAAAAAAAAAAAEAAAABAAABAAAAAAAAAAABAAAAAAEAAQAAAAABAAEBAAAAAAAAAAABAAAAAAABAAAAAAAAAAAAAQEAAQEAAAEBAQAAAAEBAAAAAAABAAABAQAAAQAAAQAAAAAAAAAAAQAAAAAAAAAAAAAAAQEBAAAAAAABAAAAAAAAAAAAAAABAAAAAQAAAAAAAAABAAEAAAAAAQAAAQEBAAEAAAAAAAAAAAEAAAAAAAAAAQAAAAAAAAAAAAAAAAAAAAAAAAABAAAAAQAAAAAAAAAAAAEAAAABAQAAAQAAAQAAAAAAAQAAAAEAAQAAAQAAAQAAAAEAAAAAAAAAAAAAAAAAAQAAAAEAAAAAAQEAAAAAAQAAAAEAAQEBAAEBAAAAAQEAAAEAAAAAAQAAAQABAAAAAAAAAAAAAAAAAQABAAEAAAEAAAEAAAEAAAEBAQABAAAAAAAAAAAAAAAAAAABAAABAQAAAAAAAQAAAQAAAAAAAQEBAAAAAAAAAAAAAAABAAAAAQAAAQAAAAAAAAAAAQEAAAAAAAAAAAEAAAABAQAAAAABAAABAAAAAQABAAEBAAABAAAAAAEAAAEBAQABAQEAAAAAAAABAQAAAAAAAAABAAAAAAAAAQABAAAAAQAAAAAAAQEAAAAAAAABAAAAAAABAAABAAEAAAAAAAAAAAAAAAAAAAEAAQEAAAAAAAAAAQAAAAAAAQAAAAAAAQAAAAEAAQABAAAAAQAAAQAAAAABAAEAAAAAAAABAAEAAAEBAAAAAQABAAAAAAEAAAEBAQABAQAAAAEAAAABAAAAAAEAAAEAAQAAAAAAAQAAAAAAAAEAAAAAAAAAAAEAAAAAAAAAAAAAAAEAAAABAAEAAAABAAEBAAEAAQEAAAEAAAAAAAAAAAAAAAAAAQAAAQAAAAAAAAABAAAAAQAAAAEAAQAAAAAAAAABAQEAAQAAAAAAAAEAAQAAAAABAAEAAAABAAABAQEAAAABAQAAAAAAAAAAAAAAAAEAAAAAAAEAAAAAAQAAAQABAAABAAAAAAAAAAAAAQAAAQAAAAAAAQAAAAEAAAAAAQAAAAAAAAAAAAABAAAAAAABAQEBAAEAAAABAQEBAAAAAQAAAAEAAAABAQAAAQAAAAEAAAEAAQAAAQEBAAABAAEAAAABAAEAAQAAAAAAAAABAQABAAAAAAAAAQEBAQAAAAAAAAEBAAAAAQAAAAAAAAAAAAAAAAAAAAAAAAEAAAAAAAAAAAEBAAAAAAABAQAAAAAAAAEAAAAAAAAAAQAAAAAAAQABAQEAAAAAAQAAAQAAAAABAAAAAQEAAAEAAQAAAQEAAAAAAAABAAAAAAAAAAAAAAEAAAABAQAAAAAAAQAAAAAAAAAAAAAAAQAAAAABAAEAAQAAAAEBAQABAAAAAAABAAAAAQAAAAAAAAAAAAABAAEAAQABAAABAAABAAEAAAABAAAAAAAAAAAAAAEBAQAAAAEAAAEBAAAAAAAAAAAAAQAAAAAAAAAAAAEAAAAAAAAAAAEAAAEBAAABAAEBAAAAAAAAAAABAQABAAEAAAAAAAAAAAAAAAAAAQAAAAAAAAABAQEAAAEAAQEAAAAAAAAAAAEAAAAAAAAAAAABAAAAAAAAAAABAAAAAAAAAAAAAQAAAAAAAAAAAAAAAAABAAAAAQABAAAAAAABAAEAAAAAAQAAAQAAAQABAQAAAAEAAAAAAAEAAAEBAQAAAAABAAEAAAAAAAEBAAAAAQAAAQABAAAAAQEAAAABAAABAAAAAAAAAAABAAAAAAAAAAAAAAAAAAEBAAABAAEBAAAAAAAAAQAAAQAAAAAAAAAAAAAAAAEBAAEAAAA=",
          "dtype": "i1"
         },
         "xaxis": "x",
         "y": {
          "bdata": "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",
          "dtype": "i1"
         },
         "yaxis": "y"
        },
        {
         "boxpoints": "outliers",
         "name": "Charges.Monthly",
         "type": "box",
         "x": {
          "bdata": "AAABAQEAAAAAAAAAAAAAAAAAAQEAAQAAAQEAAAAAAAAAAAAAAAAAAAEAAAAAAAAAAAAAAAABAQAAAAAAAAAAAQEAAAEAAAABAQAAAQABAAAAAAEAAQABAQAAAAABAQEAAAAAAAAAAAAAAAAAAAEBAAEAAAEBAAABAAAAAAAAAQEAAAABAAAAAAAAAAEAAAEBAAAAAAAAAAAAAAABAAEAAQEAAAEAAAABAAAAAAABAQAAAAAAAQAAAAAAAQAAAAEAAAABAAAAAQAAAQAAAAEBAQABAQAAAQEAAQEAAAABAAEAAAEAAQAAAAAAAQEAAAAAAAAAAAAAAQABAAABAQEAAAAAAAAAAQEAAAAAAAEAAAEAAAEBAQAAAAABAAEAAAAAAAEAAAABAAAAAAAAAAAAAAEAAAAAAAABAAAAAAAAAQEAAAAAAAAAAQAAAAABAAABAQABAAEAAAABAAABAAAAAQEAAQEAAQABAAAAAQAAAAAAAAAAAAAAAAAAAAEAAQAAAAEAAAABAAEAAAAAAAABAAABAAEAAAAAAQAAAQEAAQEBAQAAAAAAAAABAAABAAABAQABAQEBAAABAAABAAEAAAAAAAEAAAAAAAAAAAAAAAABAAEAAQEBAAEAAQEAAAEAAAABAAAAAAEAAQABAQAAAAEAAQAAAAABAAAAAQEAAAAAAQEAAAAAAQAAAQAAAAEAAAEAAQAAAAEAAAAAAAAAAAAAAQAAAAEAAAAAAQABAAEAAAAAAAAAAAEAAAAAAQABAAAAAAAAAAAAAAABAAEAAAEAAQAAAQEBAQABAQABAQABAAAAAQAAAAAAAAAAAAAAAAEAAQABAAEAAAAAAAAAAAABAQAAAAEAAQEBAAAAAAAAAAABAAEAAQAAAAAAAAEAAAAAAAEAAAABAAEBAAAAAAAAAAABAAEAAAABAQAAAAABAQAAAQAAAAAAAAAAAAAAAQAAAQABAAAAAQAAAAABAAEAAQAAAAAAAAABAAAAAQAAAAAAAAAAAAAAAAABAQEAAAEAAQAAAAAAAAAAAAAAAAAAAQEAAQAAAAEAAAAAAAAAAAAAAAAAAAAAAAABAAEAAAABAQAAAAEAAAEAAAABAAAAAAAAAQAAAAAAAAABAAEAAAAAAQAAAQAAAAAAAQABAAABAAEBAAAAAQAAAQAAAQAAAQABAAAAAAAAAAAAAAABAAAAAAEAAAAAAQABAQEAAAAAAQAAAAAAAAABAQAAAAAAAQAAAAAAAAAAAAAAAAEAAAAAAQEAAAEAAAABAAAAAAAAAQAAAAEAAAAAAAAAAAAAAQAAAAABAAAAAAABAAAAAAEBAQABAQEBAAAAAAABAAEAAAAAAQAAAAAAAAAAAAAAAQAAAAAAAAEAAQAAAQEAAAEAAQEAAQAAAAAAAAEAAAAAAAAAAQAAAAEAAAAAAAABAQEAAAEBAAAAAAEBAAEBAQEBAAEAAQABAQAAAAEAAQABAAAAAQEBAQEAAAAAAAAAAAAAAAEAAAEAAAEAAAAAAQABAAAAAAAAAAEAAAAAAAAAAQAAAAABAAAAAAAAAAEBAAEBAAAAAAABAAEAAAEAAAABAAAAAAAAAAEAAAAAAAAAAQABAAAAAAAAAAAAAQEAAAABAAAAAAAAAAAAAQAAAAAAAQAAAAAAAAABAAAAAQAAAAAAAAEAAAABAAAAAQABAAEAAQABAAEBAAAAAAEBAAABAAABAAEAAAAAAQAAAAAAAAAAAAEAAAAAAAAAAAAAAAAAAAABAQABAQAAAAABAQEBAAEAAAAAAQAAAAAAAAABAQEAAAEBAQAAAAAAAAEBAQAAAQEAAAEBAQEAAAAAAAAAAAAAAAAAAAABAAAAAQEAAAAAAQAAAAEAAAAAAAEAAAAAAAEBAAAAAAABAQAAAQAAAAAAAQEAAQEAAAAAAAAAAAAAAQAAAAEAAAAAAAEAAQEAAQAAAAABAAAAAAAAAAEAAAABAAABAQAAAAAAAAABAAABAAAAAQEBAAAAAAAAAAAAAAEAAAEBAAAAAAAAAQAAAAAAAAEAAQAAAQAAAAABAAAAAAAAAAAAAAEAAAEAAAAAAAABAAAAAAABAAAAAAAAAAAAAAAAAAEAAAAAAAEBAAABAAAAAQAAAAAAAAEAAQAAAAAAAQAAAAAAAAABAAEBAAAAAQAAAAABAAAAAQAAAAABAAABAAEAAAAAAQABAQAAAAEAAAABAQAAAAAAAAAAAQABAAAAAAEBAAAAAAAAAAEAAAEAAQAAAAAAAQEAAAAAAQAAAAABAAEBAAEAAAAAAAABAQAAAAABAQAAAQAAAAAAAAAAAQEAAQAAAAAAAAAAAAAAAAAAAQEBAAABAAAAAAAAAAAAAAAAAAEAAAAAAAAAAAEAAAEBAAEBAAAAAQAAAAEAAAABAQEBAAAAAAEBAAEAAAAAAQEBAAEBAAAAAAEAAAABAQAAAAAAAAAAAAAAAAAAAQABAQAAAQAAAAAAAQAAAAAAAAAAAAABAAEAAQEBAAABAAAAAAEBAAAAAAABAAAAAAEBAAEAAAAAAQABAQAAAAAAAAAAAAABAAAAAAAAAAAAAAAAAAAAAQAAAAABAAEAAAAAAAAAAAAAAAAAAQABAQEBAAEAAQEAAAAAAAEBAAEBAAAAAQABAAEBAQEAAAEAAAAAAAAAAQABAAABAAABAAABAAAAAAAAAAAAAQAAAQAAAAAAAAAAAAABAQEAAAAAAQAAAAEBAQABAQEAAQAAAAEAAAEAAQAAAAAAAAAAAQEBAQABAAAAAAAAAAABAAABAAAAAQAAAAEAAQABAAAAAAEAAAEAAAEAAQABAAAAAAEBAQAAAAAAAAEAAAAAAQEAAQAAAQAAAAEAAAAAAAAAAQAAAAEAAAEBAAABAQAAAAABAQAAAQEAAAAAAAAAAAAAAAABAAAAAAEBAQEAAAAAAQAAAAEAAAAAAAEAAQAAAAAAAAAAAQABAAAAAAEAAAEAAAEBAAAAAAEAAAAAAQEAAAEAAAABAAAAAQAAAAAAAQABAQAAAAEAAQABAAABAAAAAAABAAAAAAABAAAAAQAAAAAAAAABAAABAAAAAAAAAAAAAQABAAEAAAABAQAAAAEAAQEBAQAAAAAAAQABAAABAAAAAAAAAAAAAAEAAAEAAAEAAAABAAEAAAEAAAEAAQABAAAAAAAAAAAAAAABAAEAAAABAAABAQAAAQAAAQAAAQAAAAAAAAAAAAAAAAAAAAAAAAAAAAEAAAAAAAAAAQAAAQAAAAEAAQAAAAAAAAABAAABAAAAAQAAAQAAAAAAAAEAAAEBAAAAAAAAAQABAAAAAAEAAAAAAAAAAAABAAAAAAABAQAAAQAAAAAAAAAAAQAAAAAAAQAAAAAAAQAAAQEAAAAAAAAAAAAAAQAAAQAAAAEAAAAAAAEAAQAAAQABAQEAAQEAAAEBAAAAAAEBAAAAAAAAAAAAAAEAAQABAQAAAQAAAQAAAAAAAAAAAQAAAQAAAAAAAAABAAAAAAABAAAAAAEAAQABAAABAAEBAQABAAABAAEAAQAAAAABAAAAAAAAAAAAAQEAAAAAAAEAAQABAQEBAAAAAAAAAQAAAQEAAAABAAEAAAEAAAAAAAAAAQABAQAAAAAAAQEAAQAAAQEAAAEAAQAAAAABAAAAAAAAAQEAAAEAAAAAAAAAAAABAQABAAEAAAEAAAAAAQEAAQAAAQAAAAAAAAEAAAAAAAAAAAAAAQAAAAAAAAABAAABAQEAAAEAAAAAAAAAAAEAAAAAAAEBAAAAAAEAAAAAAQABAAAAAAAAAAAAAAAAAAAAAQAAAQABAAAAAAEBAAEAAAEBAAAAAQAAAAEAAQABAAEAAAAAAAEAAAAAAAEAAAAAAAAAAAAAAAABAQEBAQEAAQABAAAAAQAAAAAAAAEBAAABAAAAAQABAAEAAAAAAQAAAQABAQEAAAAAAAABAQAAAAABAAEAAAEBAQABAAEAAAAAAQABAAAAAAEBAAEBAQAAAAAAAAAAAAAAAAAAAQAAAAAAAQABAAABAAABAAABAAAAAAAAAAEAAAEAAQAAAQAAAAEAAQAAAAABAAEAAAAAAAAAAQAAAQABAAAAAAAAAQAAAQEBAAAAAAABAQAAAQAAAQEBAAEAAAABAAAAAAAAAAAAAAABAAAAAQAAAAAAAAAAAQEAAAABAQAAAQAAAQABAAEBAQABAAAAAAABAAAAAAABAAAAAAAAAAEAAAABAQEAAQEAAQABAAAAAAEAAQAAAAABAAEAAQABAAABAQEBAAEBAQEAAQEAAAAAAQEAAAAAAAABAAABAAABAQEBAAAAAAAAAAEAAQAAAAAAAAABAAAAAAAAAQEAAAEAAQAAAQAAAAAAAAEAAAAAAAAAAQAAAAABAQAAAAEAAQABAAEBAAAAAAEAAAABAAAAAAAAAAEAAAAAAQAAAQAAAAAAAAEAAAEAAQAAAAEAAQEBAAAAAAAAAAAAAAABAQEBAQAAAQABAQAAAQAAAAEBAAAAAAAAAAEBAAABAQEBAAAAAAEBAQAAAAAAAQAAAAABAAABAAAAAAAAAAEBAQAAAAABAAABAAAAAAABAAABAQAAAAAAAAEAAAAAAAEAAQABAAEAAQEAAAABAQEAAQAAAQEBAAABAAABAAAAAAAAAAAAAAABAAAAAAEBAAAAAAEBAQAAAQAAAAAAAAAAAAABAAAAAAAAAAAAAAAAAAEAAAEAAAAAAAABAAAAAQEAAQEAAAAAAAAAAAAAAQEAAQEAAAABAAAAAAAAAAAAAAABAAAAAQAAAQABAAAAAAEAAQEBAAAAAAAAAAAAAAAAAAAAAAEAAAAAAQAAAAEAAQAAAQEAAAAAAAAAAAAAAAAAAAEAAAABAAAAAQEAAAAAAAAAAAABAQAAAAAAAQEAAAAAAAEAAQAAAQAAAAAAAAAAAAABAAABAAAAAAEAAAAAAAEAAAAAAAABAAEAAAABAQAAAQAAAQAAAAAAAAABAAAAAAEAAAEBAQABAAABAAEBAAABAAAAAAEBAQAAAAEAAAAAAAAAAAAAAQAAAAAAAAAAAAAAAAAAAAAAAAAAAAAAAQAAAAABAQAAAQEAAQAAAAABAAEAAAEBAQAAAAEAAQAAAQAAAQABAAAAAAAAAAAAAQABAQAAAAAAAAEAAAAAAQEAAAEBAAAAAAEAAAAAAAABAAAAAQAAAAAAAQEAAAEBAAABAQEAAAABAAABAAABAAABAQABAAEBAAAAAAAAAAEBAAABAAAAAAAAAAEBAAABAAABAQAAAQAAAQEBAQAAAAEAAAEBAQAAAQAAAAAAAAAAAQAAAQAAAAEAAAAAAAAAAAAAAAEAAAEAAQEBAAAAAAAAAQAAAAAAAAEAAAEBAAAAAAABAAEBAQAAAAAAAQABAAAAAAAAAAEAAQAAAQAAAAAAAAEAAAAAAAAAAQEAAAAAAQAAAAAAAQEAAAAAAAAAAAAAAAAAAAAAAQAAAAAAAQAAAQAAAAAAAAAAAQAAAAABAQEAAAABAAAAAAAAAAAAAAAAAAAAAAAAAQABAAABAQAAAAABAAEAAAEBAAAAAQAAAQAAAAEAAQEAAQAAAAAAAAAAAQAAAQEAAAAAAQAAAAAAAAEBAAAAAAEAAQAAAAABAQABAAEAAAAAAAAAAAABAAABAQAAAAAAAAAAAAAAAAABAAAAAAAAAAEAAQABAAAAAAEAAAEAAQABAAABAAEBAAEAAAABAAABAAAAAAAAAQAAAAAAAAAAAAAAAAAAAAEBAAAAAAABAAEBAAAAAQEAAAAAAAAAAQAAAAEAAAEAAAAAAAAAAAAAAQEBAAAAAAABAAABAAABAAEAAAAAAQABAAAAAAEBAAAAAAAAAAAAAAAAAAAAAAEBAQAAAAEAAAAAAQAAAQAAAQAAAAABAQAAAAAAAAAAAAAAAAAAAAAAAAABAAAAAAEBAAAAAQAAAAAAAAEAAAAAAQABAAEBAAEBAQEAAAABAQEBAQEAAAEAAAAAAAAAAAAAAQEAAAAAAAEAAQABAAAAAQABAAAAAAABAAABAAABAAAAAQABAQABAQEAAAEAAAAAAQEAAQAAAAAAAQABAAABAAAAAAEBAAAAAAAAAQEAAAAAAAAAAQAAAAEAAAAAAAAAAAAAAQAAAAAAAAEAAAEAAQAAAAAAAAAAAQAAAQAAAAEAAAABAAAAAAEAAQAAAAAAAAAAAAEAAAAAAQAAAAAAAAAAAQAAAAEAAAAAAAABAQABAQABAAAAAQAAAAAAAQEAAAEAAAAAAAAAAAAAAQAAAAEAAAEAAQAAAQEAAAAAAQAAAQAAAAAAAQABAAAAAAEBAAEAAQAAAQEBAQAAAQAAAAAAAAAAAAEAAAAAAQEBAAEAAAAAAAAAAAAAAAAAAAAAAAAAAAAAAAAAAAAAAAAAAAAAAAAAAAEBAAEBAQAAAQEAAAAAAAAAAAEAAQAAAAAAAAAAAQEAAAEAAAABAAAAAAEAAAEAAAABAQAAAAAAAQAAAAEBAAAAAAAAAAAAAQEBAAAAAAAAAQEAAQAAAAAAAQEAAAABAQAAAAEAAQAAAAAAAAAAAAEAAAABAAAAAAABAAEAAAAAAQABAQABAAAAAAAAAAAAAAAAAQAAAAEBAAEAAQABAAEAAAAAAAEAAAEBAAAAAAAAAAAAAQAAAAAAAAABAAAAAQABAAAAAAAAAAAAAAAAAAAAAQAAAQEAAAABAQAAAQAAAAABAAABAAEAAAAAAAAAAAAAAAAAAAAAAAEAAAABAAEAAAAAAAABAAABAAAAAQABAAAAAQAAAAAAAQEAAAAAAAAAAAAAAAAAAAABAQAAAAAAAAAAAQAAAQABAAEBAAABAAAAAQAAAAABAAEBAQEAAAEAAAAAAAAAAQEBAAAAAQEAAAAAAAABAAABAAEAAAABAAAAAAAAAQEAAAAAAAAAAAAAAAEAAQAAAAABAAAAAAAAAAEAAAAAAAEAAAAAAAAAAAABAQAAAAAAAAEAAQABAAABAAEAAAAAAAAAAAAAAAAAAAEBAAEAAAAAAAAAAAEAAAAAAAAAAAEAAAEAAAAAAAEAAAAAAQEAAQABAQAAAQEAAAAAAAEBAAAAAQABAAAAAQAAAAAAAQAAAAEAAQAAAQEAAAEBAQABAQAAAAAAAAEAAQAAAAEAAAEAAAABAAABAQAAAAEAAQEAAQABAAAAAQEAAAAAAAABAAAAAAAAAAAAAQEBAAEAAAAAAAEBAQAAAQAAAAAAAAABAAABAQAAAAAAAAABAAEAAAEAAAABAAEAAAAAAAAAAQAAAQAAAAAAAQABAAAAAAEAAAAAAAAAAQAAAAABAAAAAAAAAQABAQAAAAEAAAAAAQAAAAEBAAEAAAABAAABAAEAAQABAAABAAEAAAAAAAAAAAAAAAEAAAABAAAAAAABAAAAAAABAQABAAAAAQABAQAAAQEAAQAAAQEBAAAAAAABAAAAAAAAAAAAAAAAAAABAQABAQABAAAAAAABAAABAAEAAAAAAAAAAAEAAAABAQEAAAEAAAABAAAAAAEBAAAAAAAAAAEAAAAAAAAAAAEAAAABAAABAAAAAAAAAAABAAAAAAEAAQAAAAABAAEBAAAAAAAAAAABAAAAAAABAAAAAAAAAAAAAQEAAQEAAAEBAQAAAAEBAAAAAAABAAABAQAAAQAAAQAAAAAAAAAAAQAAAAAAAAAAAAAAAQEBAAAAAAABAAAAAAAAAAAAAAABAAAAAQAAAAAAAAABAAEAAAAAAQAAAQEBAAEAAAAAAAAAAAEAAAAAAAAAAQAAAAAAAAAAAAAAAAAAAAAAAAABAAAAAQAAAAAAAAAAAAEAAAABAQAAAQAAAQAAAAAAAQAAAAEAAQAAAQAAAQAAAAEAAAAAAAAAAAAAAAAAAQAAAAEAAAAAAQEAAAAAAQAAAAEAAQEBAAEBAAAAAQEAAAEAAAAAAQAAAQABAAAAAAAAAAAAAAAAAQABAAEAAAEAAAEAAAEAAAEBAQABAAAAAAAAAAAAAAAAAAABAAABAQAAAAAAAQAAAQAAAAAAAQEBAAAAAAAAAAAAAAABAAAAAQAAAQAAAAAAAAAAAQEAAAAAAAAAAAEAAAABAQAAAAABAAABAAAAAQABAAEBAAABAAAAAAEAAAEBAQABAQEAAAAAAAABAQAAAAAAAAABAAAAAAAAAQABAAAAAQAAAAAAAQEAAAAAAAABAAAAAAABAAABAAEAAAAAAAAAAAAAAAAAAAEAAQEAAAAAAAAAAQAAAAAAAQAAAAAAAQAAAAEAAQABAAAAAQAAAQAAAAABAAEAAAAAAAABAAEAAAEBAAAAAQABAAAAAAEAAAEBAQABAQAAAAEAAAABAAAAAAEAAAEAAQAAAAAAAQAAAAAAAAEAAAAAAAAAAAEAAAAAAAAAAAAAAAEAAAABAAEAAAABAAEBAAEAAQEAAAEAAAAAAAAAAAAAAAAAAQAAAQAAAAAAAAABAAAAAQAAAAEAAQAAAAAAAAABAQEAAQAAAAAAAAEAAQAAAAABAAEAAAABAAABAQEAAAABAQAAAAAAAAAAAAAAAAEAAAAAAAEAAAAAAQAAAQABAAABAAAAAAAAAAAAAQAAAQAAAAAAAQAAAAEAAAAAAQAAAAAAAAAAAAABAAAAAAABAQEBAAEAAAABAQEBAAAAAQAAAAEAAAABAQAAAQAAAAEAAAEAAQAAAQEBAAABAAEAAAABAAEAAQAAAAAAAAABAQABAAAAAAAAAQEBAQAAAAAAAAEBAAAAAQAAAAAAAAAAAAAAAAAAAAAAAAEAAAAAAAAAAAEBAAAAAAABAQAAAAAAAAEAAAAAAAAAAQAAAAAAAQABAQEAAAAAAQAAAQAAAAABAAAAAQEAAAEAAQAAAQEAAAAAAAABAAAAAAAAAAAAAAEAAAABAQAAAAAAAQAAAAAAAAAAAAAAAQAAAAABAAEAAQAAAAEBAQABAAAAAAABAAAAAQAAAAAAAAAAAAABAAEAAQABAAABAAABAAEAAAABAAAAAAAAAAAAAAEBAQAAAAEAAAEBAAAAAAAAAAAAAQAAAAAAAAAAAAEAAAAAAAAAAAEAAAEBAAABAAEBAAAAAAAAAAABAQABAAEAAAAAAAAAAAAAAAAAAQAAAAAAAAABAQEAAAEAAQEAAAAAAAAAAAEAAAAAAAAAAAABAAAAAAAAAAABAAAAAAAAAAAAAQAAAAAAAAAAAAAAAAABAAAAAQABAAAAAAABAAEAAAAAAQAAAQAAAQABAQAAAAEAAAAAAAEAAAEBAQAAAAABAAEAAAAAAAEBAAAAAQAAAQABAAAAAQEAAAABAAABAAAAAAAAAAABAAAAAAAAAAAAAAAAAAEBAAABAAEBAAAAAAAAAQAAAQAAAAAAAAAAAAAAAAEBAAEAAAA=",
          "dtype": "i1"
         },
         "xaxis": "x2",
         "y": {
          "bdata": "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",
          "dtype": "f8"
         },
         "yaxis": "y2"
        },
        {
         "boxpoints": "outliers",
         "name": "Charges.Total",
         "type": "box",
         "x": {
          "bdata": "AAABAQEAAAAAAAAAAAAAAAAAAQEAAQAAAQEAAAAAAAAAAAAAAAAAAAEAAAAAAAAAAAAAAAABAQAAAAAAAAAAAQEAAAEAAAABAQAAAQABAAAAAAEAAQABAQAAAAABAQEAAAAAAAAAAAAAAAAAAAEBAAEAAAEBAAABAAAAAAAAAQEAAAABAAAAAAAAAAEAAAEBAAAAAAAAAAAAAAABAAEAAQEAAAEAAAABAAAAAAABAQAAAAAAAQAAAAAAAQAAAAEAAAABAAAAAQAAAQAAAAEBAQABAQAAAQEAAQEAAAABAAEAAAEAAQAAAAAAAQEAAAAAAAAAAAAAAQABAAABAQEAAAAAAAAAAQEAAAAAAAEAAAEAAAEBAQAAAAABAAEAAAAAAAEAAAABAAAAAAAAAAAAAAEAAAAAAAABAAAAAAAAAQEAAAAAAAAAAQAAAAABAAABAQABAAEAAAABAAABAAAAAQEAAQEAAQABAAAAAQAAAAAAAAAAAAAAAAAAAAEAAQAAAAEAAAABAAEAAAAAAAABAAABAAEAAAAAAQAAAQEAAQEBAQAAAAAAAAABAAABAAABAQABAQEBAAABAAABAAEAAAAAAAEAAAAAAAAAAAAAAAABAAEAAQEBAAEAAQEAAAEAAAABAAAAAAEAAQABAQAAAAEAAQAAAAABAAAAAQEAAAAAAQEAAAAAAQAAAQAAAAEAAAEAAQAAAAEAAAAAAAAAAAAAAQAAAAEAAAAAAQABAAEAAAAAAAAAAAEAAAAAAQABAAAAAAAAAAAAAAABAAEAAAEAAQAAAQEBAQABAQABAQABAAAAAQAAAAAAAAAAAAAAAAEAAQABAAEAAAAAAAAAAAABAQAAAAEAAQEBAAAAAAAAAAABAAEAAQAAAAAAAAEAAAAAAAEAAAABAAEBAAAAAAAAAAABAAEAAAABAQAAAAABAQAAAQAAAAAAAAAAAAAAAQAAAQABAAAAAQAAAAABAAEAAQAAAAAAAAABAAAAAQAAAAAAAAAAAAAAAAABAQEAAAEAAQAAAAAAAAAAAAAAAAAAAQEAAQAAAAEAAAAAAAAAAAAAAAAAAAAAAAABAAEAAAABAQAAAAEAAAEAAAABAAAAAAAAAQAAAAAAAAABAAEAAAAAAQAAAQAAAAAAAQABAAABAAEBAAAAAQAAAQAAAQAAAQABAAAAAAAAAAAAAAABAAAAAAEAAAAAAQABAQEAAAAAAQAAAAAAAAABAQAAAAAAAQAAAAAAAAAAAAAAAAEAAAAAAQEAAAEAAAABAAAAAAAAAQAAAAEAAAAAAAAAAAAAAQAAAAABAAAAAAABAAAAAAEBAQABAQEBAAAAAAABAAEAAAAAAQAAAAAAAAAAAAAAAQAAAAAAAAEAAQAAAQEAAAEAAQEAAQAAAAAAAAEAAAAAAAAAAQAAAAEAAAAAAAABAQEAAAEBAAAAAAEBAAEBAQEBAAEAAQABAQAAAAEAAQABAAAAAQEBAQEAAAAAAAAAAAAAAAEAAAEAAAEAAAAAAQABAAAAAAAAAAEAAAAAAAAAAQAAAAABAAAAAAAAAAEBAAEBAAAAAAABAAEAAAEAAAABAAAAAAAAAAEAAAAAAAAAAQABAAAAAAAAAAAAAQEAAAABAAAAAAAAAAAAAQAAAAAAAQAAAAAAAAABAAAAAQAAAAAAAAEAAAABAAAAAQABAAEAAQABAAEBAAAAAAEBAAABAAABAAEAAAAAAQAAAAAAAAAAAAEAAAAAAAAAAAAAAAAAAAABAQABAQAAAAABAQEBAAEAAAAAAQAAAAAAAAABAQEAAAEBAQAAAAAAAAEBAQAAAQEAAAEBAQEAAAAAAAAAAAAAAAAAAAABAAAAAQEAAAAAAQAAAAEAAAAAAAEAAAAAAAEBAAAAAAABAQAAAQAAAAAAAQEAAQEAAAAAAAAAAAAAAQAAAAEAAAAAAAEAAQEAAQAAAAABAAAAAAAAAAEAAAABAAABAQAAAAAAAAABAAABAAAAAQEBAAAAAAAAAAAAAAEAAAEBAAAAAAAAAQAAAAAAAAEAAQAAAQAAAAABAAAAAAAAAAAAAAEAAAEAAAAAAAABAAAAAAABAAAAAAAAAAAAAAAAAAEAAAAAAAEBAAABAAAAAQAAAAAAAAEAAQAAAAAAAQAAAAAAAAABAAEBAAAAAQAAAAABAAAAAQAAAAABAAABAAEAAAAAAQABAQAAAAEAAAABAQAAAAAAAAAAAQABAAAAAAEBAAAAAAAAAAEAAAEAAQAAAAAAAQEAAAAAAQAAAAABAAEBAAEAAAAAAAABAQAAAAABAQAAAQAAAAAAAAAAAQEAAQAAAAAAAAAAAAAAAAAAAQEBAAABAAAAAAAAAAAAAAAAAAEAAAAAAAAAAAEAAAEBAAEBAAAAAQAAAAEAAAABAQEBAAAAAAEBAAEAAAAAAQEBAAEBAAAAAAEAAAABAQAAAAAAAAAAAAAAAAAAAQABAQAAAQAAAAAAAQAAAAAAAAAAAAABAAEAAQEBAAABAAAAAAEBAAAAAAABAAAAAAEBAAEAAAAAAQABAQAAAAAAAAAAAAABAAAAAAAAAAAAAAAAAAAAAQAAAAABAAEAAAAAAAAAAAAAAAAAAQABAQEBAAEAAQEAAAAAAAEBAAEBAAAAAQABAAEBAQEAAAEAAAAAAAAAAQABAAABAAABAAABAAAAAAAAAAAAAQAAAQAAAAAAAAAAAAABAQEAAAAAAQAAAAEBAQABAQEAAQAAAAEAAAEAAQAAAAAAAAAAAQEBAQABAAAAAAAAAAABAAABAAAAAQAAAAEAAQABAAAAAAEAAAEAAAEAAQABAAAAAAEBAQAAAAAAAAEAAAAAAQEAAQAAAQAAAAEAAAAAAAAAAQAAAAEAAAEBAAABAQAAAAABAQAAAQEAAAAAAAAAAAAAAAABAAAAAAEBAQEAAAAAAQAAAAEAAAAAAAEAAQAAAAAAAAAAAQABAAAAAAEAAAEAAAEBAAAAAAEAAAAAAQEAAAEAAAABAAAAAQAAAAAAAQABAQAAAAEAAQABAAABAAAAAAABAAAAAAABAAAAAQAAAAAAAAABAAABAAAAAAAAAAAAAQABAAEAAAABAQAAAAEAAQEBAQAAAAAAAQABAAABAAAAAAAAAAAAAAEAAAEAAAEAAAABAAEAAAEAAAEAAQABAAAAAAAAAAAAAAABAAEAAAABAAABAQAAAQAAAQAAAQAAAAAAAAAAAAAAAAAAAAAAAAAAAAEAAAAAAAAAAQAAAQAAAAEAAQAAAAAAAAABAAABAAAAAQAAAQAAAAAAAAEAAAEBAAAAAAAAAQABAAAAAAEAAAAAAAAAAAABAAAAAAABAQAAAQAAAAAAAAAAAQAAAAAAAQAAAAAAAQAAAQEAAAAAAAAAAAAAAQAAAQAAAAEAAAAAAAEAAQAAAQABAQEAAQEAAAEBAAAAAAEBAAAAAAAAAAAAAAEAAQABAQAAAQAAAQAAAAAAAAAAAQAAAQAAAAAAAAABAAAAAAABAAAAAAEAAQABAAABAAEBAQABAAABAAEAAQAAAAABAAAAAAAAAAAAAQEAAAAAAAEAAQABAQEBAAAAAAAAAQAAAQEAAAABAAEAAAEAAAAAAAAAAQABAQAAAAAAAQEAAQAAAQEAAAEAAQAAAAABAAAAAAAAAQEAAAEAAAAAAAAAAAABAQABAAEAAAEAAAAAAQEAAQAAAQAAAAAAAAEAAAAAAAAAAAAAAQAAAAAAAAABAAABAQEAAAEAAAAAAAAAAAEAAAAAAAEBAAAAAAEAAAAAAQABAAAAAAAAAAAAAAAAAAAAAQAAAQABAAAAAAEBAAEAAAEBAAAAAQAAAAEAAQABAAEAAAAAAAEAAAAAAAEAAAAAAAAAAAAAAAABAQEBAQEAAQABAAAAAQAAAAAAAAEBAAABAAAAAQABAAEAAAAAAQAAAQABAQEAAAAAAAABAQAAAAABAAEAAAEBAQABAAEAAAAAAQABAAAAAAEBAAEBAQAAAAAAAAAAAAAAAAAAAQAAAAAAAQABAAABAAABAAABAAAAAAAAAAEAAAEAAQAAAQAAAAEAAQAAAAABAAEAAAAAAAAAAQAAAQABAAAAAAAAAQAAAQEBAAAAAAABAQAAAQAAAQEBAAEAAAABAAAAAAAAAAAAAAABAAAAAQAAAAAAAAAAAQEAAAABAQAAAQAAAQABAAEBAQABAAAAAAABAAAAAAABAAAAAAAAAAEAAAABAQEAAQEAAQABAAAAAAEAAQAAAAABAAEAAQABAAABAQEBAAEBAQEAAQEAAAAAAQEAAAAAAAABAAABAAABAQEBAAAAAAAAAAEAAQAAAAAAAAABAAAAAAAAAQEAAAEAAQAAAQAAAAAAAAEAAAAAAAAAAQAAAAABAQAAAAEAAQABAAEBAAAAAAEAAAABAAAAAAAAAAEAAAAAAQAAAQAAAAAAAAEAAAEAAQAAAAEAAQEBAAAAAAAAAAAAAAABAQEBAQAAAQABAQAAAQAAAAEBAAAAAAAAAAEBAAABAQEBAAAAAAEBAQAAAAAAAQAAAAABAAABAAAAAAAAAAEBAQAAAAABAAABAAAAAAABAAABAQAAAAAAAAEAAAAAAAEAAQABAAEAAQEAAAABAQEAAQAAAQEBAAABAAABAAAAAAAAAAAAAAABAAAAAAEBAAAAAAEBAQAAAQAAAAAAAAAAAAABAAAAAAAAAAAAAAAAAAEAAAEAAAAAAAABAAAAAQEAAQEAAAAAAAAAAAAAAQEAAQEAAAABAAAAAAAAAAAAAAABAAAAAQAAAQABAAAAAAEAAQEBAAAAAAAAAAAAAAAAAAAAAAEAAAAAAQAAAAEAAQAAAQEAAAAAAAAAAAAAAAAAAAEAAAABAAAAAQEAAAAAAAAAAAABAQAAAAAAAQEAAAAAAAEAAQAAAQAAAAAAAAAAAAABAAABAAAAAAEAAAAAAAEAAAAAAAABAAEAAAABAQAAAQAAAQAAAAAAAAABAAAAAAEAAAEBAQABAAABAAEBAAABAAAAAAEBAQAAAAEAAAAAAAAAAAAAAQAAAAAAAAAAAAAAAAAAAAAAAAAAAAAAAQAAAAABAQAAAQEAAQAAAAABAAEAAAEBAQAAAAEAAQAAAQAAAQABAAAAAAAAAAAAAQABAQAAAAAAAAEAAAAAAQEAAAEBAAAAAAEAAAAAAAABAAAAAQAAAAAAAQEAAAEBAAABAQEAAAABAAABAAABAAABAQABAAEBAAAAAAAAAAEBAAABAAAAAAAAAAEBAAABAAABAQAAAQAAAQEBAQAAAAEAAAEBAQAAAQAAAAAAAAAAAQAAAQAAAAEAAAAAAAAAAAAAAAEAAAEAAQEBAAAAAAAAAQAAAAAAAAEAAAEBAAAAAAABAAEBAQAAAAAAAQABAAAAAAAAAAEAAQAAAQAAAAAAAAEAAAAAAAAAAQEAAAAAAQAAAAAAAQEAAAAAAAAAAAAAAAAAAAAAAQAAAAAAAQAAAQAAAAAAAAAAAQAAAAABAQEAAAABAAAAAAAAAAAAAAAAAAAAAAAAAQABAAABAQAAAAABAAEAAAEBAAAAAQAAAQAAAAEAAQEAAQAAAAAAAAAAAQAAAQEAAAAAAQAAAAAAAAEBAAAAAAEAAQAAAAABAQABAAEAAAAAAAAAAAABAAABAQAAAAAAAAAAAAAAAAABAAAAAAAAAAEAAQABAAAAAAEAAAEAAQABAAABAAEBAAEAAAABAAABAAAAAAAAAQAAAAAAAAAAAAAAAAAAAAEBAAAAAAABAAEBAAAAAQEAAAAAAAAAAQAAAAEAAAEAAAAAAAAAAAAAAQEBAAAAAAABAAABAAABAAEAAAAAAQABAAAAAAEBAAAAAAAAAAAAAAAAAAAAAAEBAQAAAAEAAAAAAQAAAQAAAQAAAAABAQAAAAAAAAAAAAAAAAAAAAAAAAABAAAAAAEBAAAAAQAAAAAAAAEAAAAAAQABAAEBAAEBAQEAAAABAQEBAQEAAAEAAAAAAAAAAAAAAQEAAAAAAAEAAQABAAAAAQABAAAAAAABAAABAAABAAAAAQABAQABAQEAAAEAAAAAAQEAAQAAAAAAAQABAAABAAAAAAEBAAAAAAAAAQEAAAAAAAAAAQAAAAEAAAAAAAAAAAAAAQAAAAAAAAEAAAEAAQAAAAAAAAAAAQAAAQAAAAEAAAABAAAAAAEAAQAAAAAAAAAAAAEAAAAAAQAAAAAAAAAAAQAAAAEAAAAAAAABAQABAQABAAAAAQAAAAAAAQEAAAEAAAAAAAAAAAAAAQAAAAEAAAEAAQAAAQEAAAAAAQAAAQAAAAAAAQABAAAAAAEBAAEAAQAAAQEBAQAAAQAAAAAAAAAAAAEAAAAAAQEBAAEAAAAAAAAAAAAAAAAAAAAAAAAAAAAAAAAAAAAAAAAAAAAAAAAAAAEBAAEBAQAAAQEAAAAAAAAAAAEAAQAAAAAAAAAAAQEAAAEAAAABAAAAAAEAAAEAAAABAQAAAAAAAQAAAAEBAAAAAAAAAAAAAQEBAAAAAAAAAQEAAQAAAAAAAQEAAAABAQAAAAEAAQAAAAAAAAAAAAEAAAABAAAAAAABAAEAAAAAAQABAQABAAAAAAAAAAAAAAAAAQAAAAEBAAEAAQABAAEAAAAAAAEAAAEBAAAAAAAAAAAAAQAAAAAAAAABAAAAAQABAAAAAAAAAAAAAAAAAAAAAQAAAQEAAAABAQAAAQAAAAABAAABAAEAAAAAAAAAAAAAAAAAAAAAAAEAAAABAAEAAAAAAAABAAABAAAAAQABAAAAAQAAAAAAAQEAAAAAAAAAAAAAAAAAAAABAQAAAAAAAAAAAQAAAQABAAEBAAABAAAAAQAAAAABAAEBAQEAAAEAAAAAAAAAAQEBAAAAAQEAAAAAAAABAAABAAEAAAABAAAAAAAAAQEAAAAAAAAAAAAAAAEAAQAAAAABAAAAAAAAAAEAAAAAAAEAAAAAAAAAAAABAQAAAAAAAAEAAQABAAABAAEAAAAAAAAAAAAAAAAAAAEBAAEAAAAAAAAAAAEAAAAAAAAAAAEAAAEAAAAAAAEAAAAAAQEAAQABAQAAAQEAAAAAAAEBAAAAAQABAAAAAQAAAAAAAQAAAAEAAQAAAQEAAAEBAQABAQAAAAAAAAEAAQAAAAEAAAEAAAABAAABAQAAAAEAAQEAAQABAAAAAQEAAAAAAAABAAAAAAAAAAAAAQEBAAEAAAAAAAEBAQAAAQAAAAAAAAABAAABAQAAAAAAAAABAAEAAAEAAAABAAEAAAAAAAAAAQAAAQAAAAAAAQABAAAAAAEAAAAAAAAAAQAAAAABAAAAAAAAAQABAQAAAAEAAAAAAQAAAAEBAAEAAAABAAABAAEAAQABAAABAAEAAAAAAAAAAAAAAAEAAAABAAAAAAABAAAAAAABAQABAAAAAQABAQAAAQEAAQAAAQEBAAAAAAABAAAAAAAAAAAAAAAAAAABAQABAQABAAAAAAABAAABAAEAAAAAAAAAAAEAAAABAQEAAAEAAAABAAAAAAEBAAAAAAAAAAEAAAAAAAAAAAEAAAABAAABAAAAAAAAAAABAAAAAAEAAQAAAAABAAEBAAAAAAAAAAABAAAAAAABAAAAAAAAAAAAAQEAAQEAAAEBAQAAAAEBAAAAAAABAAABAQAAAQAAAQAAAAAAAAAAAQAAAAAAAAAAAAAAAQEBAAAAAAABAAAAAAAAAAAAAAABAAAAAQAAAAAAAAABAAEAAAAAAQAAAQEBAAEAAAAAAAAAAAEAAAAAAAAAAQAAAAAAAAAAAAAAAAAAAAAAAAABAAAAAQAAAAAAAAAAAAEAAAABAQAAAQAAAQAAAAAAAQAAAAEAAQAAAQAAAQAAAAEAAAAAAAAAAAAAAAAAAQAAAAEAAAAAAQEAAAAAAQAAAAEAAQEBAAEBAAAAAQEAAAEAAAAAAQAAAQABAAAAAAAAAAAAAAAAAQABAAEAAAEAAAEAAAEAAAEBAQABAAAAAAAAAAAAAAAAAAABAAABAQAAAAAAAQAAAQAAAAAAAQEBAAAAAAAAAAAAAAABAAAAAQAAAQAAAAAAAAAAAQEAAAAAAAAAAAEAAAABAQAAAAABAAABAAAAAQABAAEBAAABAAAAAAEAAAEBAQABAQEAAAAAAAABAQAAAAAAAAABAAAAAAAAAQABAAAAAQAAAAAAAQEAAAAAAAABAAAAAAABAAABAAEAAAAAAAAAAAAAAAAAAAEAAQEAAAAAAAAAAQAAAAAAAQAAAAAAAQAAAAEAAQABAAAAAQAAAQAAAAABAAEAAAAAAAABAAEAAAEBAAAAAQABAAAAAAEAAAEBAQABAQAAAAEAAAABAAAAAAEAAAEAAQAAAAAAAQAAAAAAAAEAAAAAAAAAAAEAAAAAAAAAAAAAAAEAAAABAAEAAAABAAEBAAEAAQEAAAEAAAAAAAAAAAAAAAAAAQAAAQAAAAAAAAABAAAAAQAAAAEAAQAAAAAAAAABAQEAAQAAAAAAAAEAAQAAAAABAAEAAAABAAABAQEAAAABAQAAAAAAAAAAAAAAAAEAAAAAAAEAAAAAAQAAAQABAAABAAAAAAAAAAAAAQAAAQAAAAAAAQAAAAEAAAAAAQAAAAAAAAAAAAABAAAAAAABAQEBAAEAAAABAQEBAAAAAQAAAAEAAAABAQAAAQAAAAEAAAEAAQAAAQEBAAABAAEAAAABAAEAAQAAAAAAAAABAQABAAAAAAAAAQEBAQAAAAAAAAEBAAAAAQAAAAAAAAAAAAAAAAAAAAAAAAEAAAAAAAAAAAEBAAAAAAABAQAAAAAAAAEAAAAAAAAAAQAAAAAAAQABAQEAAAAAAQAAAQAAAAABAAAAAQEAAAEAAQAAAQEAAAAAAAABAAAAAAAAAAAAAAEAAAABAQAAAAAAAQAAAAAAAAAAAAAAAQAAAAABAAEAAQAAAAEBAQABAAAAAAABAAAAAQAAAAAAAAAAAAABAAEAAQABAAABAAABAAEAAAABAAAAAAAAAAAAAAEBAQAAAAEAAAEBAAAAAAAAAAAAAQAAAAAAAAAAAAEAAAAAAAAAAAEAAAEBAAABAAEBAAAAAAAAAAABAQABAAEAAAAAAAAAAAAAAAAAAQAAAAAAAAABAQEAAAEAAQEAAAAAAAAAAAEAAAAAAAAAAAABAAAAAAAAAAABAAAAAAAAAAAAAQAAAAAAAAAAAAAAAAABAAAAAQABAAAAAAABAAEAAAAAAQAAAQAAAQABAQAAAAEAAAAAAAEAAAEBAQAAAAABAAEAAAAAAAEBAAAAAQAAAQABAAAAAQEAAAABAAABAAAAAAAAAAABAAAAAAAAAAAAAAAAAAEBAAABAAEBAAAAAAAAAQAAAQAAAAAAAAAAAAAAAAEBAAEAAAA=",
          "dtype": "i1"
         },
         "xaxis": "x3",
         "y": {
          "bdata": "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",
          "dtype": "f8"
         },
         "yaxis": "y3"
        },
        {
         "boxpoints": "outliers",
         "name": "Cuentas_Diarias",
         "type": "box",
         "x": {
          "bdata": "AAABAQEAAAAAAAAAAAAAAAAAAQEAAQAAAQEAAAAAAAAAAAAAAAAAAAEAAAAAAAAAAAAAAAABAQAAAAAAAAAAAQEAAAEAAAABAQAAAQABAAAAAAEAAQABAQAAAAABAQEAAAAAAAAAAAAAAAAAAAEBAAEAAAEBAAABAAAAAAAAAQEAAAABAAAAAAAAAAEAAAEBAAAAAAAAAAAAAAABAAEAAQEAAAEAAAABAAAAAAABAQAAAAAAAQAAAAAAAQAAAAEAAAABAAAAAQAAAQAAAAEBAQABAQAAAQEAAQEAAAABAAEAAAEAAQAAAAAAAQEAAAAAAAAAAAAAAQABAAABAQEAAAAAAAAAAQEAAAAAAAEAAAEAAAEBAQAAAAABAAEAAAAAAAEAAAABAAAAAAAAAAAAAAEAAAAAAAABAAAAAAAAAQEAAAAAAAAAAQAAAAABAAABAQABAAEAAAABAAABAAAAAQEAAQEAAQABAAAAAQAAAAAAAAAAAAAAAAAAAAEAAQAAAAEAAAABAAEAAAAAAAABAAABAAEAAAAAAQAAAQEAAQEBAQAAAAAAAAABAAABAAABAQABAQEBAAABAAABAAEAAAAAAAEAAAAAAAAAAAAAAAABAAEAAQEBAAEAAQEAAAEAAAABAAAAAAEAAQABAQAAAAEAAQAAAAABAAAAAQEAAAAAAQEAAAAAAQAAAQAAAAEAAAEAAQAAAAEAAAAAAAAAAAAAAQAAAAEAAAAAAQABAAEAAAAAAAAAAAEAAAAAAQABAAAAAAAAAAAAAAABAAEAAAEAAQAAAQEBAQABAQABAQABAAAAAQAAAAAAAAAAAAAAAAEAAQABAAEAAAAAAAAAAAABAQAAAAEAAQEBAAAAAAAAAAABAAEAAQAAAAAAAAEAAAAAAAEAAAABAAEBAAAAAAAAAAABAAEAAAABAQAAAAABAQAAAQAAAAAAAAAAAAAAAQAAAQABAAAAAQAAAAABAAEAAQAAAAAAAAABAAAAAQAAAAAAAAAAAAAAAAABAQEAAAEAAQAAAAAAAAAAAAAAAAAAAQEAAQAAAAEAAAAAAAAAAAAAAAAAAAAAAAABAAEAAAABAQAAAAEAAAEAAAABAAAAAAAAAQAAAAAAAAABAAEAAAAAAQAAAQAAAAAAAQABAAABAAEBAAAAAQAAAQAAAQAAAQABAAAAAAAAAAAAAAABAAAAAAEAAAAAAQABAQEAAAAAAQAAAAAAAAABAQAAAAAAAQAAAAAAAAAAAAAAAAEAAAAAAQEAAAEAAAABAAAAAAAAAQAAAAEAAAAAAAAAAAAAAQAAAAABAAAAAAABAAAAAAEBAQABAQEBAAAAAAABAAEAAAAAAQAAAAAAAAAAAAAAAQAAAAAAAAEAAQAAAQEAAAEAAQEAAQAAAAAAAAEAAAAAAAAAAQAAAAEAAAAAAAABAQEAAAEBAAAAAAEBAAEBAQEBAAEAAQABAQAAAAEAAQABAAAAAQEBAQEAAAAAAAAAAAAAAAEAAAEAAAEAAAAAAQABAAAAAAAAAAEAAAAAAAAAAQAAAAABAAAAAAAAAAEBAAEBAAAAAAABAAEAAAEAAAABAAAAAAAAAAEAAAAAAAAAAQABAAAAAAAAAAAAAQEAAAABAAAAAAAAAAAAAQAAAAAAAQAAAAAAAAABAAAAAQAAAAAAAAEAAAABAAAAAQABAAEAAQABAAEBAAAAAAEBAAABAAABAAEAAAAAAQAAAAAAAAAAAAEAAAAAAAAAAAAAAAAAAAABAQABAQAAAAABAQEBAAEAAAAAAQAAAAAAAAABAQEAAAEBAQAAAAAAAAEBAQAAAQEAAAEBAQEAAAAAAAAAAAAAAAAAAAABAAAAAQEAAAAAAQAAAAEAAAAAAAEAAAAAAAEBAAAAAAABAQAAAQAAAAAAAQEAAQEAAAAAAAAAAAAAAQAAAAEAAAAAAAEAAQEAAQAAAAABAAAAAAAAAAEAAAABAAABAQAAAAAAAAABAAABAAAAAQEBAAAAAAAAAAAAAAEAAAEBAAAAAAAAAQAAAAAAAAEAAQAAAQAAAAABAAAAAAAAAAAAAAEAAAEAAAAAAAABAAAAAAABAAAAAAAAAAAAAAAAAAEAAAAAAAEBAAABAAAAAQAAAAAAAAEAAQAAAAAAAQAAAAAAAAABAAEBAAAAAQAAAAABAAAAAQAAAAABAAABAAEAAAAAAQABAQAAAAEAAAABAQAAAAAAAAAAAQABAAAAAAEBAAAAAAAAAAEAAAEAAQAAAAAAAQEAAAAAAQAAAAABAAEBAAEAAAAAAAABAQAAAAABAQAAAQAAAAAAAAAAAQEAAQAAAAAAAAAAAAAAAAAAAQEBAAABAAAAAAAAAAAAAAAAAAEAAAAAAAAAAAEAAAEBAAEBAAAAAQAAAAEAAAABAQEBAAAAAAEBAAEAAAAAAQEBAAEBAAAAAAEAAAABAQAAAAAAAAAAAAAAAAAAAQABAQAAAQAAAAAAAQAAAAAAAAAAAAABAAEAAQEBAAABAAAAAAEBAAAAAAABAAAAAAEBAAEAAAAAAQABAQAAAAAAAAAAAAABAAAAAAAAAAAAAAAAAAAAAQAAAAABAAEAAAAAAAAAAAAAAAAAAQABAQEBAAEAAQEAAAAAAAEBAAEBAAAAAQABAAEBAQEAAAEAAAAAAAAAAQABAAABAAABAAABAAAAAAAAAAAAAQAAAQAAAAAAAAAAAAABAQEAAAAAAQAAAAEBAQABAQEAAQAAAAEAAAEAAQAAAAAAAAAAAQEBAQABAAAAAAAAAAABAAABAAAAAQAAAAEAAQABAAAAAAEAAAEAAAEAAQABAAAAAAEBAQAAAAAAAAEAAAAAAQEAAQAAAQAAAAEAAAAAAAAAAQAAAAEAAAEBAAABAQAAAAABAQAAAQEAAAAAAAAAAAAAAAABAAAAAAEBAQEAAAAAAQAAAAEAAAAAAAEAAQAAAAAAAAAAAQABAAAAAAEAAAEAAAEBAAAAAAEAAAAAAQEAAAEAAAABAAAAAQAAAAAAAQABAQAAAAEAAQABAAABAAAAAAABAAAAAAABAAAAAQAAAAAAAAABAAABAAAAAAAAAAAAAQABAAEAAAABAQAAAAEAAQEBAQAAAAAAAQABAAABAAAAAAAAAAAAAAEAAAEAAAEAAAABAAEAAAEAAAEAAQABAAAAAAAAAAAAAAABAAEAAAABAAABAQAAAQAAAQAAAQAAAAAAAAAAAAAAAAAAAAAAAAAAAAEAAAAAAAAAAQAAAQAAAAEAAQAAAAAAAAABAAABAAAAAQAAAQAAAAAAAAEAAAEBAAAAAAAAAQABAAAAAAEAAAAAAAAAAAABAAAAAAABAQAAAQAAAAAAAAAAAQAAAAAAAQAAAAAAAQAAAQEAAAAAAAAAAAAAAQAAAQAAAAEAAAAAAAEAAQAAAQABAQEAAQEAAAEBAAAAAAEBAAAAAAAAAAAAAAEAAQABAQAAAQAAAQAAAAAAAAAAAQAAAQAAAAAAAAABAAAAAAABAAAAAAEAAQABAAABAAEBAQABAAABAAEAAQAAAAABAAAAAAAAAAAAAQEAAAAAAAEAAQABAQEBAAAAAAAAAQAAAQEAAAABAAEAAAEAAAAAAAAAAQABAQAAAAAAAQEAAQAAAQEAAAEAAQAAAAABAAAAAAAAAQEAAAEAAAAAAAAAAAABAQABAAEAAAEAAAAAAQEAAQAAAQAAAAAAAAEAAAAAAAAAAAAAAQAAAAAAAAABAAABAQEAAAEAAAAAAAAAAAEAAAAAAAEBAAAAAAEAAAAAAQABAAAAAAAAAAAAAAAAAAAAAQAAAQABAAAAAAEBAAEAAAEBAAAAAQAAAAEAAQABAAEAAAAAAAEAAAAAAAEAAAAAAAAAAAAAAAABAQEBAQEAAQABAAAAAQAAAAAAAAEBAAABAAAAAQABAAEAAAAAAQAAAQABAQEAAAAAAAABAQAAAAABAAEAAAEBAQABAAEAAAAAAQABAAAAAAEBAAEBAQAAAAAAAAAAAAAAAAAAAQAAAAAAAQABAAABAAABAAABAAAAAAAAAAEAAAEAAQAAAQAAAAEAAQAAAAABAAEAAAAAAAAAAQAAAQABAAAAAAAAAQAAAQEBAAAAAAABAQAAAQAAAQEBAAEAAAABAAAAAAAAAAAAAAABAAAAAQAAAAAAAAAAAQEAAAABAQAAAQAAAQABAAEBAQABAAAAAAABAAAAAAABAAAAAAAAAAEAAAABAQEAAQEAAQABAAAAAAEAAQAAAAABAAEAAQABAAABAQEBAAEBAQEAAQEAAAAAAQEAAAAAAAABAAABAAABAQEBAAAAAAAAAAEAAQAAAAAAAAABAAAAAAAAAQEAAAEAAQAAAQAAAAAAAAEAAAAAAAAAAQAAAAABAQAAAAEAAQABAAEBAAAAAAEAAAABAAAAAAAAAAEAAAAAAQAAAQAAAAAAAAEAAAEAAQAAAAEAAQEBAAAAAAAAAAAAAAABAQEBAQAAAQABAQAAAQAAAAEBAAAAAAAAAAEBAAABAQEBAAAAAAEBAQAAAAAAAQAAAAABAAABAAAAAAAAAAEBAQAAAAABAAABAAAAAAABAAABAQAAAAAAAAEAAAAAAAEAAQABAAEAAQEAAAABAQEAAQAAAQEBAAABAAABAAAAAAAAAAAAAAABAAAAAAEBAAAAAAEBAQAAAQAAAAAAAAAAAAABAAAAAAAAAAAAAAAAAAEAAAEAAAAAAAABAAAAAQEAAQEAAAAAAAAAAAAAAQEAAQEAAAABAAAAAAAAAAAAAAABAAAAAQAAAQABAAAAAAEAAQEBAAAAAAAAAAAAAAAAAAAAAAEAAAAAAQAAAAEAAQAAAQEAAAAAAAAAAAAAAAAAAAEAAAABAAAAAQEAAAAAAAAAAAABAQAAAAAAAQEAAAAAAAEAAQAAAQAAAAAAAAAAAAABAAABAAAAAAEAAAAAAAEAAAAAAAABAAEAAAABAQAAAQAAAQAAAAAAAAABAAAAAAEAAAEBAQABAAABAAEBAAABAAAAAAEBAQAAAAEAAAAAAAAAAAAAAQAAAAAAAAAAAAAAAAAAAAAAAAAAAAAAAQAAAAABAQAAAQEAAQAAAAABAAEAAAEBAQAAAAEAAQAAAQAAAQABAAAAAAAAAAAAAQABAQAAAAAAAAEAAAAAAQEAAAEBAAAAAAEAAAAAAAABAAAAAQAAAAAAAQEAAAEBAAABAQEAAAABAAABAAABAAABAQABAAEBAAAAAAAAAAEBAAABAAAAAAAAAAEBAAABAAABAQAAAQAAAQEBAQAAAAEAAAEBAQAAAQAAAAAAAAAAAQAAAQAAAAEAAAAAAAAAAAAAAAEAAAEAAQEBAAAAAAAAAQAAAAAAAAEAAAEBAAAAAAABAAEBAQAAAAAAAQABAAAAAAAAAAEAAQAAAQAAAAAAAAEAAAAAAAAAAQEAAAAAAQAAAAAAAQEAAAAAAAAAAAAAAAAAAAAAAQAAAAAAAQAAAQAAAAAAAAAAAQAAAAABAQEAAAABAAAAAAAAAAAAAAAAAAAAAAAAAQABAAABAQAAAAABAAEAAAEBAAAAAQAAAQAAAAEAAQEAAQAAAAAAAAAAAQAAAQEAAAAAAQAAAAAAAAEBAAAAAAEAAQAAAAABAQABAAEAAAAAAAAAAAABAAABAQAAAAAAAAAAAAAAAAABAAAAAAAAAAEAAQABAAAAAAEAAAEAAQABAAABAAEBAAEAAAABAAABAAAAAAAAAQAAAAAAAAAAAAAAAAAAAAEBAAAAAAABAAEBAAAAAQEAAAAAAAAAAQAAAAEAAAEAAAAAAAAAAAAAAQEBAAAAAAABAAABAAABAAEAAAAAAQABAAAAAAEBAAAAAAAAAAAAAAAAAAAAAAEBAQAAAAEAAAAAAQAAAQAAAQAAAAABAQAAAAAAAAAAAAAAAAAAAAAAAAABAAAAAAEBAAAAAQAAAAAAAAEAAAAAAQABAAEBAAEBAQEAAAABAQEBAQEAAAEAAAAAAAAAAAAAAQEAAAAAAAEAAQABAAAAAQABAAAAAAABAAABAAABAAAAAQABAQABAQEAAAEAAAAAAQEAAQAAAAAAAQABAAABAAAAAAEBAAAAAAAAAQEAAAAAAAAAAQAAAAEAAAAAAAAAAAAAAQAAAAAAAAEAAAEAAQAAAAAAAAAAAQAAAQAAAAEAAAABAAAAAAEAAQAAAAAAAAAAAAEAAAAAAQAAAAAAAAAAAQAAAAEAAAAAAAABAQABAQABAAAAAQAAAAAAAQEAAAEAAAAAAAAAAAAAAQAAAAEAAAEAAQAAAQEAAAAAAQAAAQAAAAAAAQABAAAAAAEBAAEAAQAAAQEBAQAAAQAAAAAAAAAAAAEAAAAAAQEBAAEAAAAAAAAAAAAAAAAAAAAAAAAAAAAAAAAAAAAAAAAAAAAAAAAAAAEBAAEBAQAAAQEAAAAAAAAAAAEAAQAAAAAAAAAAAQEAAAEAAAABAAAAAAEAAAEAAAABAQAAAAAAAQAAAAEBAAAAAAAAAAAAAQEBAAAAAAAAAQEAAQAAAAAAAQEAAAABAQAAAAEAAQAAAAAAAAAAAAEAAAABAAAAAAABAAEAAAAAAQABAQABAAAAAAAAAAAAAAAAAQAAAAEBAAEAAQABAAEAAAAAAAEAAAEBAAAAAAAAAAAAAQAAAAAAAAABAAAAAQABAAAAAAAAAAAAAAAAAAAAAQAAAQEAAAABAQAAAQAAAAABAAABAAEAAAAAAAAAAAAAAAAAAAAAAAEAAAABAAEAAAAAAAABAAABAAAAAQABAAAAAQAAAAAAAQEAAAAAAAAAAAAAAAAAAAABAQAAAAAAAAAAAQAAAQABAAEBAAABAAAAAQAAAAABAAEBAQEAAAEAAAAAAAAAAQEBAAAAAQEAAAAAAAABAAABAAEAAAABAAAAAAAAAQEAAAAAAAAAAAAAAAEAAQAAAAABAAAAAAAAAAEAAAAAAAEAAAAAAAAAAAABAQAAAAAAAAEAAQABAAABAAEAAAAAAAAAAAAAAAAAAAEBAAEAAAAAAAAAAAEAAAAAAAAAAAEAAAEAAAAAAAEAAAAAAQEAAQABAQAAAQEAAAAAAAEBAAAAAQABAAAAAQAAAAAAAQAAAAEAAQAAAQEAAAEBAQABAQAAAAAAAAEAAQAAAAEAAAEAAAABAAABAQAAAAEAAQEAAQABAAAAAQEAAAAAAAABAAAAAAAAAAAAAQEBAAEAAAAAAAEBAQAAAQAAAAAAAAABAAABAQAAAAAAAAABAAEAAAEAAAABAAEAAAAAAAAAAQAAAQAAAAAAAQABAAAAAAEAAAAAAAAAAQAAAAABAAAAAAAAAQABAQAAAAEAAAAAAQAAAAEBAAEAAAABAAABAAEAAQABAAABAAEAAAAAAAAAAAAAAAEAAAABAAAAAAABAAAAAAABAQABAAAAAQABAQAAAQEAAQAAAQEBAAAAAAABAAAAAAAAAAAAAAAAAAABAQABAQABAAAAAAABAAABAAEAAAAAAAAAAAEAAAABAQEAAAEAAAABAAAAAAEBAAAAAAAAAAEAAAAAAAAAAAEAAAABAAABAAAAAAAAAAABAAAAAAEAAQAAAAABAAEBAAAAAAAAAAABAAAAAAABAAAAAAAAAAAAAQEAAQEAAAEBAQAAAAEBAAAAAAABAAABAQAAAQAAAQAAAAAAAAAAAQAAAAAAAAAAAAAAAQEBAAAAAAABAAAAAAAAAAAAAAABAAAAAQAAAAAAAAABAAEAAAAAAQAAAQEBAAEAAAAAAAAAAAEAAAAAAAAAAQAAAAAAAAAAAAAAAAAAAAAAAAABAAAAAQAAAAAAAAAAAAEAAAABAQAAAQAAAQAAAAAAAQAAAAEAAQAAAQAAAQAAAAEAAAAAAAAAAAAAAAAAAQAAAAEAAAAAAQEAAAAAAQAAAAEAAQEBAAEBAAAAAQEAAAEAAAAAAQAAAQABAAAAAAAAAAAAAAAAAQABAAEAAAEAAAEAAAEAAAEBAQABAAAAAAAAAAAAAAAAAAABAAABAQAAAAAAAQAAAQAAAAAAAQEBAAAAAAAAAAAAAAABAAAAAQAAAQAAAAAAAAAAAQEAAAAAAAAAAAEAAAABAQAAAAABAAABAAAAAQABAAEBAAABAAAAAAEAAAEBAQABAQEAAAAAAAABAQAAAAAAAAABAAAAAAAAAQABAAAAAQAAAAAAAQEAAAAAAAABAAAAAAABAAABAAEAAAAAAAAAAAAAAAAAAAEAAQEAAAAAAAAAAQAAAAAAAQAAAAAAAQAAAAEAAQABAAAAAQAAAQAAAAABAAEAAAAAAAABAAEAAAEBAAAAAQABAAAAAAEAAAEBAQABAQAAAAEAAAABAAAAAAEAAAEAAQAAAAAAAQAAAAAAAAEAAAAAAAAAAAEAAAAAAAAAAAAAAAEAAAABAAEAAAABAAEBAAEAAQEAAAEAAAAAAAAAAAAAAAAAAQAAAQAAAAAAAAABAAAAAQAAAAEAAQAAAAAAAAABAQEAAQAAAAAAAAEAAQAAAAABAAEAAAABAAABAQEAAAABAQAAAAAAAAAAAAAAAAEAAAAAAAEAAAAAAQAAAQABAAABAAAAAAAAAAAAAQAAAQAAAAAAAQAAAAEAAAAAAQAAAAAAAAAAAAABAAAAAAABAQEBAAEAAAABAQEBAAAAAQAAAAEAAAABAQAAAQAAAAEAAAEAAQAAAQEBAAABAAEAAAABAAEAAQAAAAAAAAABAQABAAAAAAAAAQEBAQAAAAAAAAEBAAAAAQAAAAAAAAAAAAAAAAAAAAAAAAEAAAAAAAAAAAEBAAAAAAABAQAAAAAAAAEAAAAAAAAAAQAAAAAAAQABAQEAAAAAAQAAAQAAAAABAAAAAQEAAAEAAQAAAQEAAAAAAAABAAAAAAAAAAAAAAEAAAABAQAAAAAAAQAAAAAAAAAAAAAAAQAAAAABAAEAAQAAAAEBAQABAAAAAAABAAAAAQAAAAAAAAAAAAABAAEAAQABAAABAAABAAEAAAABAAAAAAAAAAAAAAEBAQAAAAEAAAEBAAAAAAAAAAAAAQAAAAAAAAAAAAEAAAAAAAAAAAEAAAEBAAABAAEBAAAAAAAAAAABAQABAAEAAAAAAAAAAAAAAAAAAQAAAAAAAAABAQEAAAEAAQEAAAAAAAAAAAEAAAAAAAAAAAABAAAAAAAAAAABAAAAAAAAAAAAAQAAAAAAAAAAAAAAAAABAAAAAQABAAAAAAABAAEAAAAAAQAAAQAAAQABAQAAAAEAAAAAAAEAAAEBAQAAAAABAAEAAAAAAAEBAAAAAQAAAQABAAAAAQEAAAABAAABAAAAAAAAAAABAAAAAAAAAAAAAAAAAAEBAAABAAEBAAAAAAAAAQAAAQAAAAAAAAAAAAAAAAEBAAEAAAA=",
          "dtype": "i1"
         },
         "xaxis": "x4",
         "y": {
          "bdata": "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",
          "dtype": "f8"
         },
         "yaxis": "y4"
        }
       ],
       "layout": {
        "annotations": [
         {
          "font": {
           "size": 16
          },
          "showarrow": false,
          "text": "Antigüedad (meses)",
          "x": 0.10625,
          "xanchor": "center",
          "xref": "paper",
          "y": 1,
          "yanchor": "bottom",
          "yref": "paper"
         },
         {
          "font": {
           "size": 16
          },
          "showarrow": false,
          "text": "Cargos Mensuales",
          "x": 0.36875,
          "xanchor": "center",
          "xref": "paper",
          "y": 1,
          "yanchor": "bottom",
          "yref": "paper"
         },
         {
          "font": {
           "size": 16
          },
          "showarrow": false,
          "text": "Cargos Totales",
          "x": 0.6312500000000001,
          "xanchor": "center",
          "xref": "paper",
          "y": 1,
          "yanchor": "bottom",
          "yref": "paper"
         },
         {
          "font": {
           "size": 16
          },
          "showarrow": false,
          "text": "Cargos Diarios",
          "x": 0.89375,
          "xanchor": "center",
          "xref": "paper",
          "y": 1,
          "yanchor": "bottom",
          "yref": "paper"
         }
        ],
        "height": 500,
        "showlegend": false,
        "template": {
         "data": {
          "bar": [
           {
            "error_x": {
             "color": "#2a3f5f"
            },
            "error_y": {
             "color": "#2a3f5f"
            },
            "marker": {
             "line": {
              "color": "#E5ECF6",
              "width": 0.5
             },
             "pattern": {
              "fillmode": "overlay",
              "size": 10,
              "solidity": 0.2
             }
            },
            "type": "bar"
           }
          ],
          "barpolar": [
           {
            "marker": {
             "line": {
              "color": "#E5ECF6",
              "width": 0.5
             },
             "pattern": {
              "fillmode": "overlay",
              "size": 10,
              "solidity": 0.2
             }
            },
            "type": "barpolar"
           }
          ],
          "carpet": [
           {
            "aaxis": {
             "endlinecolor": "#2a3f5f",
             "gridcolor": "white",
             "linecolor": "white",
             "minorgridcolor": "white",
             "startlinecolor": "#2a3f5f"
            },
            "baxis": {
             "endlinecolor": "#2a3f5f",
             "gridcolor": "white",
             "linecolor": "white",
             "minorgridcolor": "white",
             "startlinecolor": "#2a3f5f"
            },
            "type": "carpet"
           }
          ],
          "choropleth": [
           {
            "colorbar": {
             "outlinewidth": 0,
             "ticks": ""
            },
            "type": "choropleth"
           }
          ],
          "contour": [
           {
            "colorbar": {
             "outlinewidth": 0,
             "ticks": ""
            },
            "colorscale": [
             [
              0,
              "#0d0887"
             ],
             [
              0.1111111111111111,
              "#46039f"
             ],
             [
              0.2222222222222222,
              "#7201a8"
             ],
             [
              0.3333333333333333,
              "#9c179e"
             ],
             [
              0.4444444444444444,
              "#bd3786"
             ],
             [
              0.5555555555555556,
              "#d8576b"
             ],
             [
              0.6666666666666666,
              "#ed7953"
             ],
             [
              0.7777777777777778,
              "#fb9f3a"
             ],
             [
              0.8888888888888888,
              "#fdca26"
             ],
             [
              1,
              "#f0f921"
             ]
            ],
            "type": "contour"
           }
          ],
          "contourcarpet": [
           {
            "colorbar": {
             "outlinewidth": 0,
             "ticks": ""
            },
            "type": "contourcarpet"
           }
          ],
          "heatmap": [
           {
            "colorbar": {
             "outlinewidth": 0,
             "ticks": ""
            },
            "colorscale": [
             [
              0,
              "#0d0887"
             ],
             [
              0.1111111111111111,
              "#46039f"
             ],
             [
              0.2222222222222222,
              "#7201a8"
             ],
             [
              0.3333333333333333,
              "#9c179e"
             ],
             [
              0.4444444444444444,
              "#bd3786"
             ],
             [
              0.5555555555555556,
              "#d8576b"
             ],
             [
              0.6666666666666666,
              "#ed7953"
             ],
             [
              0.7777777777777778,
              "#fb9f3a"
             ],
             [
              0.8888888888888888,
              "#fdca26"
             ],
             [
              1,
              "#f0f921"
             ]
            ],
            "type": "heatmap"
           }
          ],
          "histogram": [
           {
            "marker": {
             "pattern": {
              "fillmode": "overlay",
              "size": 10,
              "solidity": 0.2
             }
            },
            "type": "histogram"
           }
          ],
          "histogram2d": [
           {
            "colorbar": {
             "outlinewidth": 0,
             "ticks": ""
            },
            "colorscale": [
             [
              0,
              "#0d0887"
             ],
             [
              0.1111111111111111,
              "#46039f"
             ],
             [
              0.2222222222222222,
              "#7201a8"
             ],
             [
              0.3333333333333333,
              "#9c179e"
             ],
             [
              0.4444444444444444,
              "#bd3786"
             ],
             [
              0.5555555555555556,
              "#d8576b"
             ],
             [
              0.6666666666666666,
              "#ed7953"
             ],
             [
              0.7777777777777778,
              "#fb9f3a"
             ],
             [
              0.8888888888888888,
              "#fdca26"
             ],
             [
              1,
              "#f0f921"
             ]
            ],
            "type": "histogram2d"
           }
          ],
          "histogram2dcontour": [
           {
            "colorbar": {
             "outlinewidth": 0,
             "ticks": ""
            },
            "colorscale": [
             [
              0,
              "#0d0887"
             ],
             [
              0.1111111111111111,
              "#46039f"
             ],
             [
              0.2222222222222222,
              "#7201a8"
             ],
             [
              0.3333333333333333,
              "#9c179e"
             ],
             [
              0.4444444444444444,
              "#bd3786"
             ],
             [
              0.5555555555555556,
              "#d8576b"
             ],
             [
              0.6666666666666666,
              "#ed7953"
             ],
             [
              0.7777777777777778,
              "#fb9f3a"
             ],
             [
              0.8888888888888888,
              "#fdca26"
             ],
             [
              1,
              "#f0f921"
             ]
            ],
            "type": "histogram2dcontour"
           }
          ],
          "mesh3d": [
           {
            "colorbar": {
             "outlinewidth": 0,
             "ticks": ""
            },
            "type": "mesh3d"
           }
          ],
          "parcoords": [
           {
            "line": {
             "colorbar": {
              "outlinewidth": 0,
              "ticks": ""
             }
            },
            "type": "parcoords"
           }
          ],
          "pie": [
           {
            "automargin": true,
            "type": "pie"
           }
          ],
          "scatter": [
           {
            "fillpattern": {
             "fillmode": "overlay",
             "size": 10,
             "solidity": 0.2
            },
            "type": "scatter"
           }
          ],
          "scatter3d": [
           {
            "line": {
             "colorbar": {
              "outlinewidth": 0,
              "ticks": ""
             }
            },
            "marker": {
             "colorbar": {
              "outlinewidth": 0,
              "ticks": ""
             }
            },
            "type": "scatter3d"
           }
          ],
          "scattercarpet": [
           {
            "marker": {
             "colorbar": {
              "outlinewidth": 0,
              "ticks": ""
             }
            },
            "type": "scattercarpet"
           }
          ],
          "scattergeo": [
           {
            "marker": {
             "colorbar": {
              "outlinewidth": 0,
              "ticks": ""
             }
            },
            "type": "scattergeo"
           }
          ],
          "scattergl": [
           {
            "marker": {
             "colorbar": {
              "outlinewidth": 0,
              "ticks": ""
             }
            },
            "type": "scattergl"
           }
          ],
          "scattermap": [
           {
            "marker": {
             "colorbar": {
              "outlinewidth": 0,
              "ticks": ""
             }
            },
            "type": "scattermap"
           }
          ],
          "scattermapbox": [
           {
            "marker": {
             "colorbar": {
              "outlinewidth": 0,
              "ticks": ""
             }
            },
            "type": "scattermapbox"
           }
          ],
          "scatterpolar": [
           {
            "marker": {
             "colorbar": {
              "outlinewidth": 0,
              "ticks": ""
             }
            },
            "type": "scatterpolar"
           }
          ],
          "scatterpolargl": [
           {
            "marker": {
             "colorbar": {
              "outlinewidth": 0,
              "ticks": ""
             }
            },
            "type": "scatterpolargl"
           }
          ],
          "scatterternary": [
           {
            "marker": {
             "colorbar": {
              "outlinewidth": 0,
              "ticks": ""
             }
            },
            "type": "scatterternary"
           }
          ],
          "surface": [
           {
            "colorbar": {
             "outlinewidth": 0,
             "ticks": ""
            },
            "colorscale": [
             [
              0,
              "#0d0887"
             ],
             [
              0.1111111111111111,
              "#46039f"
             ],
             [
              0.2222222222222222,
              "#7201a8"
             ],
             [
              0.3333333333333333,
              "#9c179e"
             ],
             [
              0.4444444444444444,
              "#bd3786"
             ],
             [
              0.5555555555555556,
              "#d8576b"
             ],
             [
              0.6666666666666666,
              "#ed7953"
             ],
             [
              0.7777777777777778,
              "#fb9f3a"
             ],
             [
              0.8888888888888888,
              "#fdca26"
             ],
             [
              1,
              "#f0f921"
             ]
            ],
            "type": "surface"
           }
          ],
          "table": [
           {
            "cells": {
             "fill": {
              "color": "#EBF0F8"
             },
             "line": {
              "color": "white"
             }
            },
            "header": {
             "fill": {
              "color": "#C8D4E3"
             },
             "line": {
              "color": "white"
             }
            },
            "type": "table"
           }
          ]
         },
         "layout": {
          "annotationdefaults": {
           "arrowcolor": "#2a3f5f",
           "arrowhead": 0,
           "arrowwidth": 1
          },
          "autotypenumbers": "strict",
          "coloraxis": {
           "colorbar": {
            "outlinewidth": 0,
            "ticks": ""
           }
          },
          "colorscale": {
           "diverging": [
            [
             0,
             "#8e0152"
            ],
            [
             0.1,
             "#c51b7d"
            ],
            [
             0.2,
             "#de77ae"
            ],
            [
             0.3,
             "#f1b6da"
            ],
            [
             0.4,
             "#fde0ef"
            ],
            [
             0.5,
             "#f7f7f7"
            ],
            [
             0.6,
             "#e6f5d0"
            ],
            [
             0.7,
             "#b8e186"
            ],
            [
             0.8,
             "#7fbc41"
            ],
            [
             0.9,
             "#4d9221"
            ],
            [
             1,
             "#276419"
            ]
           ],
           "sequential": [
            [
             0,
             "#0d0887"
            ],
            [
             0.1111111111111111,
             "#46039f"
            ],
            [
             0.2222222222222222,
             "#7201a8"
            ],
            [
             0.3333333333333333,
             "#9c179e"
            ],
            [
             0.4444444444444444,
             "#bd3786"
            ],
            [
             0.5555555555555556,
             "#d8576b"
            ],
            [
             0.6666666666666666,
             "#ed7953"
            ],
            [
             0.7777777777777778,
             "#fb9f3a"
            ],
            [
             0.8888888888888888,
             "#fdca26"
            ],
            [
             1,
             "#f0f921"
            ]
           ],
           "sequentialminus": [
            [
             0,
             "#0d0887"
            ],
            [
             0.1111111111111111,
             "#46039f"
            ],
            [
             0.2222222222222222,
             "#7201a8"
            ],
            [
             0.3333333333333333,
             "#9c179e"
            ],
            [
             0.4444444444444444,
             "#bd3786"
            ],
            [
             0.5555555555555556,
             "#d8576b"
            ],
            [
             0.6666666666666666,
             "#ed7953"
            ],
            [
             0.7777777777777778,
             "#fb9f3a"
            ],
            [
             0.8888888888888888,
             "#fdca26"
            ],
            [
             1,
             "#f0f921"
            ]
           ]
          },
          "colorway": [
           "#636efa",
           "#EF553B",
           "#00cc96",
           "#ab63fa",
           "#FFA15A",
           "#19d3f3",
           "#FF6692",
           "#B6E880",
           "#FF97FF",
           "#FECB52"
          ],
          "font": {
           "color": "#2a3f5f"
          },
          "geo": {
           "bgcolor": "white",
           "lakecolor": "white",
           "landcolor": "#E5ECF6",
           "showlakes": true,
           "showland": true,
           "subunitcolor": "white"
          },
          "hoverlabel": {
           "align": "left"
          },
          "hovermode": "closest",
          "mapbox": {
           "style": "light"
          },
          "paper_bgcolor": "white",
          "plot_bgcolor": "#E5ECF6",
          "polar": {
           "angularaxis": {
            "gridcolor": "white",
            "linecolor": "white",
            "ticks": ""
           },
           "bgcolor": "#E5ECF6",
           "radialaxis": {
            "gridcolor": "white",
            "linecolor": "white",
            "ticks": ""
           }
          },
          "scene": {
           "xaxis": {
            "backgroundcolor": "#E5ECF6",
            "gridcolor": "white",
            "gridwidth": 2,
            "linecolor": "white",
            "showbackground": true,
            "ticks": "",
            "zerolinecolor": "white"
           },
           "yaxis": {
            "backgroundcolor": "#E5ECF6",
            "gridcolor": "white",
            "gridwidth": 2,
            "linecolor": "white",
            "showbackground": true,
            "ticks": "",
            "zerolinecolor": "white"
           },
           "zaxis": {
            "backgroundcolor": "#E5ECF6",
            "gridcolor": "white",
            "gridwidth": 2,
            "linecolor": "white",
            "showbackground": true,
            "ticks": "",
            "zerolinecolor": "white"
           }
          },
          "shapedefaults": {
           "line": {
            "color": "#2a3f5f"
           }
          },
          "ternary": {
           "aaxis": {
            "gridcolor": "white",
            "linecolor": "white",
            "ticks": ""
           },
           "baxis": {
            "gridcolor": "white",
            "linecolor": "white",
            "ticks": ""
           },
           "bgcolor": "#E5ECF6",
           "caxis": {
            "gridcolor": "white",
            "linecolor": "white",
            "ticks": ""
           }
          },
          "title": {
           "x": 0.05
          },
          "xaxis": {
           "automargin": true,
           "gridcolor": "white",
           "linecolor": "white",
           "ticks": "",
           "title": {
            "standoff": 15
           },
           "zerolinecolor": "white",
           "zerolinewidth": 2
          },
          "yaxis": {
           "automargin": true,
           "gridcolor": "white",
           "linecolor": "white",
           "ticks": "",
           "title": {
            "standoff": 15
           },
           "zerolinecolor": "white",
           "zerolinewidth": 2
          }
         }
        },
        "title": {
         "text": "Distribución de Variables Numéricas por Estado de Evasión (Churn)"
        },
        "xaxis": {
         "anchor": "y",
         "domain": [
          0,
          0.2125
         ],
         "title": {
          "text": "Churn (0 = No, 1 = Sí)"
         }
        },
        "xaxis2": {
         "anchor": "y2",
         "domain": [
          0.2625,
          0.475
         ],
         "title": {
          "text": "Churn (0 = No, 1 = Sí)"
         }
        },
        "xaxis3": {
         "anchor": "y3",
         "domain": [
          0.525,
          0.7375
         ],
         "title": {
          "text": "Churn (0 = No, 1 = Sí)"
         }
        },
        "xaxis4": {
         "anchor": "y4",
         "domain": [
          0.7875,
          1
         ],
         "title": {
          "text": "Churn (0 = No, 1 = Sí)"
         }
        },
        "yaxis": {
         "anchor": "x",
         "domain": [
          0,
          1
         ]
        },
        "yaxis2": {
         "anchor": "x2",
         "domain": [
          0,
          1
         ]
        },
        "yaxis3": {
         "anchor": "x3",
         "domain": [
          0,
          1
         ]
        },
        "yaxis4": {
         "anchor": "x4",
         "domain": [
          0,
          1
         ]
        }
       }
      }
     },
     "metadata": {},
     "output_type": "display_data"
    }
   ],
   "source": [
    "# Lista de variables numéricas a analizar\n",
    "numeric_cols = ['tenure', 'Charges.Monthly', 'Charges.Total', 'Cuentas_Diarias']\n",
    "\n",
    "# Creamos una figura con subplots\n",
    "fig = make_subplots(\n",
    "    rows=1, cols=4,\n",
    "    subplot_titles=('Antigüedad (meses)', 'Cargos Mensuales', 'Cargos Totales', 'Cargos Diarios')\n",
    ")\n",
    "\n",
    "# Iteramos para crear cada box plot\n",
    "for i, col in enumerate(numeric_cols):\n",
    "    fig.add_trace(\n",
    "        go.Box(\n",
    "            y=df_final[col],\n",
    "            x=df_final['Churn'],\n",
    "            name=col,\n",
    "            boxpoints='outliers' # Muestra los valores atípicos\n",
    "        ),\n",
    "        row=1, col=i+1\n",
    "    )\n",
    "\n",
    "fig.update_layout(\n",
    "    title_text='Distribución de Variables Numéricas por Estado de Evasión (Churn)',\n",
    "    height=500,\n",
    "    showlegend=False\n",
    ")\n",
    "fig.update_xaxes(title_text='Churn (0 = No, 1 = Sí)')\n",
    "fig.show()"
   ]
  },
  {
   "cell_type": "markdown",
   "id": "34755009",
   "metadata": {},
   "source": [
    "#### 💡 Análisis de las Variables Numéricas\n",
    "\n",
    "Los diagramas de caja nos muestran diferencias muy claras y significativas:\n",
    "\n",
    "* **Antigüedad (tenure)**: La **mediana** de la antigüedad de los clientes que **se quedan** es de unos `38 meses`, mientras que para los que **se van** es de solo unos `10 meses`. por lo que podria decir que los clientes nuevos son mucho más vulnerables a la evasión.\n",
    "\n",
    "* **Cargos Mensuales (Charges.Monthly)**: Los clientes que **se van** tienden a tener **cargos mensuales** más altos `mediana de ~$80` en comparación con los que **se quedan** `mediana de ~$65`, entonces esto sumado a nuestro hallazgo sobre **la Fibra Óptica**, refuerza la idea de que los planes más caros están asociados a una mayor tasa de cancelación.\n",
    "\n",
    "* **Cargos Totales (Charges.Total)**: Los clientes que se quedan tienen cargos totales acumulados mucho más altos, aunque esto es una consecuencia lógica de su mayor antigüedad. Lo **interesante** es que la dispersión es muy grande, indicando **una amplia variedad de perfiles de clientes leales**.\n",
    "\n",
    "* **Cargos Diarios (Cuentas_Diarias)**: Como era de esperar, sigue el mismo patrón que los cargos mensuales. Los clientes que cancelan tienden a tener un costo diario percibido más alto.\n",
    "\n",
    "***Conclusión Final del EDA***: Hemos identificado un perfil de cliente de alto riesgo muy consistente a través de todas nuestras variables, **clientes con poca antigüedad pero con cargos mensuales elevados, especialmente si tienen contratos mes a mes, pagan con cheque electrónico y no contratan servicios clave de soporte o seguridad**."
   ]
  },
  {
   "cell_type": "markdown",
   "id": "a9451b07",
   "metadata": {},
   "source": [
    "### 🎯 3.8. Síntesis y Creación de Perfiles de Cliente de Alto Riesgo\n",
    "\n",
    "**Objetivo**: Sintetizar los hallazgos de todo el análisis exploratorio para construir un perfil detallado del segmento de clientes con la mayor probabilidad de evasión.\n",
    "\n",
    "**Método**: Se identificarán las características que, de forma individual, mostraron la mayor correlación con una alta tasa de evasión, estas son:\n",
    "\n",
    "* Tener un contrato Mes a mes.\n",
    "\n",
    "* Tener un servicio de internet de Fibra Óptica.\n",
    "\n",
    "* No tener contratado el servicio de Soporte Técnico.\n",
    "\n",
    "Utilizare el filtrado de Pandas para aislar a este grupo específico de clientes que cumplen con todas estas condiciones simultáneamente, y  analizare este nuevo segmento (df_high_risk), calculare su tamaño, su tasa de evasión real, y tal vez otras características comunes.\n",
    "\n",
    "**Justificación**: Este análisis de segmentación es la culminación de nuestro EDA, consider que en lugar de dar recomendaciones generales, me permitira identificar un arquetipo de cliente muy específico al que el negocio puede dirigir campañas de retención ultra-focalizadas."
   ]
  },
  {
   "cell_type": "code",
   "execution_count": 22,
   "id": "d8ad3e75",
   "metadata": {},
   "outputs": [
    {
     "name": "stdout",
     "output_type": "stream",
     "text": [
      "--- Análisis del Segmento de Clientes de Alto Riesgo ---\n",
      "Definición: Contrato 'Mes a Mes' + Internet de 'Fibra Óptica'\n",
      "Número de clientes en este segmento: 2128\n",
      "Tasa de evasión para este grupo: 54.61%\n",
      "\n",
      "============================================================\n",
      "\n",
      "--- Análisis del Segmento de Clientes de Ultra Alto Riesgo ---\n",
      "Definición: Perfil anterior + Sin 'Soporte Técnico'\n",
      "Número de clientes en este segmento: 1796\n",
      "Tasa de evasión para este grupo: 57.52%\n",
      "\n",
      "Método de pago más común en este segmento:\n",
      "PaymentMethod\n",
      "Electronic check             61.42\n",
      "Bank transfer (automatic)    15.37\n",
      "Credit card (automatic)      13.77\n",
      "Mailed check                  9.45\n",
      "Name: proportion, dtype: float64\n"
     ]
    }
   ],
   "source": [
    "# --- Primer perfil ---\n",
    "high_risk_segment = df_final[\n",
    "    (df_final['Contract'] == 'Month-to-month') &\n",
    "    (df_final['InternetService'] == 'Fiber optic')\n",
    "]\n",
    "\n",
    "# Análisis del segmento\n",
    "high_risk_count = len(high_risk_segment)\n",
    "high_risk_churn_rate = high_risk_segment['Churn'].mean() * 100\n",
    "\n",
    "print(f\"--- Análisis del Segmento de Clientes de Alto Riesgo ---\")\n",
    "print(f\"Definición: Contrato 'Mes a Mes' + Internet de 'Fibra Óptica'\")\n",
    "print(f\"Número de clientes en este segmento: {high_risk_count}\")\n",
    "print(f\"Tasa de evasión para este grupo: {high_risk_churn_rate:.2f}%\")\n",
    "print(\"\\n\" + \"=\"*60 + \"\\n\")\n",
    "\n",
    "\n",
    "# --- Segundo perfil (CORREGIDO) ---\n",
    "# Filtramos sobre el segmento que ya teníamos, buscando el valor de texto 'No'\n",
    "ultra_high_risk_segment = high_risk_segment[\n",
    "    high_risk_segment['TechSupport'] == 'No'  # ¡CORRECCIÓN CLAVE! Se busca el string 'No'\n",
    "]\n",
    "\n",
    "# Análisis del segmento\n",
    "ultra_high_risk_count = len(ultra_high_risk_segment)\n",
    "ultra_high_risk_churn_rate = ultra_high_risk_segment['Churn'].mean() * 100\n",
    "\n",
    "print(f\"--- Análisis del Segmento de Clientes de Ultra Alto Riesgo ---\")\n",
    "print(f\"Definición: Perfil anterior + Sin 'Soporte Técnico'\")\n",
    "print(f\"Número de clientes en este segmento: {ultra_high_risk_count}\")\n",
    "print(f\"Tasa de evasión para este grupo: {ultra_high_risk_churn_rate:.2f}%\")\n",
    "\n",
    "# Analicemos su método de pago preferido\n",
    "payment_method_risk = high_risk_segment['PaymentMethod'].value_counts(normalize=True) * 100\n",
    "print(\"\\nMétodo de pago más común en este segmento:\")\n",
    "print(round(payment_method_risk, 2))"
   ]
  },
  {
   "cell_type": "markdown",
   "id": "dfaf4713",
   "metadata": {},
   "source": [
    "#### 💡 Conclusión Final y Perfil Definitivo\n",
    "\n",
    "El análisis de segmentación ha revelado un perfil de cliente con una tasa de evasión alarmante, y que incluso se podria aislar mas esos perfieles son:\n",
    "\n",
    "1. **Perfil de Alto Riesgo**: Clientes que tienen simultáneamente:\n",
    "\n",
    "    * **Contrato**: `Month-to-month`\n",
    "    * **Servicio de Internet**: `Fiber optic`\n",
    "***Análisis***: Este grupo consta de `2,128` clientes, y su tasa de evasión es del `54.61%`.\n",
    "\n",
    "2. **Perfil de Ultra Alto Riesgo**: Clientes que cumplen con este y el perfil anterior:\n",
    "\n",
    "    * No tienen Soporte Técnico (`TechSupport` = No)\n",
    "\n",
    "***Análisis***: Este subgrupo, aún más específico, consta de `1,796` clientes, y su tasa de evasión se eleva al `57.52%`.\n",
    "\n",
    "#### Insight Final para el Negocio:\n",
    "\n",
    "He identificado un segmento muy grande (`2,128` clientes) que tiene una probabilidad de más del `50%` de abandonar la compañía, y dentro de ese grupo, un subconjunto casi igual de grande (`1,796` clientes) tiene un riesgo aún mayor, por lo que una estrategia de retención dirigida a ofrecer **contratos a más largo plazo** o a incentivar la **contratación de Soporte Técnico** para este segmento podría tener un impacto masivo y medible en la reducción de la evasión general."
   ]
  },
  {
   "cell_type": "markdown",
   "id": "52c79e34",
   "metadata": {},
   "source": [
    "### 💾 Guardado de DB Final"
   ]
  },
  {
   "cell_type": "code",
   "execution_count": 23,
   "id": "0c2fdfbe",
   "metadata": {},
   "outputs": [],
   "source": [
    "# Guardar el DataFrame final en un archivo CSV\n",
    "df_final.to_csv('telecom_churn_cleaned_data.csv', index=False)"
   ]
  },
  {
   "cell_type": "markdown",
   "id": "1e46dfa0",
   "metadata": {},
   "source": [
    "## 📄 4. Informe final"
   ]
  },
  {
   "cell_type": "markdown",
   "id": "64a11cd8",
   "metadata": {},
   "source": [
    "### Introducción\n",
    "El presente análisis se llevó a cabo con el objetivo de identificar los factores clave que impulsan la evasión de clientes (`Churn`) en **Telecom X**. La compañía enfrenta una tasa de evasión general del `26.54%`, lo que significa que más de uno de cada cuatro clientes ha optado por cancelar su servicio. Esta cifra representa una pérdida significativa de ingresos y una oportunidad crítica para mejorar la retención.\n",
    "\n",
    "Este informe resume el proceso de análisis de datos, presenta los hallazgos más relevantes y concluye con una serie de recomendaciones estratégicas basadas en evidencia para mitigar el problema.\n",
    "\n",
    "### 1. Limpieza y Tratamiento de Datos\n",
    "\n",
    "Para asegurar la fiabilidad de nuestras conclusiones, se realizó un exhaustivo proceso de preparación de datos, que incluyó:\n",
    "\n",
    "* **Extracción y Normalización**: Se cargaron los datos desde su formato original **JSON** y se transformaron de una estructura anidada a un formato tabular plano.\n",
    "\n",
    "* **Limpieza de Datos**: Se identificaron y estandarizaron valores vacíos que estaban representados como texto. Se manejaron los registros con datos faltantes, eliminando aquellos donde la información de evasión era irrecuperable (`224` registros) e imputando otros basándonos en la lógica del negocio (ej. clientes nuevos con gasto total cero).\n",
    "\n",
    "* **Optimización de Tipos de Datos**: Se convirtieron las columnas de texto a formatos numéricos y categóricos más eficientes, reduciendo el uso de memoria y preparando el dataset para el análisis y modelado.\n",
    "\n",
    "* **Ingeniería de Características (Feature Engineering)**: Se creó la columna Cuentas_Diarias para proporcionar una métrica adicional sobre el comportamiento de gasto del cliente.\n",
    "\n",
    "El resultado es un dataset robusto, limpio y coherente, listo para la analítica avanzada.\n",
    "\n",
    "### 2. Análisis Exploratorio y Hallazgos Clave\n",
    "\n",
    "El análisis de los datos reveló que la evasión no es un fenómeno aleatorio, sino que se concentra fuertemente en segmentos de clientes con características muy específicas.\n",
    "\n",
    "**A.** El **Contrato** es el Factor Más Determinante\n",
    "\n",
    "* Los clientes con contratos Mes a mes tienen una tasa de evasión del `42.71%`, mientras que esta cifra se desploma al `11.27%` para contratos de Un año y a un mínimo del `2.83%` para los de Dos años. ***La falta de un compromiso a largo plazo es el principal factor de riesgo.***\n",
    "\n",
    "**B.** El Perfil de **Servicios** Contratados Revela Riesgos y Oportunidades\n",
    "\n",
    "* **Internet de Fibra Óptica**: Este servicio premium está asociado a una alta tasa de evasión (`41.89%`). Esto sugiere que, a pesar de la calidad del servicio, factores como el precio o la competencia están provocando la pérdida de estos clientes.\n",
    "* **Servicios de Soporte y Seguridad como Anclas de Retención**: Los servicios adicionales no son solo una fuente de ingresos, sino herramientas de retención cruciales. Clientes sin Soporte Técnico tienen una tasa de evasión del `41.64%` (vs. `15.17%` para los que sí lo tienen). De igual manera, clientes sin Seguridad en Línea se van a una tasa del `41.76%` (vs. `14.61%`).\n",
    "\n",
    "**C.** Procesos de **Facturación** y Pagos como Puntos de Fricción\n",
    "\n",
    "* Los clientes que pagan con Cheque electrónico presentan una alarmante tasa de evasión del `45.26%`.\n",
    "\n",
    "* Aquellos con Facturación sin Papel también muestran una mayor propensión a irse (`33.59%` vs. `16.33%`).\n",
    "\n",
    "Estos hallazgos sugieren que los métodos de pago manuales y los procesos de facturación digital pueden estar generando una mala experiencia de cliente.\n",
    "\n",
    "**D.** **Síntesis**: Identificación de Segmentos de \"***Ultra Alto Riesgo***\"\n",
    "\n",
    "Al combinar los factores anteriores, identificamos dos perfiles de clientes cuya probabilidad de evasión es dramáticamente alta:\n",
    "\n",
    "* **Perfil de Alto Riesgo** (`54.61%` de Evasión): Clientes con *Contrato Mes a Mes* y servicio de *Fibra Óptica*. Este grupo representa a `2,128` clientes.\n",
    "\n",
    "* **Perfil de Ultra Alto Riesgo** (`57.52%` de Evasión): Si al perfil anterior le sumamos la falta de *Soporte Técnico*, nos quedamos con un segmento de `1,796` clientes cuya probabilidad de abandono es más del doble de la media de la empresa.\n",
    "\n",
    "### 3. Conclusiones e Insights\n",
    "\n",
    "**El `Churn` está Concentrado**: La pérdida de clientes no es generalizada, sino que está impulsada por perfiles de clientes claramente identificables y predecibles.\n",
    "\n",
    "**La Flexibilidad Mata la Lealtad**: El contrato mes a mes, si bien es atractivo para los clientes, es el principal vehículo de la evasión.\n",
    "\n",
    "**Los Servicios Adicionales son Herramientas de Retención**: Servicios como el *Soporte Técnico* y la *Seguridad en Línea* crean \"pegajosidad\" (**stickiness**), haciendo que los clientes estén más integrados y satisfechos con el ecosistema de la empresa.\n",
    "\n",
    "**La Experiencia de Pago es Crítica**: Un proceso de pago engorroso o poco fiable (como el cheque electrónico) es un fuerte repelente de clientes.\n",
    "\n",
    "### 4. Recomendaciones Estratégicas\n",
    "\n",
    "Basado en los hallazgos, se proponen las siguientes acciones para reducir la tasa de evasión:\n",
    "\n",
    "* Implementar **Campañas** de Migración de Contrato:\n",
    "\n",
    "    * *Acción*: Diseñar y ejecutar campañas de **marketing proactivas dirigidas al \"Perfil de Alto Riesgo\"** para incentivarlos a *migrar de un contrato Mes a Mes a uno de Un Año*, ofreciendo un descuento en la tarifa mensual o un servicio adicional gratuito durante los primeros meses, empresas como Canva y Microsoft las promocionan constantemente.\n",
    "\n",
    "* Crear **Paquetes** de \"Retención y Protección\":\n",
    "\n",
    "    * *Acción*: Para los clientes de *Fibra Óptica* (especialmente los nuevos), **empaquetar de forma atractiva el Soporte Técnico y la Seguridad en Línea**. Se podría ofrecer el primer año de estos servicios con un descuento significativo para aumentar su adopción y, por ende, la retención.\n",
    "\n",
    "* Optimizar la **Experiencia de Pago**:\n",
    "\n",
    "    * *Acción*: Investigar y mejorar el flujo de pago con Cheque electrónico y el sistema de Facturación sin Papel. Simultáneamente, **crear incentivos** (ej. un pequeño descuento único) para que los clientes cambien a **métodos de pago automáticos** y más fiables como la **domiciliación** bancaria o la tarjeta de crédito.\n",
    "\n",
    "* Desarrollar un **Modelo Predictivo** de Churn:\n",
    "\n",
    "    * *Acción*: Utilizar este informe como la base para que el equipo de Data Science construya un modelo de machine learning, este modelo podrá asignar una \"**puntuación de riesgo de evasión**\" a cada cliente mensualmente, permitiendo al equipo de retención actuar de forma preventiva y personalizada antes de que el cliente decida irse."
   ]
  }
 ],
 "metadata": {
  "kernelspec": {
   "display_name": ".venv",
   "language": "python",
   "name": "python3"
  },
  "language_info": {
   "codemirror_mode": {
    "name": "ipython",
    "version": 3
   },
   "file_extension": ".py",
   "mimetype": "text/x-python",
   "name": "python",
   "nbconvert_exporter": "python",
   "pygments_lexer": "ipython3",
   "version": "3.13.7"
  }
 },
 "nbformat": 4,
 "nbformat_minor": 5
}
